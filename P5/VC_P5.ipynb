{
 "cells": [
  {
   "cell_type": "code",
   "execution_count": 1,
   "metadata": {},
   "outputs": [],
   "source": [
    "import cv2\n",
    "import dlib\n",
    "import time\n"
   ]
  },
  {
   "cell_type": "code",
   "execution_count": 2,
   "metadata": {},
   "outputs": [],
   "source": [
    "# Descargar herramientas de c++https://visualstudio.microsoft.com/es/visual-cpp-build-tools/\n",
    "# Descargar el modelo desde: http://dlib.net/files/shape_predictor_68_face_landmarks.dat.bz2\n",
    "\n",
    "# Ruta al modelo preentrenado de predicción de 68 puntos de landmarks\n",
    "predictor_path = \"shape_predictor_68_face_landmarks.dat\"\n",
    "\n",
    "# Cargar el detector de rostros y el predictor de landmarks\n",
    "detector = dlib.get_frontal_face_detector()\n",
    "predictor = dlib.shape_predictor(predictor_path)"
   ]
  },
  {
   "cell_type": "code",
   "execution_count": null,
   "metadata": {},
   "outputs": [
    {
     "ename": "error",
     "evalue": "OpenCV(4.10.0) D:\\a\\opencv-python\\opencv-python\\opencv\\modules\\imgproc\\src\\resize.cpp:4152: error: (-215:Assertion failed) !ssize.empty() in function 'cv::resize'\n",
     "output_type": "error",
     "traceback": [
      "\u001b[1;31m---------------------------------------------------------------------------\u001b[0m",
      "\u001b[1;31merror\u001b[0m                                     Traceback (most recent call last)",
      "Cell \u001b[1;32mIn[5], line 56\u001b[0m\n\u001b[0;32m     53\u001b[0m head_height \u001b[38;5;241m=\u001b[39m \u001b[38;5;28mint\u001b[39m(\u001b[38;5;241m1.3\u001b[39m \u001b[38;5;241m*\u001b[39m \u001b[38;5;28mabs\u001b[39m(chin[\u001b[38;5;241m1\u001b[39m] \u001b[38;5;241m-\u001b[39m left_eye[\u001b[38;5;241m1\u001b[39m]))   \u001b[38;5;66;03m# Altura del sombrero\u001b[39;00m\n\u001b[0;32m     55\u001b[0m \u001b[38;5;66;03m# Redimensionar el sombrero de Chopper\u001b[39;00m\n\u001b[1;32m---> 56\u001b[0m resized_chopper_hat \u001b[38;5;241m=\u001b[39m \u001b[43mcv2\u001b[49m\u001b[38;5;241;43m.\u001b[39;49m\u001b[43mresize\u001b[49m\u001b[43m(\u001b[49m\u001b[43mchopper_hat\u001b[49m\u001b[43m,\u001b[49m\u001b[43m \u001b[49m\u001b[43m(\u001b[49m\u001b[43mhead_width\u001b[49m\u001b[43m,\u001b[49m\u001b[43m \u001b[49m\u001b[43mhead_height\u001b[49m\u001b[43m)\u001b[49m\u001b[43m)\u001b[49m\n\u001b[0;32m     58\u001b[0m \u001b[38;5;66;03m# Posición del sombrero: centrado sobre la frente\u001b[39;00m\n\u001b[0;32m     59\u001b[0m hat_pos_x \u001b[38;5;241m=\u001b[39m left_eye[\u001b[38;5;241m0\u001b[39m] \u001b[38;5;241m-\u001b[39m head_width \u001b[38;5;241m/\u001b[39m\u001b[38;5;241m/\u001b[39m \u001b[38;5;241m4\u001b[39m\n",
      "\u001b[1;31merror\u001b[0m: OpenCV(4.10.0) D:\\a\\opencv-python\\opencv-python\\opencv\\modules\\imgproc\\src\\resize.cpp:4152: error: (-215:Assertion failed) !ssize.empty() in function 'cv::resize'\n"
     ]
    },
    {
     "ename": "",
     "evalue": "",
     "output_type": "error",
     "traceback": [
      "\u001b[1;31mThe Kernel crashed while executing code in the current cell or a previous cell. \n",
      "\u001b[1;31mPlease review the code in the cell(s) to identify a possible cause of the failure. \n",
      "\u001b[1;31mClick <a href='https://aka.ms/vscodeJupyterKernelCrash'>here</a> for more info. \n",
      "\u001b[1;31mView Jupyter <a href='command:jupyter.viewOutput'>log</a> for further details."
     ]
    }
   ],
   "source": [
    "import cv2\n",
    "import dlib\n",
    "import numpy as np\n",
    "\n",
    "# Ruta al modelo de predicción de landmarks faciales\n",
    "predictor_path = \"shape_predictor_68_face_landmarks.dat\"\n",
    "\n",
    "# Cargar el detector de rostros y el predictor de landmarks\n",
    "detector = dlib.get_frontal_face_detector()\n",
    "predictor = dlib.shape_predictor(predictor_path)\n",
    "video_capture = cv2.VideoCapture(0)\n",
    "\n",
    "# Cargar la imagen del sombrero de Chopper con fondo transparente\n",
    "chopper_hat = cv2.imread(\"/mnt/data/chopper_hat.png\", cv2.IMREAD_UNCHANGED)  # Ruta completa al sombrero de Chopper\n",
    "\n",
    "def overlay_image(background, overlay, pos_x, pos_y):\n",
    "    \"\"\"\n",
    "    Superpone una imagen con canal alfa sobre otra imagen en una posición específica.\n",
    "    \"\"\"\n",
    "    h, w = overlay.shape[:2]\n",
    "    if pos_y + h >= background.shape[0] or pos_x + w >= background.shape[1]:\n",
    "        return background  # No dibujar si se sale de la imagen\n",
    "    \n",
    "    # Recortar si el overlay se sale de los límites del frame\n",
    "    overlay_crop = overlay\n",
    "    if pos_y + h > background.shape[0]:\n",
    "        overlay_crop = overlay_crop[:background.shape[0] - pos_y, :]\n",
    "    if pos_x + w > background.shape[1]:\n",
    "        overlay_crop = overlay_crop[:, :background.shape[1] - pos_x]\n",
    "    \n",
    "    alpha_overlay = overlay_crop[:, :, 3] / 255.0  # Canal alfa para transparencia\n",
    "    for c in range(0, 3):\n",
    "        background[pos_y:pos_y+overlay_crop.shape[0], pos_x:pos_x+overlay_crop.shape[1], c] = \\\n",
    "            (1 - alpha_overlay) * background[pos_y:pos_y+overlay_crop.shape[0], pos_x:pos_x+overlay_crop.shape[1], c] + \\\n",
    "            alpha_overlay * overlay_crop[:, :, c]\n",
    "    return background\n",
    "\n",
    "while True:\n",
    "    ret, frame = video_capture.read()\n",
    "    gray = cv2.cvtColor(frame, cv2.COLOR_BGR2GRAY)\n",
    "    faces = detector(gray)\n",
    "\n",
    "    for face in faces:\n",
    "        landmarks = predictor(gray, face)\n",
    "\n",
    "        # Obtener puntos clave de los ojos y el mentón para el tamaño y posición del sombrero\n",
    "        left_eye = (landmarks.part(36).x, landmarks.part(36).y)\n",
    "        right_eye = (landmarks.part(45).x, landmarks.part(45).y)\n",
    "        chin = (landmarks.part(8).x, landmarks.part(8).y)\n",
    "\n",
    "        # Calcular escala para que el sombrero cubra toda la cabeza\n",
    "        head_width = int(1.8 * (right_eye[0] - left_eye[0]))  # Anchura del sombrero\n",
    "        head_height = int(1.3 * abs(chin[1] - left_eye[1]))   # Altura del sombrero\n",
    "        \n",
    "        # Redimensionar el sombrero de Chopper\n",
    "        resized_chopper_hat = cv2.resize(chopper_hat, (head_width, head_height))\n",
    "        \n",
    "        # Posición del sombrero: centrado sobre la frente\n",
    "        hat_pos_x = left_eye[0] - head_width // 4\n",
    "        hat_pos_y = left_eye[1] - head_height\n",
    "\n",
    "        # Superponer el sombrero en la imagen\n",
    "        overlay_image(frame, resized_chopper_hat, hat_pos_x, hat_pos_y)\n",
    "\n",
    "    # Mostrar la imagen con el sombrero de Chopper superpuesto\n",
    "    cv2.imshow(\"Filtro de One Piece\", frame)\n",
    "    if cv2.waitKey(5) & 0xFF == ord(\"q\"):\n",
    "        break\n",
    "\n",
    "video_capture.release()\n",
    "cv2.destroyAllWindows()\n"
   ]
  }
 ],
 "metadata": {
  "kernelspec": {
   "display_name": "VC_P5",
   "language": "python",
   "name": "python3"
  },
  "language_info": {
   "codemirror_mode": {
    "name": "ipython",
    "version": 3
   },
   "file_extension": ".py",
   "mimetype": "text/x-python",
   "name": "python",
   "nbconvert_exporter": "python",
   "pygments_lexer": "ipython3",
   "version": "3.11.5"
  }
 },
 "nbformat": 4,
 "nbformat_minor": 2
}
