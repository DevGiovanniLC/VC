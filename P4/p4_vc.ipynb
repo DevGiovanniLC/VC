{
  "cells": [
    // ...existing code...
    {
      "cell_type": "code",
      "metadata": {},
      "source": [
        "import cv2\n",
        "import matplotlib.pyplot as plt\n",
        "\n",
        "# Load the image\n",
        "image = cv2.imread('path_to_license_image.jpg')\n",
        "\n",
        "# Define the rectangle's top-left and bottom-right points\n",
        "top_left = (x1, y1)\n",
        "bottom_right = (x2, y2)\n",
        "\n",
        "# Draw the rectangle\n",
        "cv2.rectangle(image, top_left, bottom_right, (0, 255, 0), 3)\n",
        "\n",
        "# Convert the image to RGB (OpenCV uses BGR by default)\n",
        "image_rgb = cv2.cvtColor(image, cv2.COLOR_BGR2RGB)\n",
        "\n",
        "# Display the image\n",
        "plt.imshow(image_rgb)\n",
        "plt.axis('off')\n",
        "plt.show()\n"
      ]
    }
    // ...existing code...
  ]
}
