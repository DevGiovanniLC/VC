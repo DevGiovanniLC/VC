{
 "cells": [
  {
   "cell_type": "code",
   "execution_count": 1,
   "metadata": {},
   "outputs": [],
   "source": [
    "import os\n",
    "os.environ[\"KMP_DUPLICATE_LIB_OK\"] = \"TRUE\""
   ]
  },
  {
   "cell_type": "code",
   "execution_count": null,
   "metadata": {},
   "outputs": [],
   "source": [
    "import os\n",
    "from PIL import Image, ImageDraw\n",
    "import matplotlib.pyplot as plt\n",
    "\n",
    "# Ruta de las carpetas para train, val y test\n",
    "base_path = './datasets/matriculas-españolas'\n",
    "sets = ['train', 'val', 'test']\n",
    "\n",
    "# Asignar ID de clase para la etiqueta \"matricula\"\n",
    "class_id = 0  # Se supone que todas son de clase matricula\n",
    "\n",
    "# Función para dibujar el rectángulo en la imagen\n",
    "def draw_rectangle_yolo(image, label_path):\n",
    "    with open(label_path, 'r') as f:\n",
    "        for line in f:\n",
    "            parts = line.strip().split()\n",
    "            if int(parts[0]) == class_id:\n",
    "                x_center, y_center, width, height = map(float, parts[1:])\n",
    "                \n",
    "                # Calcular coordenadas absolutas del bounding box\n",
    "                img_width, img_height = image.size\n",
    "                x_center *= img_width\n",
    "                y_center *= img_height\n",
    "                width *= img_width\n",
    "                height *= img_height\n",
    "                \n",
    "                x_min = int(x_center - width / 2)\n",
    "                y_min = int(y_center - height / 2)\n",
    "                x_max = int(x_center + width / 2)\n",
    "                y_max = int(y_center + height / 2)\n",
    "\n",
    "                # Dibujar el rectángulo\n",
    "                draw = ImageDraw.Draw(image)\n",
    "                draw.rectangle([x_min, y_min, x_max, y_max], outline='red', width=3)\n",
    "\n",
    "# Leer y procesar las imágenes y etiquetas en cada subcarpeta\n",
    "for set_type in sets:\n",
    "    images_path = os.path.join(base_path, set_type, 'images')\n",
    "    labels_path = os.path.join(base_path, set_type, 'labels')\n",
    "    \n",
    "    for image_file in os.listdir(images_path):\n",
    "        if image_file.endswith('.jpg') or image_file.endswith('.png'):\n",
    "            image_path = os.path.join(images_path, image_file)\n",
    "            label_file = os.path.splitext(image_file)[0] + '.txt'\n",
    "            label_path = os.path.join(labels_path, label_file)\n",
    "            \n",
    "            if not os.path.exists(label_path):\n",
    "                print(f\"Etiqueta no encontrada para {image_file}\")\n",
    "                continue\n",
    "            \n",
    "            # Cargar la imagen\n",
    "            image = Image.open(image_path)\n",
    "            \n",
    "            # Dibujar los bounding boxes\n",
    "            draw_rectangle_yolo(image, label_path)\n",
    "            \n",
    "            # Mostrar la imagen con el bounding box\n",
    "            plt.figure(figsize=(8, 6))\n",
    "            plt.imshow(image)\n",
    "            plt.title(f\"{set_type.capitalize()} - {image_file}\")\n",
    "            plt.axis('off')\n",
    "            plt.show()\n"
   ]
  },
  {
   "cell_type": "code",
   "execution_count": 2,
   "metadata": {},
   "outputs": [
    {
     "name": "stdout",
     "output_type": "stream",
     "text": [
      "GPU disponible:  True\n",
      "Ultralytics 8.3.23  Python-3.10.15 torch-2.5.0 CUDA:0 (NVIDIA GeForce RTX 2060, 6144MiB)\n",
      "\u001b[34m\u001b[1mengine\\trainer: \u001b[0mtask=detect, mode=train, model=yolo11n.pt, data=matriculas.yaml, epochs=150, time=None, patience=25, batch=32, imgsz=640, save=True, save_period=-1, cache=False, device=cuda, workers=4, project=None, name=train32, exist_ok=False, pretrained=True, optimizer=auto, verbose=True, seed=0, deterministic=True, single_cls=True, rect=False, cos_lr=False, close_mosaic=10, resume=False, amp=True, fraction=1.0, profile=False, freeze=None, multi_scale=True, overlap_mask=True, mask_ratio=4, dropout=0.0, val=True, split=val, save_json=False, save_hybrid=False, conf=None, iou=0.7, max_det=300, half=False, dnn=False, plots=True, source=None, vid_stride=1, stream_buffer=False, visualize=False, augment=True, agnostic_nms=False, classes=None, retina_masks=False, embed=None, show=False, save_frames=False, save_txt=False, save_conf=False, save_crop=False, show_labels=True, show_conf=True, show_boxes=True, line_width=None, format=torchscript, keras=False, optimize=False, int8=False, dynamic=False, simplify=True, opset=None, workspace=4, nms=False, lr0=0.0001, lrf=0.01, momentum=0.937, weight_decay=0.0001, warmup_epochs=3.0, warmup_momentum=0.8, warmup_bias_lr=0.1, box=7.5, cls=0.5, dfl=1.5, pose=12.0, kobj=1.0, label_smoothing=0.0, nbs=64, hsv_h=0.015, hsv_s=0.7, hsv_v=0.4, degrees=0.0, translate=0.1, scale=0.5, shear=0.0, perspective=0.0, flipud=0.0, fliplr=0.5, bgr=0.0, mosaic=1.0, mixup=0.0, copy_paste=0.0, copy_paste_mode=flip, auto_augment=randaugment, erasing=0.4, crop_fraction=1.0, cfg=None, tracker=botsort.yaml, save_dir=runs\\detect\\train32\n",
      "Overriding model.yaml nc=80 with nc=1\n",
      "\n",
      "                   from  n    params  module                                       arguments                     \n",
      "  0                  -1  1       464  ultralytics.nn.modules.conv.Conv             [3, 16, 3, 2]                 \n",
      "  1                  -1  1      4672  ultralytics.nn.modules.conv.Conv             [16, 32, 3, 2]                \n",
      "  2                  -1  1      6640  ultralytics.nn.modules.block.C3k2            [32, 64, 1, False, 0.25]      \n",
      "  3                  -1  1     36992  ultralytics.nn.modules.conv.Conv             [64, 64, 3, 2]                \n",
      "  4                  -1  1     26080  ultralytics.nn.modules.block.C3k2            [64, 128, 1, False, 0.25]     \n",
      "  5                  -1  1    147712  ultralytics.nn.modules.conv.Conv             [128, 128, 3, 2]              \n",
      "  6                  -1  1     87040  ultralytics.nn.modules.block.C3k2            [128, 128, 1, True]           \n",
      "  7                  -1  1    295424  ultralytics.nn.modules.conv.Conv             [128, 256, 3, 2]              \n",
      "  8                  -1  1    346112  ultralytics.nn.modules.block.C3k2            [256, 256, 1, True]           \n",
      "  9                  -1  1    164608  ultralytics.nn.modules.block.SPPF            [256, 256, 5]                 \n",
      " 10                  -1  1    249728  ultralytics.nn.modules.block.C2PSA           [256, 256, 1]                 \n",
      " 11                  -1  1         0  torch.nn.modules.upsampling.Upsample         [None, 2, 'nearest']          \n",
      " 12             [-1, 6]  1         0  ultralytics.nn.modules.conv.Concat           [1]                           \n",
      " 13                  -1  1    111296  ultralytics.nn.modules.block.C3k2            [384, 128, 1, False]          \n",
      " 14                  -1  1         0  torch.nn.modules.upsampling.Upsample         [None, 2, 'nearest']          \n",
      " 15             [-1, 4]  1         0  ultralytics.nn.modules.conv.Concat           [1]                           \n",
      " 16                  -1  1     32096  ultralytics.nn.modules.block.C3k2            [256, 64, 1, False]           \n",
      " 17                  -1  1     36992  ultralytics.nn.modules.conv.Conv             [64, 64, 3, 2]                \n",
      " 18            [-1, 13]  1         0  ultralytics.nn.modules.conv.Concat           [1]                           \n",
      " 19                  -1  1     86720  ultralytics.nn.modules.block.C3k2            [192, 128, 1, False]          \n",
      " 20                  -1  1    147712  ultralytics.nn.modules.conv.Conv             [128, 128, 3, 2]              \n",
      " 21            [-1, 10]  1         0  ultralytics.nn.modules.conv.Concat           [1]                           \n",
      " 22                  -1  1    378880  ultralytics.nn.modules.block.C3k2            [384, 256, 1, True]           \n",
      " 23        [16, 19, 22]  1    430867  ultralytics.nn.modules.head.Detect           [1, [64, 128, 256]]           \n",
      "YOLO11n summary: 319 layers, 2,590,035 parameters, 2,590,019 gradients, 6.4 GFLOPs\n",
      "\n",
      "Transferred 448/499 items from pretrained weights\n",
      "Freezing layer 'model.23.dfl.conv.weight'\n",
      "\u001b[34m\u001b[1mAMP: \u001b[0mrunning Automatic Mixed Precision (AMP) checks...\n",
      "\u001b[34m\u001b[1mAMP: \u001b[0mchecks passed \n"
     ]
    },
    {
     "name": "stderr",
     "output_type": "stream",
     "text": [
      "\u001b[34m\u001b[1mtrain: \u001b[0mScanning C:\\Users\\elena\\VC\\P4\\datasets\\matriculas-españolas\\train\\labels.cache... 201 images, 2 backgrounds, 0 corrupt: 100%|██████████| 203/203 [00:00<?, ?it/s]\n",
      "\u001b[34m\u001b[1mval: \u001b[0mScanning C:\\Users\\elena\\VC\\P4\\datasets\\matriculas-españolas\\val\\labels.cache... 58 images, 0 backgrounds, 0 corrupt: 100%|██████████| 58/58 [00:00<?, ?it/s]\n"
     ]
    },
    {
     "name": "stdout",
     "output_type": "stream",
     "text": [
      "Plotting labels to runs\\detect\\train32\\labels.jpg... \n",
      "\u001b[34m\u001b[1moptimizer:\u001b[0m 'optimizer=auto' found, ignoring 'lr0=0.0001' and 'momentum=0.937' and determining best 'optimizer', 'lr0' and 'momentum' automatically... \n",
      "\u001b[34m\u001b[1moptimizer:\u001b[0m AdamW(lr=0.002, momentum=0.9) with parameter groups 81 weight(decay=0.0), 88 weight(decay=0.0001), 87 bias(decay=0.0)\n",
      "Image sizes 640 train, 640 val\n",
      "Using 4 dataloader workers\n",
      "Logging results to \u001b[1mruns\\detect\\train32\u001b[0m\n",
      "Starting training for 150 epochs...\n",
      "\n",
      "      Epoch    GPU_mem   box_loss   cls_loss   dfl_loss  Instances       Size\n"
     ]
    },
    {
     "name": "stderr",
     "output_type": "stream",
     "text": [
      "      1/150      8.64G      1.735      4.591      1.535         21        704: 100%|██████████| 7/7 [00:15<00:00,  2.22s/it]\n",
      "                 Class     Images  Instances      Box(P          R      mAP50  mAP50-95): 100%|██████████| 1/1 [00:00<00:00,  1.70it/s]"
     ]
    },
    {
     "name": "stdout",
     "output_type": "stream",
     "text": [
      "                   all         58         58   0.000115     0.0345   5.96e-05   2.06e-05\n"
     ]
    },
    {
     "name": "stderr",
     "output_type": "stream",
     "text": [
      "\n"
     ]
    },
    {
     "name": "stdout",
     "output_type": "stream",
     "text": [
      "\n",
      "      Epoch    GPU_mem   box_loss   cls_loss   dfl_loss  Instances       Size\n"
     ]
    },
    {
     "name": "stderr",
     "output_type": "stream",
     "text": [
      "      2/150      9.14G      1.124      3.705      1.064         17        448: 100%|██████████| 7/7 [00:12<00:00,  1.76s/it]\n",
      "                 Class     Images  Instances      Box(P          R      mAP50  mAP50-95): 100%|██████████| 1/1 [00:01<00:00,  1.02s/it]"
     ]
    },
    {
     "name": "stdout",
     "output_type": "stream",
     "text": [
      "                   all         58         58    0.00333          1      0.859      0.512\n"
     ]
    },
    {
     "name": "stderr",
     "output_type": "stream",
     "text": [
      "\n"
     ]
    },
    {
     "name": "stdout",
     "output_type": "stream",
     "text": [
      "\n",
      "      Epoch    GPU_mem   box_loss   cls_loss   dfl_loss  Instances       Size\n"
     ]
    },
    {
     "name": "stderr",
     "output_type": "stream",
     "text": [
      "      3/150      9.23G      1.224      2.827      1.076         23        928: 100%|██████████| 7/7 [00:11<00:00,  1.67s/it]\n",
      "                 Class     Images  Instances      Box(P          R      mAP50  mAP50-95): 100%|██████████| 1/1 [00:01<00:00,  1.23s/it]"
     ]
    },
    {
     "name": "stdout",
     "output_type": "stream",
     "text": [
      "                   all         58         58    0.00333          1      0.756      0.362\n"
     ]
    },
    {
     "name": "stderr",
     "output_type": "stream",
     "text": [
      "\n"
     ]
    },
    {
     "name": "stdout",
     "output_type": "stream",
     "text": [
      "\n",
      "      Epoch    GPU_mem   box_loss   cls_loss   dfl_loss  Instances       Size\n"
     ]
    },
    {
     "name": "stderr",
     "output_type": "stream",
     "text": [
      "      4/150         7G      1.155      2.021      1.035         17        864: 100%|██████████| 7/7 [00:04<00:00,  1.73it/s]\n",
      "                 Class     Images  Instances      Box(P          R      mAP50  mAP50-95): 100%|██████████| 1/1 [00:00<00:00,  1.77it/s]"
     ]
    },
    {
     "name": "stdout",
     "output_type": "stream",
     "text": [
      "                   all         58         58    0.00333          1     0.0703     0.0296\n"
     ]
    },
    {
     "name": "stderr",
     "output_type": "stream",
     "text": [
      "\n"
     ]
    },
    {
     "name": "stdout",
     "output_type": "stream",
     "text": [
      "\n",
      "      Epoch    GPU_mem   box_loss   cls_loss   dfl_loss  Instances       Size\n"
     ]
    },
    {
     "name": "stderr",
     "output_type": "stream",
     "text": [
      "      5/150      11.9G      1.125      2.025      1.037         19        512: 100%|██████████| 7/7 [00:12<00:00,  1.76s/it]\n",
      "                 Class     Images  Instances      Box(P          R      mAP50  mAP50-95): 100%|██████████| 1/1 [00:00<00:00,  2.00it/s]"
     ]
    },
    {
     "name": "stdout",
     "output_type": "stream",
     "text": [
      "                   all         58         58    0.00333          1    0.00722    0.00408\n"
     ]
    },
    {
     "name": "stderr",
     "output_type": "stream",
     "text": [
      "\n"
     ]
    },
    {
     "name": "stdout",
     "output_type": "stream",
     "text": [
      "\n",
      "      Epoch    GPU_mem   box_loss   cls_loss   dfl_loss  Instances       Size\n"
     ]
    },
    {
     "name": "stderr",
     "output_type": "stream",
     "text": [
      "      6/150      7.76G      1.027      1.931      1.029         21        864: 100%|██████████| 7/7 [00:14<00:00,  2.05s/it]\n",
      "                 Class     Images  Instances      Box(P          R      mAP50  mAP50-95): 100%|██████████| 1/1 [00:01<00:00,  1.09s/it]"
     ]
    },
    {
     "name": "stdout",
     "output_type": "stream",
     "text": [
      "                   all         58         58    0.00333          1    0.00589    0.00385\n"
     ]
    },
    {
     "name": "stderr",
     "output_type": "stream",
     "text": [
      "\n"
     ]
    },
    {
     "name": "stdout",
     "output_type": "stream",
     "text": [
      "\n",
      "      Epoch    GPU_mem   box_loss   cls_loss   dfl_loss  Instances       Size\n"
     ]
    },
    {
     "name": "stderr",
     "output_type": "stream",
     "text": [
      "      7/150        10G       1.16      1.876      1.014         23        800: 100%|██████████| 7/7 [00:12<00:00,  1.84s/it]\n",
      "                 Class     Images  Instances      Box(P          R      mAP50  mAP50-95): 100%|██████████| 1/1 [00:01<00:00,  1.08s/it]"
     ]
    },
    {
     "name": "stdout",
     "output_type": "stream",
     "text": [
      "                   all         58         58    0.00132      0.397   0.000962   0.000318\n"
     ]
    },
    {
     "name": "stderr",
     "output_type": "stream",
     "text": [
      "\n"
     ]
    },
    {
     "name": "stdout",
     "output_type": "stream",
     "text": [
      "\n",
      "      Epoch    GPU_mem   box_loss   cls_loss   dfl_loss  Instances       Size\n"
     ]
    },
    {
     "name": "stderr",
     "output_type": "stream",
     "text": [
      "      8/150      8.54G      1.039       1.53     0.9539         20        544: 100%|██████████| 7/7 [00:05<00:00,  1.17it/s]\n",
      "                 Class     Images  Instances      Box(P          R      mAP50  mAP50-95): 100%|██████████| 1/1 [00:00<00:00,  1.99it/s]"
     ]
    },
    {
     "name": "stdout",
     "output_type": "stream",
     "text": [
      "                   all         58         58   0.000517      0.155     0.0353     0.0246\n"
     ]
    },
    {
     "name": "stderr",
     "output_type": "stream",
     "text": [
      "\n"
     ]
    },
    {
     "name": "stdout",
     "output_type": "stream",
     "text": [
      "\n",
      "      Epoch    GPU_mem   box_loss   cls_loss   dfl_loss  Instances       Size\n"
     ]
    },
    {
     "name": "stderr",
     "output_type": "stream",
     "text": [
      "      9/150       7.9G      1.132      1.574      1.016         24        640: 100%|██████████| 7/7 [00:08<00:00,  1.18s/it]\n",
      "                 Class     Images  Instances      Box(P          R      mAP50  mAP50-95): 100%|██████████| 1/1 [00:00<00:00,  1.08it/s]"
     ]
    },
    {
     "name": "stdout",
     "output_type": "stream",
     "text": [
      "                   all         58         58    0.00138      0.414     0.0849     0.0607\n"
     ]
    },
    {
     "name": "stderr",
     "output_type": "stream",
     "text": [
      "\n"
     ]
    },
    {
     "name": "stdout",
     "output_type": "stream",
     "text": [
      "\n",
      "      Epoch    GPU_mem   box_loss   cls_loss   dfl_loss  Instances       Size\n"
     ]
    },
    {
     "name": "stderr",
     "output_type": "stream",
     "text": [
      "     10/150       9.4G      1.061      1.513     0.9825         20        416: 100%|██████████| 7/7 [00:10<00:00,  1.55s/it]\n",
      "                 Class     Images  Instances      Box(P          R      mAP50  mAP50-95): 100%|██████████| 1/1 [00:00<00:00,  1.70it/s]"
     ]
    },
    {
     "name": "stdout",
     "output_type": "stream",
     "text": [
      "                   all         58         58      0.732     0.0479      0.289      0.205\n"
     ]
    },
    {
     "name": "stderr",
     "output_type": "stream",
     "text": [
      "\n"
     ]
    },
    {
     "name": "stdout",
     "output_type": "stream",
     "text": [
      "\n",
      "      Epoch    GPU_mem   box_loss   cls_loss   dfl_loss  Instances       Size\n"
     ]
    },
    {
     "name": "stderr",
     "output_type": "stream",
     "text": [
      "     11/150      10.3G     0.9581      1.584     0.9977         20        896: 100%|██████████| 7/7 [00:18<00:00,  2.63s/it]\n",
      "                 Class     Images  Instances      Box(P          R      mAP50  mAP50-95): 100%|██████████| 1/1 [00:01<00:00,  1.23s/it]"
     ]
    },
    {
     "name": "stdout",
     "output_type": "stream",
     "text": [
      "                   all         58         58          1       0.16        0.6      0.446\n"
     ]
    },
    {
     "name": "stderr",
     "output_type": "stream",
     "text": [
      "\n"
     ]
    },
    {
     "name": "stdout",
     "output_type": "stream",
     "text": [
      "\n",
      "      Epoch    GPU_mem   box_loss   cls_loss   dfl_loss  Instances       Size\n"
     ]
    },
    {
     "name": "stderr",
     "output_type": "stream",
     "text": [
      "     12/150      9.35G      0.951      1.383     0.9643         22        896: 100%|██████████| 7/7 [00:09<00:00,  1.40s/it]\n",
      "                 Class     Images  Instances      Box(P          R      mAP50  mAP50-95): 100%|██████████| 1/1 [00:00<00:00,  1.44it/s]"
     ]
    },
    {
     "name": "stdout",
     "output_type": "stream",
     "text": [
      "                   all         58         58          1      0.554      0.905      0.679\n"
     ]
    },
    {
     "name": "stderr",
     "output_type": "stream",
     "text": [
      "\n"
     ]
    },
    {
     "name": "stdout",
     "output_type": "stream",
     "text": [
      "\n",
      "      Epoch    GPU_mem   box_loss   cls_loss   dfl_loss  Instances       Size\n"
     ]
    },
    {
     "name": "stderr",
     "output_type": "stream",
     "text": [
      "     13/150      4.21G      1.034      1.264     0.9691         20        928: 100%|██████████| 7/7 [00:01<00:00,  3.87it/s]\n",
      "                 Class     Images  Instances      Box(P          R      mAP50  mAP50-95): 100%|██████████| 1/1 [00:00<00:00,  2.28it/s]"
     ]
    },
    {
     "name": "stdout",
     "output_type": "stream",
     "text": [
      "                   all         58         58      0.962      0.879      0.966       0.71\n"
     ]
    },
    {
     "name": "stderr",
     "output_type": "stream",
     "text": [
      "\n"
     ]
    },
    {
     "name": "stdout",
     "output_type": "stream",
     "text": [
      "\n",
      "      Epoch    GPU_mem   box_loss   cls_loss   dfl_loss  Instances       Size\n"
     ]
    },
    {
     "name": "stderr",
     "output_type": "stream",
     "text": [
      "     14/150      6.83G      1.088      1.155     0.9534         19        352: 100%|██████████| 7/7 [00:05<00:00,  1.26it/s]\n",
      "                 Class     Images  Instances      Box(P          R      mAP50  mAP50-95): 100%|██████████| 1/1 [00:00<00:00,  1.22it/s]"
     ]
    },
    {
     "name": "stdout",
     "output_type": "stream",
     "text": [
      "                   all         58         58      0.883      0.783      0.914      0.626\n"
     ]
    },
    {
     "name": "stderr",
     "output_type": "stream",
     "text": [
      "\n"
     ]
    },
    {
     "name": "stdout",
     "output_type": "stream",
     "text": [
      "\n",
      "      Epoch    GPU_mem   box_loss   cls_loss   dfl_loss  Instances       Size\n"
     ]
    },
    {
     "name": "stderr",
     "output_type": "stream",
     "text": [
      "     15/150      7.81G      1.081      1.265      1.006         17        544: 100%|██████████| 7/7 [00:11<00:00,  1.58s/it]\n",
      "                 Class     Images  Instances      Box(P          R      mAP50  mAP50-95): 100%|██████████| 1/1 [00:00<00:00,  1.01it/s]"
     ]
    },
    {
     "name": "stdout",
     "output_type": "stream",
     "text": [
      "                   all         58         58      0.947      0.828      0.919      0.597\n"
     ]
    },
    {
     "name": "stderr",
     "output_type": "stream",
     "text": [
      "\n"
     ]
    },
    {
     "name": "stdout",
     "output_type": "stream",
     "text": [
      "\n",
      "      Epoch    GPU_mem   box_loss   cls_loss   dfl_loss  Instances       Size\n"
     ]
    },
    {
     "name": "stderr",
     "output_type": "stream",
     "text": [
      "     16/150       8.8G       1.03      1.224      1.001         17        800: 100%|██████████| 7/7 [00:16<00:00,  2.34s/it]\n",
      "                 Class     Images  Instances      Box(P          R      mAP50  mAP50-95): 100%|██████████| 1/1 [00:00<00:00,  1.21it/s]"
     ]
    },
    {
     "name": "stdout",
     "output_type": "stream",
     "text": [
      "                   all         58         58       0.94      0.897      0.942      0.675\n"
     ]
    },
    {
     "name": "stderr",
     "output_type": "stream",
     "text": [
      "\n"
     ]
    },
    {
     "name": "stdout",
     "output_type": "stream",
     "text": [
      "\n",
      "      Epoch    GPU_mem   box_loss   cls_loss   dfl_loss  Instances       Size\n"
     ]
    },
    {
     "name": "stderr",
     "output_type": "stream",
     "text": [
      "     17/150      9.66G      1.054      1.203      1.003         20        800: 100%|██████████| 7/7 [00:18<00:00,  2.68s/it]\n",
      "                 Class     Images  Instances      Box(P          R      mAP50  mAP50-95): 100%|██████████| 1/1 [00:01<00:00,  1.51s/it]"
     ]
    },
    {
     "name": "stdout",
     "output_type": "stream",
     "text": [
      "                   all         58         58      0.982      0.946      0.991      0.683\n"
     ]
    },
    {
     "name": "stderr",
     "output_type": "stream",
     "text": [
      "\n"
     ]
    },
    {
     "name": "stdout",
     "output_type": "stream",
     "text": [
      "\n",
      "      Epoch    GPU_mem   box_loss   cls_loss   dfl_loss  Instances       Size\n"
     ]
    },
    {
     "name": "stderr",
     "output_type": "stream",
     "text": [
      "     18/150        11G     0.9588      1.069     0.9589         20        576: 100%|██████████| 7/7 [00:15<00:00,  2.22s/it]\n",
      "                 Class     Images  Instances      Box(P          R      mAP50  mAP50-95): 100%|██████████| 1/1 [00:01<00:00,  1.11s/it]"
     ]
    },
    {
     "name": "stdout",
     "output_type": "stream",
     "text": [
      "                   all         58         58      0.944      0.966       0.99       0.71\n"
     ]
    },
    {
     "name": "stderr",
     "output_type": "stream",
     "text": [
      "\n"
     ]
    },
    {
     "name": "stdout",
     "output_type": "stream",
     "text": [
      "\n",
      "      Epoch    GPU_mem   box_loss   cls_loss   dfl_loss  Instances       Size\n"
     ]
    },
    {
     "name": "stderr",
     "output_type": "stream",
     "text": [
      "     19/150      6.46G      1.022      1.005      0.976         27        352: 100%|██████████| 7/7 [00:02<00:00,  2.56it/s]\n",
      "                 Class     Images  Instances      Box(P          R      mAP50  mAP50-95): 100%|██████████| 1/1 [00:00<00:00,  1.94it/s]"
     ]
    },
    {
     "name": "stdout",
     "output_type": "stream",
     "text": [
      "                   all         58         58      0.947      0.927      0.951      0.658\n"
     ]
    },
    {
     "name": "stderr",
     "output_type": "stream",
     "text": [
      "\n"
     ]
    },
    {
     "name": "stdout",
     "output_type": "stream",
     "text": [
      "\n",
      "      Epoch    GPU_mem   box_loss   cls_loss   dfl_loss  Instances       Size\n"
     ]
    },
    {
     "name": "stderr",
     "output_type": "stream",
     "text": [
      "     20/150      11.1G     0.9935      1.083     0.9838         23        864: 100%|██████████| 7/7 [00:12<00:00,  1.81s/it]\n",
      "                 Class     Images  Instances      Box(P          R      mAP50  mAP50-95): 100%|██████████| 1/1 [00:00<00:00,  1.01it/s]"
     ]
    },
    {
     "name": "stdout",
     "output_type": "stream",
     "text": [
      "                   all         58         58      0.988      0.948      0.984       0.69\n"
     ]
    },
    {
     "name": "stderr",
     "output_type": "stream",
     "text": [
      "\n"
     ]
    },
    {
     "name": "stdout",
     "output_type": "stream",
     "text": [
      "\n",
      "      Epoch    GPU_mem   box_loss   cls_loss   dfl_loss  Instances       Size\n"
     ]
    },
    {
     "name": "stderr",
     "output_type": "stream",
     "text": [
      "     21/150      11.6G      1.069      1.088      1.017         15        928: 100%|██████████| 7/7 [00:15<00:00,  2.21s/it]\n",
      "                 Class     Images  Instances      Box(P          R      mAP50  mAP50-95): 100%|██████████| 1/1 [00:01<00:00,  1.20s/it]"
     ]
    },
    {
     "name": "stdout",
     "output_type": "stream",
     "text": [
      "                   all         58         58      0.809      0.966      0.942      0.698\n"
     ]
    },
    {
     "name": "stderr",
     "output_type": "stream",
     "text": [
      "\n"
     ]
    },
    {
     "name": "stdout",
     "output_type": "stream",
     "text": [
      "\n",
      "      Epoch    GPU_mem   box_loss   cls_loss   dfl_loss  Instances       Size\n"
     ]
    },
    {
     "name": "stderr",
     "output_type": "stream",
     "text": [
      "     22/150      8.41G      1.136     0.9808     0.9921         17        352: 100%|██████████| 7/7 [00:10<00:00,  1.46s/it]\n",
      "                 Class     Images  Instances      Box(P          R      mAP50  mAP50-95): 100%|██████████| 1/1 [00:00<00:00,  1.25it/s]"
     ]
    },
    {
     "name": "stdout",
     "output_type": "stream",
     "text": [
      "                   all         58         58      0.978      0.983      0.979      0.717\n"
     ]
    },
    {
     "name": "stderr",
     "output_type": "stream",
     "text": [
      "\n"
     ]
    },
    {
     "name": "stdout",
     "output_type": "stream",
     "text": [
      "\n",
      "      Epoch    GPU_mem   box_loss   cls_loss   dfl_loss  Instances       Size\n"
     ]
    },
    {
     "name": "stderr",
     "output_type": "stream",
     "text": [
      "     23/150      8.97G      1.007     0.8982     0.9655         19        512: 100%|██████████| 7/7 [00:12<00:00,  1.82s/it]\n",
      "                 Class     Images  Instances      Box(P          R      mAP50  mAP50-95): 100%|██████████| 1/1 [00:01<00:00,  1.42s/it]"
     ]
    },
    {
     "name": "stdout",
     "output_type": "stream",
     "text": [
      "                   all         58         58       0.87      0.923      0.948      0.732\n"
     ]
    },
    {
     "name": "stderr",
     "output_type": "stream",
     "text": [
      "\n"
     ]
    },
    {
     "name": "stdout",
     "output_type": "stream",
     "text": [
      "\n",
      "      Epoch    GPU_mem   box_loss   cls_loss   dfl_loss  Instances       Size\n"
     ]
    },
    {
     "name": "stderr",
     "output_type": "stream",
     "text": [
      "     24/150      10.2G      1.089      1.007     0.9986         17        576: 100%|██████████| 7/7 [00:12<00:00,  1.75s/it]\n",
      "                 Class     Images  Instances      Box(P          R      mAP50  mAP50-95): 100%|██████████| 1/1 [00:00<00:00,  1.01it/s]"
     ]
    },
    {
     "name": "stdout",
     "output_type": "stream",
     "text": [
      "                   all         58         58      0.964      0.983      0.971      0.746\n"
     ]
    },
    {
     "name": "stderr",
     "output_type": "stream",
     "text": [
      "\n"
     ]
    },
    {
     "name": "stdout",
     "output_type": "stream",
     "text": [
      "\n",
      "      Epoch    GPU_mem   box_loss   cls_loss   dfl_loss  Instances       Size\n"
     ]
    },
    {
     "name": "stderr",
     "output_type": "stream",
     "text": [
      "     25/150      9.89G     0.9567     0.9545     0.9717         24        736: 100%|██████████| 7/7 [00:12<00:00,  1.75s/it]\n",
      "                 Class     Images  Instances      Box(P          R      mAP50  mAP50-95): 100%|██████████| 1/1 [00:01<00:00,  1.04s/it]"
     ]
    },
    {
     "name": "stdout",
     "output_type": "stream",
     "text": [
      "                   all         58         58      0.979      0.966      0.981      0.658\n"
     ]
    },
    {
     "name": "stderr",
     "output_type": "stream",
     "text": [
      "\n"
     ]
    },
    {
     "name": "stdout",
     "output_type": "stream",
     "text": [
      "\n",
      "      Epoch    GPU_mem   box_loss   cls_loss   dfl_loss  Instances       Size\n"
     ]
    },
    {
     "name": "stderr",
     "output_type": "stream",
     "text": [
      "     26/150      9.77G     0.9896     0.8718     0.9763         15        416: 100%|██████████| 7/7 [00:10<00:00,  1.54s/it]\n",
      "                 Class     Images  Instances      Box(P          R      mAP50  mAP50-95): 100%|██████████| 1/1 [00:00<00:00,  1.12it/s]"
     ]
    },
    {
     "name": "stdout",
     "output_type": "stream",
     "text": [
      "                   all         58         58      0.982      0.941      0.977      0.761\n"
     ]
    },
    {
     "name": "stderr",
     "output_type": "stream",
     "text": [
      "\n"
     ]
    },
    {
     "name": "stdout",
     "output_type": "stream",
     "text": [
      "\n",
      "      Epoch    GPU_mem   box_loss   cls_loss   dfl_loss  Instances       Size\n"
     ]
    },
    {
     "name": "stderr",
     "output_type": "stream",
     "text": [
      "     27/150      9.27G     0.9275     0.8746     0.9507         11        480: 100%|██████████| 7/7 [00:07<00:00,  1.10s/it]\n",
      "                 Class     Images  Instances      Box(P          R      mAP50  mAP50-95): 100%|██████████| 1/1 [00:00<00:00,  1.87it/s]"
     ]
    },
    {
     "name": "stdout",
     "output_type": "stream",
     "text": [
      "                   all         58         58      0.979      0.966      0.991      0.747\n"
     ]
    },
    {
     "name": "stderr",
     "output_type": "stream",
     "text": [
      "\n"
     ]
    },
    {
     "name": "stdout",
     "output_type": "stream",
     "text": [
      "\n",
      "      Epoch    GPU_mem   box_loss   cls_loss   dfl_loss  Instances       Size\n"
     ]
    },
    {
     "name": "stderr",
     "output_type": "stream",
     "text": [
      "     28/150      7.53G     0.9563     0.7821     0.9324         19        576: 100%|██████████| 7/7 [00:04<00:00,  1.43it/s]\n",
      "                 Class     Images  Instances      Box(P          R      mAP50  mAP50-95): 100%|██████████| 1/1 [00:00<00:00,  1.43it/s]"
     ]
    },
    {
     "name": "stdout",
     "output_type": "stream",
     "text": [
      "                   all         58         58      0.972      0.983      0.995       0.78\n"
     ]
    },
    {
     "name": "stderr",
     "output_type": "stream",
     "text": [
      "\n"
     ]
    },
    {
     "name": "stdout",
     "output_type": "stream",
     "text": [
      "\n",
      "      Epoch    GPU_mem   box_loss   cls_loss   dfl_loss  Instances       Size\n"
     ]
    },
    {
     "name": "stderr",
     "output_type": "stream",
     "text": [
      "     29/150      9.06G     0.9676     0.8261       0.95         20        736: 100%|██████████| 7/7 [00:14<00:00,  2.03s/it]\n",
      "                 Class     Images  Instances      Box(P          R      mAP50  mAP50-95): 100%|██████████| 1/1 [00:01<00:00,  1.59s/it]"
     ]
    },
    {
     "name": "stdout",
     "output_type": "stream",
     "text": [
      "                   all         58         58      0.983      0.995      0.994      0.782\n"
     ]
    },
    {
     "name": "stderr",
     "output_type": "stream",
     "text": [
      "\n"
     ]
    },
    {
     "name": "stdout",
     "output_type": "stream",
     "text": [
      "\n",
      "      Epoch    GPU_mem   box_loss   cls_loss   dfl_loss  Instances       Size\n"
     ]
    },
    {
     "name": "stderr",
     "output_type": "stream",
     "text": [
      "     30/150        11G     0.8749     0.8289     0.9538         18        576: 100%|██████████| 7/7 [00:20<00:00,  2.88s/it]\n",
      "                 Class     Images  Instances      Box(P          R      mAP50  mAP50-95): 100%|██████████| 1/1 [00:01<00:00,  1.24s/it]"
     ]
    },
    {
     "name": "stdout",
     "output_type": "stream",
     "text": [
      "                   all         58         58       0.99      0.983      0.995       0.74\n"
     ]
    },
    {
     "name": "stderr",
     "output_type": "stream",
     "text": [
      "\n"
     ]
    },
    {
     "name": "stdout",
     "output_type": "stream",
     "text": [
      "\n",
      "      Epoch    GPU_mem   box_loss   cls_loss   dfl_loss  Instances       Size\n"
     ]
    },
    {
     "name": "stderr",
     "output_type": "stream",
     "text": [
      "     31/150      7.87G     0.9294       0.77     0.9187         22        352: 100%|██████████| 7/7 [00:08<00:00,  1.25s/it]\n",
      "                 Class     Images  Instances      Box(P          R      mAP50  mAP50-95): 100%|██████████| 1/1 [00:00<00:00,  1.10it/s]"
     ]
    },
    {
     "name": "stdout",
     "output_type": "stream",
     "text": [
      "                   all         58         58      0.934      0.983      0.973      0.767\n"
     ]
    },
    {
     "name": "stderr",
     "output_type": "stream",
     "text": [
      "\n"
     ]
    },
    {
     "name": "stdout",
     "output_type": "stream",
     "text": [
      "\n",
      "      Epoch    GPU_mem   box_loss   cls_loss   dfl_loss  Instances       Size\n"
     ]
    },
    {
     "name": "stderr",
     "output_type": "stream",
     "text": [
      "     32/150      7.75G     0.8815     0.7784     0.9342         15        928: 100%|██████████| 7/7 [00:13<00:00,  1.96s/it]\n",
      "                 Class     Images  Instances      Box(P          R      mAP50  mAP50-95): 100%|██████████| 1/1 [00:01<00:00,  1.17s/it]"
     ]
    },
    {
     "name": "stdout",
     "output_type": "stream",
     "text": [
      "                   all         58         58      0.946      0.983      0.975      0.746\n"
     ]
    },
    {
     "name": "stderr",
     "output_type": "stream",
     "text": [
      "\n"
     ]
    },
    {
     "name": "stdout",
     "output_type": "stream",
     "text": [
      "\n",
      "      Epoch    GPU_mem   box_loss   cls_loss   dfl_loss  Instances       Size\n"
     ]
    },
    {
     "name": "stderr",
     "output_type": "stream",
     "text": [
      "     33/150      11.3G     0.8468     0.7623     0.9336         28        608: 100%|██████████| 7/7 [00:14<00:00,  2.12s/it]\n",
      "                 Class     Images  Instances      Box(P          R      mAP50  mAP50-95): 100%|██████████| 1/1 [00:00<00:00,  1.64it/s]"
     ]
    },
    {
     "name": "stdout",
     "output_type": "stream",
     "text": [
      "                   all         58         58      0.944      0.948      0.955      0.751\n"
     ]
    },
    {
     "name": "stderr",
     "output_type": "stream",
     "text": [
      "\n"
     ]
    },
    {
     "name": "stdout",
     "output_type": "stream",
     "text": [
      "\n",
      "      Epoch    GPU_mem   box_loss   cls_loss   dfl_loss  Instances       Size\n"
     ]
    },
    {
     "name": "stderr",
     "output_type": "stream",
     "text": [
      "     34/150      9.85G      0.869     0.7411     0.9358         22        512: 100%|██████████| 7/7 [00:11<00:00,  1.65s/it]\n",
      "                 Class     Images  Instances      Box(P          R      mAP50  mAP50-95): 100%|██████████| 1/1 [00:00<00:00,  2.04it/s]"
     ]
    },
    {
     "name": "stdout",
     "output_type": "stream",
     "text": [
      "                   all         58         58      0.917      0.983      0.945        0.7\n"
     ]
    },
    {
     "name": "stderr",
     "output_type": "stream",
     "text": [
      "\n"
     ]
    },
    {
     "name": "stdout",
     "output_type": "stream",
     "text": [
      "\n",
      "      Epoch    GPU_mem   box_loss   cls_loss   dfl_loss  Instances       Size\n"
     ]
    },
    {
     "name": "stderr",
     "output_type": "stream",
     "text": [
      "     35/150        10G     0.8434     0.7622     0.9208         13        704: 100%|██████████| 7/7 [00:09<00:00,  1.39s/it]\n",
      "                 Class     Images  Instances      Box(P          R      mAP50  mAP50-95): 100%|██████████| 1/1 [00:00<00:00,  1.22it/s]"
     ]
    },
    {
     "name": "stdout",
     "output_type": "stream",
     "text": [
      "                   all         58         58      0.966      0.948      0.982      0.751\n"
     ]
    },
    {
     "name": "stderr",
     "output_type": "stream",
     "text": [
      "\n"
     ]
    },
    {
     "name": "stdout",
     "output_type": "stream",
     "text": [
      "\n",
      "      Epoch    GPU_mem   box_loss   cls_loss   dfl_loss  Instances       Size\n"
     ]
    },
    {
     "name": "stderr",
     "output_type": "stream",
     "text": [
      "     36/150      8.42G     0.8719     0.7003     0.9217         23        352: 100%|██████████| 7/7 [00:15<00:00,  2.17s/it]\n",
      "                 Class     Images  Instances      Box(P          R      mAP50  mAP50-95): 100%|██████████| 1/1 [00:00<00:00,  1.30it/s]"
     ]
    },
    {
     "name": "stdout",
     "output_type": "stream",
     "text": [
      "                   all         58         58      0.965          1      0.994       0.82\n"
     ]
    },
    {
     "name": "stderr",
     "output_type": "stream",
     "text": [
      "\n"
     ]
    },
    {
     "name": "stdout",
     "output_type": "stream",
     "text": [
      "\n",
      "      Epoch    GPU_mem   box_loss   cls_loss   dfl_loss  Instances       Size\n"
     ]
    },
    {
     "name": "stderr",
     "output_type": "stream",
     "text": [
      "     37/150      6.25G     0.8092     0.6701     0.9074         15        832: 100%|██████████| 7/7 [00:04<00:00,  1.45it/s]\n",
      "                 Class     Images  Instances      Box(P          R      mAP50  mAP50-95): 100%|██████████| 1/1 [00:00<00:00,  1.25it/s]"
     ]
    },
    {
     "name": "stdout",
     "output_type": "stream",
     "text": [
      "                   all         58         58      0.996      0.983      0.995      0.791\n"
     ]
    },
    {
     "name": "stderr",
     "output_type": "stream",
     "text": [
      "\n"
     ]
    },
    {
     "name": "stdout",
     "output_type": "stream",
     "text": [
      "\n",
      "      Epoch    GPU_mem   box_loss   cls_loss   dfl_loss  Instances       Size\n"
     ]
    },
    {
     "name": "stderr",
     "output_type": "stream",
     "text": [
      "     38/150      11.2G     0.9404     0.7177     0.9311         12        640: 100%|██████████| 7/7 [00:14<00:00,  2.10s/it]\n",
      "                 Class     Images  Instances      Box(P          R      mAP50  mAP50-95): 100%|██████████| 1/1 [00:00<00:00,  1.39it/s]"
     ]
    },
    {
     "name": "stdout",
     "output_type": "stream",
     "text": [
      "                   all         58         58          1      0.965      0.993      0.735\n"
     ]
    },
    {
     "name": "stderr",
     "output_type": "stream",
     "text": [
      "\n"
     ]
    },
    {
     "name": "stdout",
     "output_type": "stream",
     "text": [
      "\n",
      "      Epoch    GPU_mem   box_loss   cls_loss   dfl_loss  Instances       Size\n"
     ]
    },
    {
     "name": "stderr",
     "output_type": "stream",
     "text": [
      "     39/150      8.43G       0.87     0.6734     0.9209         24        960: 100%|██████████| 7/7 [00:07<00:00,  1.08s/it]\n",
      "                 Class     Images  Instances      Box(P          R      mAP50  mAP50-95): 100%|██████████| 1/1 [00:00<00:00,  2.05it/s]"
     ]
    },
    {
     "name": "stdout",
     "output_type": "stream",
     "text": [
      "                   all         58         58      0.998      0.983      0.994      0.789\n"
     ]
    },
    {
     "name": "stderr",
     "output_type": "stream",
     "text": [
      "\n"
     ]
    },
    {
     "name": "stdout",
     "output_type": "stream",
     "text": [
      "\n",
      "      Epoch    GPU_mem   box_loss   cls_loss   dfl_loss  Instances       Size\n"
     ]
    },
    {
     "name": "stderr",
     "output_type": "stream",
     "text": [
      "     40/150      6.79G     0.8639     0.6865     0.9044         20        320: 100%|██████████| 7/7 [00:02<00:00,  2.72it/s]\n",
      "                 Class     Images  Instances      Box(P          R      mAP50  mAP50-95): 100%|██████████| 1/1 [00:00<00:00,  2.46it/s]"
     ]
    },
    {
     "name": "stdout",
     "output_type": "stream",
     "text": [
      "                   all         58         58          1      0.995      0.995      0.823\n"
     ]
    },
    {
     "name": "stderr",
     "output_type": "stream",
     "text": [
      "\n"
     ]
    },
    {
     "name": "stdout",
     "output_type": "stream",
     "text": [
      "\n",
      "      Epoch    GPU_mem   box_loss   cls_loss   dfl_loss  Instances       Size\n"
     ]
    },
    {
     "name": "stderr",
     "output_type": "stream",
     "text": [
      "     41/150      9.75G     0.9433     0.7076     0.9188         24        512: 100%|██████████| 7/7 [00:08<00:00,  1.26s/it]\n",
      "                 Class     Images  Instances      Box(P          R      mAP50  mAP50-95): 100%|██████████| 1/1 [00:00<00:00,  1.41it/s]"
     ]
    },
    {
     "name": "stdout",
     "output_type": "stream",
     "text": [
      "                   all         58         58      0.945          1      0.993      0.807\n"
     ]
    },
    {
     "name": "stderr",
     "output_type": "stream",
     "text": [
      "\n"
     ]
    },
    {
     "name": "stdout",
     "output_type": "stream",
     "text": [
      "\n",
      "      Epoch    GPU_mem   box_loss   cls_loss   dfl_loss  Instances       Size\n"
     ]
    },
    {
     "name": "stderr",
     "output_type": "stream",
     "text": [
      "     42/150      11.7G     0.8891     0.6597     0.9301         13        480: 100%|██████████| 7/7 [00:16<00:00,  2.33s/it]\n",
      "                 Class     Images  Instances      Box(P          R      mAP50  mAP50-95): 100%|██████████| 1/1 [00:01<00:00,  1.17s/it]"
     ]
    },
    {
     "name": "stdout",
     "output_type": "stream",
     "text": [
      "                   all         58         58      0.977          1      0.995      0.774\n"
     ]
    },
    {
     "name": "stderr",
     "output_type": "stream",
     "text": [
      "\n"
     ]
    },
    {
     "name": "stdout",
     "output_type": "stream",
     "text": [
      "\n",
      "      Epoch    GPU_mem   box_loss   cls_loss   dfl_loss  Instances       Size\n"
     ]
    },
    {
     "name": "stderr",
     "output_type": "stream",
     "text": [
      "     43/150      10.2G     0.9207     0.6763     0.9303         20        576: 100%|██████████| 7/7 [00:11<00:00,  1.59s/it]\n",
      "                 Class     Images  Instances      Box(P          R      mAP50  mAP50-95): 100%|██████████| 1/1 [00:00<00:00,  1.42it/s]"
     ]
    },
    {
     "name": "stdout",
     "output_type": "stream",
     "text": [
      "                   all         58         58      0.994          1      0.995       0.81\n"
     ]
    },
    {
     "name": "stderr",
     "output_type": "stream",
     "text": [
      "\n"
     ]
    },
    {
     "name": "stdout",
     "output_type": "stream",
     "text": [
      "\n",
      "      Epoch    GPU_mem   box_loss   cls_loss   dfl_loss  Instances       Size\n"
     ]
    },
    {
     "name": "stderr",
     "output_type": "stream",
     "text": [
      "     44/150      9.85G     0.7681     0.6198     0.9263         27        960: 100%|██████████| 7/7 [00:14<00:00,  2.01s/it]\n",
      "                 Class     Images  Instances      Box(P          R      mAP50  mAP50-95): 100%|██████████| 1/1 [00:01<00:00,  1.64s/it]"
     ]
    },
    {
     "name": "stdout",
     "output_type": "stream",
     "text": [
      "                   all         58         58      0.997          1      0.995      0.821\n"
     ]
    },
    {
     "name": "stderr",
     "output_type": "stream",
     "text": [
      "\n"
     ]
    },
    {
     "name": "stdout",
     "output_type": "stream",
     "text": [
      "\n",
      "      Epoch    GPU_mem   box_loss   cls_loss   dfl_loss  Instances       Size\n"
     ]
    },
    {
     "name": "stderr",
     "output_type": "stream",
     "text": [
      "     45/150      9.68G     0.8781     0.6442     0.9111         18        352: 100%|██████████| 7/7 [00:14<00:00,  2.07s/it]\n",
      "                 Class     Images  Instances      Box(P          R      mAP50  mAP50-95): 100%|██████████| 1/1 [00:01<00:00,  1.42s/it]"
     ]
    },
    {
     "name": "stdout",
     "output_type": "stream",
     "text": [
      "                   all         58         58      0.978      0.983      0.985      0.672\n"
     ]
    },
    {
     "name": "stderr",
     "output_type": "stream",
     "text": [
      "\n"
     ]
    },
    {
     "name": "stdout",
     "output_type": "stream",
     "text": [
      "\n",
      "      Epoch    GPU_mem   box_loss   cls_loss   dfl_loss  Instances       Size\n"
     ]
    },
    {
     "name": "stderr",
     "output_type": "stream",
     "text": [
      "     46/150      8.02G     0.8616       0.65     0.9332         17        896: 100%|██████████| 7/7 [00:09<00:00,  1.33s/it]\n",
      "                 Class     Images  Instances      Box(P          R      mAP50  mAP50-95): 100%|██████████| 1/1 [00:01<00:00,  1.14s/it]"
     ]
    },
    {
     "name": "stdout",
     "output_type": "stream",
     "text": [
      "                   all         58         58      0.992      0.983      0.985        0.8\n"
     ]
    },
    {
     "name": "stderr",
     "output_type": "stream",
     "text": [
      "\n"
     ]
    },
    {
     "name": "stdout",
     "output_type": "stream",
     "text": [
      "\n",
      "      Epoch    GPU_mem   box_loss   cls_loss   dfl_loss  Instances       Size\n"
     ]
    },
    {
     "name": "stderr",
     "output_type": "stream",
     "text": [
      "     47/150      11.6G     0.8385     0.6353     0.9404         23        960: 100%|██████████| 7/7 [00:23<00:00,  3.36s/it]\n",
      "                 Class     Images  Instances      Box(P          R      mAP50  mAP50-95): 100%|██████████| 1/1 [00:01<00:00,  1.37s/it]"
     ]
    },
    {
     "name": "stdout",
     "output_type": "stream",
     "text": [
      "                   all         58         58          1      0.977      0.985       0.75\n"
     ]
    },
    {
     "name": "stderr",
     "output_type": "stream",
     "text": [
      "\n"
     ]
    },
    {
     "name": "stdout",
     "output_type": "stream",
     "text": [
      "\n",
      "      Epoch    GPU_mem   box_loss   cls_loss   dfl_loss  Instances       Size\n"
     ]
    },
    {
     "name": "stderr",
     "output_type": "stream",
     "text": [
      "     48/150       8.1G     0.7816      0.592     0.9201         14        896: 100%|██████████| 7/7 [00:06<00:00,  1.13it/s]\n",
      "                 Class     Images  Instances      Box(P          R      mAP50  mAP50-95): 100%|██████████| 1/1 [00:00<00:00,  2.21it/s]"
     ]
    },
    {
     "name": "stdout",
     "output_type": "stream",
     "text": [
      "                   all         58         58       0.99      0.983      0.994      0.749\n"
     ]
    },
    {
     "name": "stderr",
     "output_type": "stream",
     "text": [
      "\n"
     ]
    },
    {
     "name": "stdout",
     "output_type": "stream",
     "text": [
      "\n",
      "      Epoch    GPU_mem   box_loss   cls_loss   dfl_loss  Instances       Size\n"
     ]
    },
    {
     "name": "stderr",
     "output_type": "stream",
     "text": [
      "     49/150      4.72G      0.905     0.6776     0.9071         18        640: 100%|██████████| 7/7 [00:01<00:00,  4.22it/s]\n",
      "                 Class     Images  Instances      Box(P          R      mAP50  mAP50-95): 100%|██████████| 1/1 [00:00<00:00,  2.97it/s]"
     ]
    },
    {
     "name": "stdout",
     "output_type": "stream",
     "text": [
      "                   all         58         58      0.966      0.981       0.99      0.761\n"
     ]
    },
    {
     "name": "stderr",
     "output_type": "stream",
     "text": [
      "\n"
     ]
    },
    {
     "name": "stdout",
     "output_type": "stream",
     "text": [
      "\n",
      "      Epoch    GPU_mem   box_loss   cls_loss   dfl_loss  Instances       Size\n"
     ]
    },
    {
     "name": "stderr",
     "output_type": "stream",
     "text": [
      "     50/150      9.21G     0.8503     0.6103     0.8929         21        576: 100%|██████████| 7/7 [00:07<00:00,  1.12s/it]\n",
      "                 Class     Images  Instances      Box(P          R      mAP50  mAP50-95): 100%|██████████| 1/1 [00:00<00:00,  1.00it/s]"
     ]
    },
    {
     "name": "stdout",
     "output_type": "stream",
     "text": [
      "                   all         58         58      0.935      0.997      0.979      0.826\n"
     ]
    },
    {
     "name": "stderr",
     "output_type": "stream",
     "text": [
      "\n"
     ]
    },
    {
     "name": "stdout",
     "output_type": "stream",
     "text": [
      "\n",
      "      Epoch    GPU_mem   box_loss   cls_loss   dfl_loss  Instances       Size\n"
     ]
    },
    {
     "name": "stderr",
     "output_type": "stream",
     "text": [
      "     51/150      8.37G     0.7642     0.6005     0.9215         19        864: 100%|██████████| 7/7 [00:11<00:00,  1.64s/it]\n",
      "                 Class     Images  Instances      Box(P          R      mAP50  mAP50-95): 100%|██████████| 1/1 [00:01<00:00,  1.13s/it]"
     ]
    },
    {
     "name": "stdout",
     "output_type": "stream",
     "text": [
      "                   all         58         58      0.979      0.983      0.994      0.801\n"
     ]
    },
    {
     "name": "stderr",
     "output_type": "stream",
     "text": [
      "\n"
     ]
    },
    {
     "name": "stdout",
     "output_type": "stream",
     "text": [
      "\n",
      "      Epoch    GPU_mem   box_loss   cls_loss   dfl_loss  Instances       Size\n"
     ]
    },
    {
     "name": "stderr",
     "output_type": "stream",
     "text": [
      "     52/150      6.83G     0.7697     0.5948     0.8817         19        608: 100%|██████████| 7/7 [00:04<00:00,  1.47it/s]\n",
      "                 Class     Images  Instances      Box(P          R      mAP50  mAP50-95): 100%|██████████| 1/1 [00:00<00:00,  1.17it/s]"
     ]
    },
    {
     "name": "stdout",
     "output_type": "stream",
     "text": [
      "                   all         58         58      0.998      0.983       0.99      0.789\n"
     ]
    },
    {
     "name": "stderr",
     "output_type": "stream",
     "text": [
      "\n"
     ]
    },
    {
     "name": "stdout",
     "output_type": "stream",
     "text": [
      "\n",
      "      Epoch    GPU_mem   box_loss   cls_loss   dfl_loss  Instances       Size\n"
     ]
    },
    {
     "name": "stderr",
     "output_type": "stream",
     "text": [
      "     53/150      7.38G     0.7486     0.5745     0.8858         19        608: 100%|██████████| 7/7 [00:08<00:00,  1.15s/it]\n",
      "                 Class     Images  Instances      Box(P          R      mAP50  mAP50-95): 100%|██████████| 1/1 [00:00<00:00,  1.55it/s]"
     ]
    },
    {
     "name": "stdout",
     "output_type": "stream",
     "text": [
      "                   all         58         58      0.999      0.983      0.994      0.812\n"
     ]
    },
    {
     "name": "stderr",
     "output_type": "stream",
     "text": [
      "\n"
     ]
    },
    {
     "name": "stdout",
     "output_type": "stream",
     "text": [
      "\n",
      "      Epoch    GPU_mem   box_loss   cls_loss   dfl_loss  Instances       Size\n"
     ]
    },
    {
     "name": "stderr",
     "output_type": "stream",
     "text": [
      "     54/150      8.21G     0.7453     0.5796     0.8853         17        640: 100%|██████████| 7/7 [00:09<00:00,  1.40s/it]\n",
      "                 Class     Images  Instances      Box(P          R      mAP50  mAP50-95): 100%|██████████| 1/1 [00:00<00:00,  2.04it/s]"
     ]
    },
    {
     "name": "stdout",
     "output_type": "stream",
     "text": [
      "                   all         58         58      0.966      0.983       0.99      0.833\n"
     ]
    },
    {
     "name": "stderr",
     "output_type": "stream",
     "text": [
      "\n"
     ]
    },
    {
     "name": "stdout",
     "output_type": "stream",
     "text": [
      "\n",
      "      Epoch    GPU_mem   box_loss   cls_loss   dfl_loss  Instances       Size\n"
     ]
    },
    {
     "name": "stderr",
     "output_type": "stream",
     "text": [
      "     55/150      6.96G     0.7532      0.542     0.8752         26        352: 100%|██████████| 7/7 [00:07<00:00,  1.00s/it]\n",
      "                 Class     Images  Instances      Box(P          R      mAP50  mAP50-95): 100%|██████████| 1/1 [00:00<00:00,  2.02it/s]"
     ]
    },
    {
     "name": "stdout",
     "output_type": "stream",
     "text": [
      "                   all         58         58      0.947      0.983      0.991      0.845\n"
     ]
    },
    {
     "name": "stderr",
     "output_type": "stream",
     "text": [
      "\n"
     ]
    },
    {
     "name": "stdout",
     "output_type": "stream",
     "text": [
      "\n",
      "      Epoch    GPU_mem   box_loss   cls_loss   dfl_loss  Instances       Size\n"
     ]
    },
    {
     "name": "stderr",
     "output_type": "stream",
     "text": [
      "     56/150      9.82G     0.7332      0.553     0.9108         22        704: 100%|██████████| 7/7 [00:11<00:00,  1.71s/it]\n",
      "                 Class     Images  Instances      Box(P          R      mAP50  mAP50-95): 100%|██████████| 1/1 [00:01<00:00,  1.27s/it]"
     ]
    },
    {
     "name": "stdout",
     "output_type": "stream",
     "text": [
      "                   all         58         58      0.995      0.983      0.993      0.848\n"
     ]
    },
    {
     "name": "stderr",
     "output_type": "stream",
     "text": [
      "\n"
     ]
    },
    {
     "name": "stdout",
     "output_type": "stream",
     "text": [
      "\n",
      "      Epoch    GPU_mem   box_loss   cls_loss   dfl_loss  Instances       Size\n"
     ]
    },
    {
     "name": "stderr",
     "output_type": "stream",
     "text": [
      "     57/150      9.68G     0.7936     0.5798     0.8801         20        352: 100%|██████████| 7/7 [00:11<00:00,  1.66s/it]\n",
      "                 Class     Images  Instances      Box(P          R      mAP50  mAP50-95): 100%|██████████| 1/1 [00:01<00:00,  1.27s/it]"
     ]
    },
    {
     "name": "stdout",
     "output_type": "stream",
     "text": [
      "                   all         58         58      0.979      0.983      0.994      0.836\n"
     ]
    },
    {
     "name": "stderr",
     "output_type": "stream",
     "text": [
      "\n"
     ]
    },
    {
     "name": "stdout",
     "output_type": "stream",
     "text": [
      "\n",
      "      Epoch    GPU_mem   box_loss   cls_loss   dfl_loss  Instances       Size\n"
     ]
    },
    {
     "name": "stderr",
     "output_type": "stream",
     "text": [
      "     58/150      8.07G     0.7559     0.6073     0.9167         20        608: 100%|██████████| 7/7 [00:08<00:00,  1.23s/it]\n",
      "                 Class     Images  Instances      Box(P          R      mAP50  mAP50-95): 100%|██████████| 1/1 [00:00<00:00,  1.24it/s]"
     ]
    },
    {
     "name": "stdout",
     "output_type": "stream",
     "text": [
      "                   all         58         58      0.985      0.983      0.994      0.838\n"
     ]
    },
    {
     "name": "stderr",
     "output_type": "stream",
     "text": [
      "\n"
     ]
    },
    {
     "name": "stdout",
     "output_type": "stream",
     "text": [
      "\n",
      "      Epoch    GPU_mem   box_loss   cls_loss   dfl_loss  Instances       Size\n"
     ]
    },
    {
     "name": "stderr",
     "output_type": "stream",
     "text": [
      "     59/150      10.2G     0.7329      0.563     0.8888         19        672: 100%|██████████| 7/7 [00:09<00:00,  1.39s/it]\n",
      "                 Class     Images  Instances      Box(P          R      mAP50  mAP50-95): 100%|██████████| 1/1 [00:00<00:00,  1.30it/s]"
     ]
    },
    {
     "name": "stdout",
     "output_type": "stream",
     "text": [
      "                   all         58         58      0.998      0.983      0.992      0.836\n"
     ]
    },
    {
     "name": "stderr",
     "output_type": "stream",
     "text": [
      "\n"
     ]
    },
    {
     "name": "stdout",
     "output_type": "stream",
     "text": [
      "\n",
      "      Epoch    GPU_mem   box_loss   cls_loss   dfl_loss  Instances       Size\n"
     ]
    },
    {
     "name": "stderr",
     "output_type": "stream",
     "text": [
      "     60/150      8.51G     0.7477     0.5508      0.909         23        672: 100%|██████████| 7/7 [00:08<00:00,  1.24s/it]\n",
      "                 Class     Images  Instances      Box(P          R      mAP50  mAP50-95): 100%|██████████| 1/1 [00:00<00:00,  1.19it/s]"
     ]
    },
    {
     "name": "stdout",
     "output_type": "stream",
     "text": [
      "                   all         58         58          1      0.982      0.994      0.821\n"
     ]
    },
    {
     "name": "stderr",
     "output_type": "stream",
     "text": [
      "\n"
     ]
    },
    {
     "name": "stdout",
     "output_type": "stream",
     "text": [
      "\n",
      "      Epoch    GPU_mem   box_loss   cls_loss   dfl_loss  Instances       Size\n"
     ]
    },
    {
     "name": "stderr",
     "output_type": "stream",
     "text": [
      "     61/150      7.34G     0.8139     0.5571     0.8768         23        416: 100%|██████████| 7/7 [00:06<00:00,  1.15it/s]\n",
      "                 Class     Images  Instances      Box(P          R      mAP50  mAP50-95): 100%|██████████| 1/1 [00:01<00:00,  1.18s/it]"
     ]
    },
    {
     "name": "stdout",
     "output_type": "stream",
     "text": [
      "                   all         58         58          1      0.982      0.995      0.808\n"
     ]
    },
    {
     "name": "stderr",
     "output_type": "stream",
     "text": [
      "\n"
     ]
    },
    {
     "name": "stdout",
     "output_type": "stream",
     "text": [
      "\n",
      "      Epoch    GPU_mem   box_loss   cls_loss   dfl_loss  Instances       Size\n"
     ]
    },
    {
     "name": "stderr",
     "output_type": "stream",
     "text": [
      "     62/150      9.93G     0.7337     0.5334      0.881         20        512: 100%|██████████| 7/7 [00:12<00:00,  1.77s/it]\n",
      "                 Class     Images  Instances      Box(P          R      mAP50  mAP50-95): 100%|██████████| 1/1 [00:00<00:00,  1.30it/s]"
     ]
    },
    {
     "name": "stdout",
     "output_type": "stream",
     "text": [
      "                   all         58         58          1      0.982      0.995      0.849\n"
     ]
    },
    {
     "name": "stderr",
     "output_type": "stream",
     "text": [
      "\n"
     ]
    },
    {
     "name": "stdout",
     "output_type": "stream",
     "text": [
      "\n",
      "      Epoch    GPU_mem   box_loss   cls_loss   dfl_loss  Instances       Size\n"
     ]
    },
    {
     "name": "stderr",
     "output_type": "stream",
     "text": [
      "     63/150      8.97G     0.7229     0.5344     0.8847         25        672: 100%|██████████| 7/7 [00:15<00:00,  2.15s/it]\n",
      "                 Class     Images  Instances      Box(P          R      mAP50  mAP50-95): 100%|██████████| 1/1 [00:01<00:00,  1.10s/it]"
     ]
    },
    {
     "name": "stdout",
     "output_type": "stream",
     "text": [
      "                   all         58         58      0.996      0.983      0.995      0.813\n"
     ]
    },
    {
     "name": "stderr",
     "output_type": "stream",
     "text": [
      "\n"
     ]
    },
    {
     "name": "stdout",
     "output_type": "stream",
     "text": [
      "\n",
      "      Epoch    GPU_mem   box_loss   cls_loss   dfl_loss  Instances       Size\n"
     ]
    },
    {
     "name": "stderr",
     "output_type": "stream",
     "text": [
      "     64/150      10.2G      0.727     0.5228     0.8951         21        896: 100%|██████████| 7/7 [00:15<00:00,  2.23s/it]\n",
      "                 Class     Images  Instances      Box(P          R      mAP50  mAP50-95): 100%|██████████| 1/1 [00:01<00:00,  1.18s/it]"
     ]
    },
    {
     "name": "stdout",
     "output_type": "stream",
     "text": [
      "                   all         58         58          1      0.983      0.994      0.828\n"
     ]
    },
    {
     "name": "stderr",
     "output_type": "stream",
     "text": [
      "\n"
     ]
    },
    {
     "name": "stdout",
     "output_type": "stream",
     "text": [
      "\n",
      "      Epoch    GPU_mem   box_loss   cls_loss   dfl_loss  Instances       Size\n"
     ]
    },
    {
     "name": "stderr",
     "output_type": "stream",
     "text": [
      "     65/150      9.93G      0.682     0.5035     0.8991         14        800: 100%|██████████| 7/7 [00:16<00:00,  2.34s/it]\n",
      "                 Class     Images  Instances      Box(P          R      mAP50  mAP50-95): 100%|██████████| 1/1 [00:01<00:00,  1.15s/it]"
     ]
    },
    {
     "name": "stdout",
     "output_type": "stream",
     "text": [
      "                   all         58         58      0.998      0.983      0.994      0.799\n"
     ]
    },
    {
     "name": "stderr",
     "output_type": "stream",
     "text": [
      "\n"
     ]
    },
    {
     "name": "stdout",
     "output_type": "stream",
     "text": [
      "\n",
      "      Epoch    GPU_mem   box_loss   cls_loss   dfl_loss  Instances       Size\n"
     ]
    },
    {
     "name": "stderr",
     "output_type": "stream",
     "text": [
      "     66/150      10.1G     0.7412     0.5434     0.9015         26        320: 100%|██████████| 7/7 [00:19<00:00,  2.85s/it]\n",
      "                 Class     Images  Instances      Box(P          R      mAP50  mAP50-95): 100%|██████████| 1/1 [00:00<00:00,  1.56it/s]"
     ]
    },
    {
     "name": "stdout",
     "output_type": "stream",
     "text": [
      "                   all         58         58      0.999          1      0.995      0.858\n"
     ]
    },
    {
     "name": "stderr",
     "output_type": "stream",
     "text": [
      "\n"
     ]
    },
    {
     "name": "stdout",
     "output_type": "stream",
     "text": [
      "\n",
      "      Epoch    GPU_mem   box_loss   cls_loss   dfl_loss  Instances       Size\n"
     ]
    },
    {
     "name": "stderr",
     "output_type": "stream",
     "text": [
      "     67/150      7.51G     0.6942     0.5136     0.8678         15        576: 100%|██████████| 7/7 [00:04<00:00,  1.43it/s]\n",
      "                 Class     Images  Instances      Box(P          R      mAP50  mAP50-95): 100%|██████████| 1/1 [00:00<00:00,  1.25it/s]"
     ]
    },
    {
     "name": "stdout",
     "output_type": "stream",
     "text": [
      "                   all         58         58      0.996      0.983      0.995       0.84\n"
     ]
    },
    {
     "name": "stderr",
     "output_type": "stream",
     "text": [
      "\n"
     ]
    },
    {
     "name": "stdout",
     "output_type": "stream",
     "text": [
      "\n",
      "      Epoch    GPU_mem   box_loss   cls_loss   dfl_loss  Instances       Size\n"
     ]
    },
    {
     "name": "stderr",
     "output_type": "stream",
     "text": [
      "     68/150         9G     0.7307     0.5227     0.8846         16        384: 100%|██████████| 7/7 [00:18<00:00,  2.69s/it]\n",
      "                 Class     Images  Instances      Box(P          R      mAP50  mAP50-95): 100%|██████████| 1/1 [00:01<00:00,  1.35s/it]"
     ]
    },
    {
     "name": "stdout",
     "output_type": "stream",
     "text": [
      "                   all         58         58      0.995      0.983      0.994      0.831\n"
     ]
    },
    {
     "name": "stderr",
     "output_type": "stream",
     "text": [
      "\n"
     ]
    },
    {
     "name": "stdout",
     "output_type": "stream",
     "text": [
      "\n",
      "      Epoch    GPU_mem   box_loss   cls_loss   dfl_loss  Instances       Size\n"
     ]
    },
    {
     "name": "stderr",
     "output_type": "stream",
     "text": [
      "     69/150      7.31G     0.7732     0.5367     0.8703         18        352: 100%|██████████| 7/7 [00:05<00:00,  1.17it/s]\n",
      "                 Class     Images  Instances      Box(P          R      mAP50  mAP50-95): 100%|██████████| 1/1 [00:00<00:00,  1.75it/s]"
     ]
    },
    {
     "name": "stdout",
     "output_type": "stream",
     "text": [
      "                   all         58         58      0.993      0.983      0.994      0.831\n"
     ]
    },
    {
     "name": "stderr",
     "output_type": "stream",
     "text": [
      "\n"
     ]
    },
    {
     "name": "stdout",
     "output_type": "stream",
     "text": [
      "\n",
      "      Epoch    GPU_mem   box_loss   cls_loss   dfl_loss  Instances       Size\n"
     ]
    },
    {
     "name": "stderr",
     "output_type": "stream",
     "text": [
      "     70/150      6.31G     0.6948     0.5221     0.8571         14        960: 100%|██████████| 7/7 [00:03<00:00,  2.16it/s]\n",
      "                 Class     Images  Instances      Box(P          R      mAP50  mAP50-95): 100%|██████████| 1/1 [00:00<00:00,  2.12it/s]"
     ]
    },
    {
     "name": "stdout",
     "output_type": "stream",
     "text": [
      "                   all         58         58      0.998      0.983      0.995      0.842\n"
     ]
    },
    {
     "name": "stderr",
     "output_type": "stream",
     "text": [
      "\n"
     ]
    },
    {
     "name": "stdout",
     "output_type": "stream",
     "text": [
      "\n",
      "      Epoch    GPU_mem   box_loss   cls_loss   dfl_loss  Instances       Size\n"
     ]
    },
    {
     "name": "stderr",
     "output_type": "stream",
     "text": [
      "     71/150       8.1G     0.6878     0.4961     0.8886         20        352: 100%|██████████| 7/7 [00:10<00:00,  1.55s/it]\n",
      "                 Class     Images  Instances      Box(P          R      mAP50  mAP50-95): 100%|██████████| 1/1 [00:00<00:00,  1.06it/s]"
     ]
    },
    {
     "name": "stdout",
     "output_type": "stream",
     "text": [
      "                   all         58         58          1          1      0.995      0.853\n"
     ]
    },
    {
     "name": "stderr",
     "output_type": "stream",
     "text": [
      "\n"
     ]
    },
    {
     "name": "stdout",
     "output_type": "stream",
     "text": [
      "\n",
      "      Epoch    GPU_mem   box_loss   cls_loss   dfl_loss  Instances       Size\n"
     ]
    },
    {
     "name": "stderr",
     "output_type": "stream",
     "text": [
      "     72/150      10.8G     0.6838     0.5243     0.8895         25        512: 100%|██████████| 7/7 [00:16<00:00,  2.38s/it]\n",
      "                 Class     Images  Instances      Box(P          R      mAP50  mAP50-95): 100%|██████████| 1/1 [00:00<00:00,  1.13it/s]"
     ]
    },
    {
     "name": "stdout",
     "output_type": "stream",
     "text": [
      "                   all         58         58      0.997      0.983      0.994      0.823\n"
     ]
    },
    {
     "name": "stderr",
     "output_type": "stream",
     "text": [
      "\n"
     ]
    },
    {
     "name": "stdout",
     "output_type": "stream",
     "text": [
      "\n",
      "      Epoch    GPU_mem   box_loss   cls_loss   dfl_loss  Instances       Size\n"
     ]
    },
    {
     "name": "stderr",
     "output_type": "stream",
     "text": [
      "     73/150      10.3G     0.6484     0.4869     0.8831         18        928: 100%|██████████| 7/7 [00:15<00:00,  2.21s/it]\n",
      "                 Class     Images  Instances      Box(P          R      mAP50  mAP50-95): 100%|██████████| 1/1 [00:00<00:00,  1.25it/s]"
     ]
    },
    {
     "name": "stdout",
     "output_type": "stream",
     "text": [
      "                   all         58         58      0.997      0.983      0.992      0.846\n"
     ]
    },
    {
     "name": "stderr",
     "output_type": "stream",
     "text": [
      "\n"
     ]
    },
    {
     "name": "stdout",
     "output_type": "stream",
     "text": [
      "\n",
      "      Epoch    GPU_mem   box_loss   cls_loss   dfl_loss  Instances       Size\n"
     ]
    },
    {
     "name": "stderr",
     "output_type": "stream",
     "text": [
      "     74/150       8.4G     0.7773     0.5072     0.8785         18        832: 100%|██████████| 7/7 [00:11<00:00,  1.62s/it]\n",
      "                 Class     Images  Instances      Box(P          R      mAP50  mAP50-95): 100%|██████████| 1/1 [00:00<00:00,  1.17it/s]"
     ]
    },
    {
     "name": "stdout",
     "output_type": "stream",
     "text": [
      "                   all         58         58      0.998      0.983      0.988      0.825\n"
     ]
    },
    {
     "name": "stderr",
     "output_type": "stream",
     "text": [
      "\n"
     ]
    },
    {
     "name": "stdout",
     "output_type": "stream",
     "text": [
      "\n",
      "      Epoch    GPU_mem   box_loss   cls_loss   dfl_loss  Instances       Size\n"
     ]
    },
    {
     "name": "stderr",
     "output_type": "stream",
     "text": [
      "     75/150       8.4G     0.7184      0.482     0.8748         25        608: 100%|██████████| 7/7 [00:14<00:00,  2.02s/it]\n",
      "                 Class     Images  Instances      Box(P          R      mAP50  mAP50-95): 100%|██████████| 1/1 [00:00<00:00,  1.13it/s]"
     ]
    },
    {
     "name": "stdout",
     "output_type": "stream",
     "text": [
      "                   all         58         58      0.997      0.983       0.99      0.835\n"
     ]
    },
    {
     "name": "stderr",
     "output_type": "stream",
     "text": [
      "\n"
     ]
    },
    {
     "name": "stdout",
     "output_type": "stream",
     "text": [
      "\n",
      "      Epoch    GPU_mem   box_loss   cls_loss   dfl_loss  Instances       Size\n"
     ]
    },
    {
     "name": "stderr",
     "output_type": "stream",
     "text": [
      "     76/150      9.91G     0.7292     0.4991     0.8721         15        448: 100%|██████████| 7/7 [00:07<00:00,  1.09s/it]\n",
      "                 Class     Images  Instances      Box(P          R      mAP50  mAP50-95): 100%|██████████| 1/1 [00:01<00:00,  1.11s/it]"
     ]
    },
    {
     "name": "stdout",
     "output_type": "stream",
     "text": [
      "                   all         58         58      0.996      0.983      0.995      0.826\n"
     ]
    },
    {
     "name": "stderr",
     "output_type": "stream",
     "text": [
      "\n"
     ]
    },
    {
     "name": "stdout",
     "output_type": "stream",
     "text": [
      "\n",
      "      Epoch    GPU_mem   box_loss   cls_loss   dfl_loss  Instances       Size\n"
     ]
    },
    {
     "name": "stderr",
     "output_type": "stream",
     "text": [
      "     77/150      6.77G     0.7195     0.4877     0.8595         20        736: 100%|██████████| 7/7 [00:03<00:00,  1.77it/s]\n",
      "                 Class     Images  Instances      Box(P          R      mAP50  mAP50-95): 100%|██████████| 1/1 [00:00<00:00,  1.23it/s]"
     ]
    },
    {
     "name": "stdout",
     "output_type": "stream",
     "text": [
      "                   all         58         58      0.999          1      0.995      0.837\n"
     ]
    },
    {
     "name": "stderr",
     "output_type": "stream",
     "text": [
      "\n"
     ]
    },
    {
     "name": "stdout",
     "output_type": "stream",
     "text": [
      "\n",
      "      Epoch    GPU_mem   box_loss   cls_loss   dfl_loss  Instances       Size\n"
     ]
    },
    {
     "name": "stderr",
     "output_type": "stream",
     "text": [
      "     78/150      9.51G     0.7182     0.5248     0.8885         22        736: 100%|██████████| 7/7 [00:10<00:00,  1.43s/it]\n",
      "                 Class     Images  Instances      Box(P          R      mAP50  mAP50-95): 100%|██████████| 1/1 [00:00<00:00,  2.02it/s]"
     ]
    },
    {
     "name": "stdout",
     "output_type": "stream",
     "text": [
      "                   all         58         58      0.998          1      0.995      0.812\n"
     ]
    },
    {
     "name": "stderr",
     "output_type": "stream",
     "text": [
      "\n"
     ]
    },
    {
     "name": "stdout",
     "output_type": "stream",
     "text": [
      "\n",
      "      Epoch    GPU_mem   box_loss   cls_loss   dfl_loss  Instances       Size\n"
     ]
    },
    {
     "name": "stderr",
     "output_type": "stream",
     "text": [
      "     79/150      9.05G      0.725     0.4935     0.8769         19        416: 100%|██████████| 7/7 [00:15<00:00,  2.23s/it]\n",
      "                 Class     Images  Instances      Box(P          R      mAP50  mAP50-95): 100%|██████████| 1/1 [00:01<00:00,  1.30s/it]"
     ]
    },
    {
     "name": "stdout",
     "output_type": "stream",
     "text": [
      "                   all         58         58          1      0.998      0.995      0.853\n"
     ]
    },
    {
     "name": "stderr",
     "output_type": "stream",
     "text": [
      "\n"
     ]
    },
    {
     "name": "stdout",
     "output_type": "stream",
     "text": [
      "\n",
      "      Epoch    GPU_mem   box_loss   cls_loss   dfl_loss  Instances       Size\n"
     ]
    },
    {
     "name": "stderr",
     "output_type": "stream",
     "text": [
      "     80/150      9.57G     0.7385     0.5159     0.8637         16        448: 100%|██████████| 7/7 [00:15<00:00,  2.27s/it]\n",
      "                 Class     Images  Instances      Box(P          R      mAP50  mAP50-95): 100%|██████████| 1/1 [00:00<00:00,  1.42it/s]"
     ]
    },
    {
     "name": "stdout",
     "output_type": "stream",
     "text": [
      "                   all         58         58          1       0.98      0.992      0.815\n"
     ]
    },
    {
     "name": "stderr",
     "output_type": "stream",
     "text": [
      "\n"
     ]
    },
    {
     "name": "stdout",
     "output_type": "stream",
     "text": [
      "\n",
      "      Epoch    GPU_mem   box_loss   cls_loss   dfl_loss  Instances       Size\n"
     ]
    },
    {
     "name": "stderr",
     "output_type": "stream",
     "text": [
      "     81/150      9.82G     0.6901     0.4736     0.8658         29        512: 100%|██████████| 7/7 [00:21<00:00,  3.06s/it]\n",
      "                 Class     Images  Instances      Box(P          R      mAP50  mAP50-95): 100%|██████████| 1/1 [00:01<00:00,  1.19s/it]"
     ]
    },
    {
     "name": "stdout",
     "output_type": "stream",
     "text": [
      "                   all         58         58      0.998      0.966      0.993      0.846\n"
     ]
    },
    {
     "name": "stderr",
     "output_type": "stream",
     "text": [
      "\n"
     ]
    },
    {
     "name": "stdout",
     "output_type": "stream",
     "text": [
      "\n",
      "      Epoch    GPU_mem   box_loss   cls_loss   dfl_loss  Instances       Size\n"
     ]
    },
    {
     "name": "stderr",
     "output_type": "stream",
     "text": [
      "     82/150       9.8G     0.6766     0.4714     0.8755         22        928: 100%|██████████| 7/7 [00:09<00:00,  1.40s/it]\n",
      "                 Class     Images  Instances      Box(P          R      mAP50  mAP50-95): 100%|██████████| 1/1 [00:00<00:00,  1.93it/s]"
     ]
    },
    {
     "name": "stdout",
     "output_type": "stream",
     "text": [
      "                   all         58         58          1      0.983      0.994      0.849\n"
     ]
    },
    {
     "name": "stderr",
     "output_type": "stream",
     "text": [
      "\n"
     ]
    },
    {
     "name": "stdout",
     "output_type": "stream",
     "text": [
      "\n",
      "      Epoch    GPU_mem   box_loss   cls_loss   dfl_loss  Instances       Size\n"
     ]
    },
    {
     "name": "stderr",
     "output_type": "stream",
     "text": [
      "     83/150       9.8G     0.6801     0.5006     0.8846         23        448: 100%|██████████| 7/7 [00:21<00:00,  3.09s/it]\n",
      "                 Class     Images  Instances      Box(P          R      mAP50  mAP50-95): 100%|██████████| 1/1 [00:01<00:00,  1.25s/it]"
     ]
    },
    {
     "name": "stdout",
     "output_type": "stream",
     "text": [
      "                   all         58         58          1      0.999      0.995       0.85\n"
     ]
    },
    {
     "name": "stderr",
     "output_type": "stream",
     "text": [
      "\n"
     ]
    },
    {
     "name": "stdout",
     "output_type": "stream",
     "text": [
      "\n",
      "      Epoch    GPU_mem   box_loss   cls_loss   dfl_loss  Instances       Size\n"
     ]
    },
    {
     "name": "stderr",
     "output_type": "stream",
     "text": [
      "     84/150      7.43G     0.6874     0.4807     0.8749         20        704: 100%|██████████| 7/7 [00:04<00:00,  1.49it/s]\n",
      "                 Class     Images  Instances      Box(P          R      mAP50  mAP50-95): 100%|██████████| 1/1 [00:00<00:00,  1.75it/s]"
     ]
    },
    {
     "name": "stdout",
     "output_type": "stream",
     "text": [
      "                   all         58         58      0.999          1      0.995      0.879\n"
     ]
    },
    {
     "name": "stderr",
     "output_type": "stream",
     "text": [
      "\n"
     ]
    },
    {
     "name": "stdout",
     "output_type": "stream",
     "text": [
      "\n",
      "      Epoch    GPU_mem   box_loss   cls_loss   dfl_loss  Instances       Size\n"
     ]
    },
    {
     "name": "stderr",
     "output_type": "stream",
     "text": [
      "     85/150      9.98G     0.6582     0.4505     0.8681         21        384: 100%|██████████| 7/7 [00:09<00:00,  1.38s/it]\n",
      "                 Class     Images  Instances      Box(P          R      mAP50  mAP50-95): 100%|██████████| 1/1 [00:00<00:00,  1.15it/s]"
     ]
    },
    {
     "name": "stdout",
     "output_type": "stream",
     "text": [
      "                   all         58         58          1      0.999      0.995      0.855\n"
     ]
    },
    {
     "name": "stderr",
     "output_type": "stream",
     "text": [
      "\n"
     ]
    },
    {
     "name": "stdout",
     "output_type": "stream",
     "text": [
      "\n",
      "      Epoch    GPU_mem   box_loss   cls_loss   dfl_loss  Instances       Size\n"
     ]
    },
    {
     "name": "stderr",
     "output_type": "stream",
     "text": [
      "     86/150      8.62G     0.6957     0.4677     0.8733         19        896: 100%|██████████| 7/7 [00:07<00:00,  1.12s/it]\n",
      "                 Class     Images  Instances      Box(P          R      mAP50  mAP50-95): 100%|██████████| 1/1 [00:00<00:00,  1.54it/s]"
     ]
    },
    {
     "name": "stdout",
     "output_type": "stream",
     "text": [
      "                   all         58         58      0.994      0.983      0.995      0.859\n"
     ]
    },
    {
     "name": "stderr",
     "output_type": "stream",
     "text": [
      "\n"
     ]
    },
    {
     "name": "stdout",
     "output_type": "stream",
     "text": [
      "\n",
      "      Epoch    GPU_mem   box_loss   cls_loss   dfl_loss  Instances       Size\n"
     ]
    },
    {
     "name": "stderr",
     "output_type": "stream",
     "text": [
      "     87/150        11G     0.6383     0.4451     0.8544         23        832: 100%|██████████| 7/7 [00:17<00:00,  2.45s/it]\n",
      "                 Class     Images  Instances      Box(P          R      mAP50  mAP50-95): 100%|██████████| 1/1 [00:00<00:00,  1.11it/s]"
     ]
    },
    {
     "name": "stdout",
     "output_type": "stream",
     "text": [
      "                   all         58         58      0.982          1      0.995      0.838\n"
     ]
    },
    {
     "name": "stderr",
     "output_type": "stream",
     "text": [
      "\n"
     ]
    },
    {
     "name": "stdout",
     "output_type": "stream",
     "text": [
      "\n",
      "      Epoch    GPU_mem   box_loss   cls_loss   dfl_loss  Instances       Size\n"
     ]
    },
    {
     "name": "stderr",
     "output_type": "stream",
     "text": [
      "     88/150      7.64G     0.6817     0.4487     0.8672         23        896: 100%|██████████| 7/7 [00:05<00:00,  1.28it/s]\n",
      "                 Class     Images  Instances      Box(P          R      mAP50  mAP50-95): 100%|██████████| 1/1 [00:00<00:00,  2.05it/s]"
     ]
    },
    {
     "name": "stdout",
     "output_type": "stream",
     "text": [
      "                   all         58         58      0.998      0.983      0.995       0.86\n"
     ]
    },
    {
     "name": "stderr",
     "output_type": "stream",
     "text": [
      "\n"
     ]
    },
    {
     "name": "stdout",
     "output_type": "stream",
     "text": [
      "\n",
      "      Epoch    GPU_mem   box_loss   cls_loss   dfl_loss  Instances       Size\n"
     ]
    },
    {
     "name": "stderr",
     "output_type": "stream",
     "text": [
      "     89/150      5.79G      0.673      0.454     0.8581         26        736: 100%|██████████| 7/7 [00:02<00:00,  3.33it/s]\n",
      "                 Class     Images  Instances      Box(P          R      mAP50  mAP50-95): 100%|██████████| 1/1 [00:00<00:00,  2.51it/s]"
     ]
    },
    {
     "name": "stdout",
     "output_type": "stream",
     "text": [
      "                   all         58         58      0.998      0.983      0.995      0.876\n"
     ]
    },
    {
     "name": "stderr",
     "output_type": "stream",
     "text": [
      "\n"
     ]
    },
    {
     "name": "stdout",
     "output_type": "stream",
     "text": [
      "\n",
      "      Epoch    GPU_mem   box_loss   cls_loss   dfl_loss  Instances       Size\n"
     ]
    },
    {
     "name": "stderr",
     "output_type": "stream",
     "text": [
      "     90/150      6.15G     0.6388     0.4266     0.8478         23        800: 100%|██████████| 7/7 [00:04<00:00,  1.42it/s]\n",
      "                 Class     Images  Instances      Box(P          R      mAP50  mAP50-95): 100%|██████████| 1/1 [00:00<00:00,  1.31it/s]"
     ]
    },
    {
     "name": "stdout",
     "output_type": "stream",
     "text": [
      "                   all         58         58      0.997      0.983      0.995      0.864\n"
     ]
    },
    {
     "name": "stderr",
     "output_type": "stream",
     "text": [
      "\n"
     ]
    },
    {
     "name": "stdout",
     "output_type": "stream",
     "text": [
      "\n",
      "      Epoch    GPU_mem   box_loss   cls_loss   dfl_loss  Instances       Size\n"
     ]
    },
    {
     "name": "stderr",
     "output_type": "stream",
     "text": [
      "     91/150      6.02G     0.6419     0.4318     0.8486         22        672: 100%|██████████| 7/7 [00:02<00:00,  3.25it/s]\n",
      "                 Class     Images  Instances      Box(P          R      mAP50  mAP50-95): 100%|██████████| 1/1 [00:00<00:00,  1.83it/s]"
     ]
    },
    {
     "name": "stdout",
     "output_type": "stream",
     "text": [
      "                   all         58         58      0.996      0.983      0.995      0.864\n"
     ]
    },
    {
     "name": "stderr",
     "output_type": "stream",
     "text": [
      "\n"
     ]
    },
    {
     "name": "stdout",
     "output_type": "stream",
     "text": [
      "\n",
      "      Epoch    GPU_mem   box_loss   cls_loss   dfl_loss  Instances       Size\n"
     ]
    },
    {
     "name": "stderr",
     "output_type": "stream",
     "text": [
      "     92/150      5.16G     0.6761      0.441     0.8541         25        672: 100%|██████████| 7/7 [00:01<00:00,  3.73it/s]\n",
      "                 Class     Images  Instances      Box(P          R      mAP50  mAP50-95): 100%|██████████| 1/1 [00:00<00:00,  2.17it/s]"
     ]
    },
    {
     "name": "stdout",
     "output_type": "stream",
     "text": [
      "                   all         58         58      0.998      0.983      0.994      0.873\n"
     ]
    },
    {
     "name": "stderr",
     "output_type": "stream",
     "text": [
      "\n"
     ]
    },
    {
     "name": "stdout",
     "output_type": "stream",
     "text": [
      "\n",
      "      Epoch    GPU_mem   box_loss   cls_loss   dfl_loss  Instances       Size\n"
     ]
    },
    {
     "name": "stderr",
     "output_type": "stream",
     "text": [
      "     93/150      9.06G     0.6699     0.4437      0.866         19        416: 100%|██████████| 7/7 [00:09<00:00,  1.31s/it]\n",
      "                 Class     Images  Instances      Box(P          R      mAP50  mAP50-95): 100%|██████████| 1/1 [00:00<00:00,  1.53it/s]"
     ]
    },
    {
     "name": "stdout",
     "output_type": "stream",
     "text": [
      "                   all         58         58          1      0.998      0.995      0.854\n"
     ]
    },
    {
     "name": "stderr",
     "output_type": "stream",
     "text": [
      "\n"
     ]
    },
    {
     "name": "stdout",
     "output_type": "stream",
     "text": [
      "\n",
      "      Epoch    GPU_mem   box_loss   cls_loss   dfl_loss  Instances       Size\n"
     ]
    },
    {
     "name": "stderr",
     "output_type": "stream",
     "text": [
      "     94/150      9.22G      0.665     0.4602      0.843         17        448: 100%|██████████| 7/7 [00:07<00:00,  1.05s/it]\n",
      "                 Class     Images  Instances      Box(P          R      mAP50  mAP50-95): 100%|██████████| 1/1 [00:00<00:00,  1.03it/s]"
     ]
    },
    {
     "name": "stdout",
     "output_type": "stream",
     "text": [
      "                   all         58         58      0.983      0.998      0.995      0.851\n"
     ]
    },
    {
     "name": "stderr",
     "output_type": "stream",
     "text": [
      "\n"
     ]
    },
    {
     "name": "stdout",
     "output_type": "stream",
     "text": [
      "\n",
      "      Epoch    GPU_mem   box_loss   cls_loss   dfl_loss  Instances       Size\n"
     ]
    },
    {
     "name": "stderr",
     "output_type": "stream",
     "text": [
      "     95/150      8.06G     0.6472     0.4437     0.8565         29        448: 100%|██████████| 7/7 [00:06<00:00,  1.11it/s]\n",
      "                 Class     Images  Instances      Box(P          R      mAP50  mAP50-95): 100%|██████████| 1/1 [00:01<00:00,  1.02s/it]"
     ]
    },
    {
     "name": "stdout",
     "output_type": "stream",
     "text": [
      "                   all         58         58      0.983          1      0.994      0.864\n"
     ]
    },
    {
     "name": "stderr",
     "output_type": "stream",
     "text": [
      "\n"
     ]
    },
    {
     "name": "stdout",
     "output_type": "stream",
     "text": [
      "\n",
      "      Epoch    GPU_mem   box_loss   cls_loss   dfl_loss  Instances       Size\n"
     ]
    },
    {
     "name": "stderr",
     "output_type": "stream",
     "text": [
      "     96/150      6.91G     0.5895     0.4154     0.8487         21        608: 100%|██████████| 7/7 [00:03<00:00,  1.97it/s]\n",
      "                 Class     Images  Instances      Box(P          R      mAP50  mAP50-95): 100%|██████████| 1/1 [00:00<00:00,  2.12it/s]"
     ]
    },
    {
     "name": "stdout",
     "output_type": "stream",
     "text": [
      "                   all         58         58          1      0.999      0.995      0.872\n"
     ]
    },
    {
     "name": "stderr",
     "output_type": "stream",
     "text": [
      "\n"
     ]
    },
    {
     "name": "stdout",
     "output_type": "stream",
     "text": [
      "\n",
      "      Epoch    GPU_mem   box_loss   cls_loss   dfl_loss  Instances       Size\n"
     ]
    },
    {
     "name": "stderr",
     "output_type": "stream",
     "text": [
      "     97/150      10.4G     0.6293      0.421     0.8605         23        416: 100%|██████████| 7/7 [00:16<00:00,  2.39s/it]\n",
      "                 Class     Images  Instances      Box(P          R      mAP50  mAP50-95): 100%|██████████| 1/1 [00:01<00:00,  1.40s/it]"
     ]
    },
    {
     "name": "stdout",
     "output_type": "stream",
     "text": [
      "                   all         58         58          1      0.999      0.995      0.868\n"
     ]
    },
    {
     "name": "stderr",
     "output_type": "stream",
     "text": [
      "\n"
     ]
    },
    {
     "name": "stdout",
     "output_type": "stream",
     "text": [
      "\n",
      "      Epoch    GPU_mem   box_loss   cls_loss   dfl_loss  Instances       Size\n"
     ]
    },
    {
     "name": "stderr",
     "output_type": "stream",
     "text": [
      "     98/150        10G     0.6067      0.428     0.8595         23        448: 100%|██████████| 7/7 [00:14<00:00,  2.08s/it]\n",
      "                 Class     Images  Instances      Box(P          R      mAP50  mAP50-95): 100%|██████████| 1/1 [00:01<00:00,  1.38s/it]"
     ]
    },
    {
     "name": "stdout",
     "output_type": "stream",
     "text": [
      "                   all         58         58      0.999          1      0.995      0.873\n"
     ]
    },
    {
     "name": "stderr",
     "output_type": "stream",
     "text": [
      "\n"
     ]
    },
    {
     "name": "stdout",
     "output_type": "stream",
     "text": [
      "\n",
      "      Epoch    GPU_mem   box_loss   cls_loss   dfl_loss  Instances       Size\n"
     ]
    },
    {
     "name": "stderr",
     "output_type": "stream",
     "text": [
      "     99/150      7.49G     0.5767     0.4019     0.8503         27        608: 100%|██████████| 7/7 [00:04<00:00,  1.47it/s]\n",
      "                 Class     Images  Instances      Box(P          R      mAP50  mAP50-95): 100%|██████████| 1/1 [00:00<00:00,  2.25it/s]"
     ]
    },
    {
     "name": "stdout",
     "output_type": "stream",
     "text": [
      "                   all         58         58          1      0.998      0.995      0.855\n"
     ]
    },
    {
     "name": "stderr",
     "output_type": "stream",
     "text": [
      "\n"
     ]
    },
    {
     "name": "stdout",
     "output_type": "stream",
     "text": [
      "\n",
      "      Epoch    GPU_mem   box_loss   cls_loss   dfl_loss  Instances       Size\n"
     ]
    },
    {
     "name": "stderr",
     "output_type": "stream",
     "text": [
      "    100/150      9.23G     0.6002     0.4255     0.8558         19        704: 100%|██████████| 7/7 [00:07<00:00,  1.00s/it]\n",
      "                 Class     Images  Instances      Box(P          R      mAP50  mAP50-95): 100%|██████████| 1/1 [00:00<00:00,  1.94it/s]"
     ]
    },
    {
     "name": "stdout",
     "output_type": "stream",
     "text": [
      "                   all         58         58          1      0.999      0.995      0.866\n"
     ]
    },
    {
     "name": "stderr",
     "output_type": "stream",
     "text": [
      "\n"
     ]
    },
    {
     "name": "stdout",
     "output_type": "stream",
     "text": [
      "\n",
      "      Epoch    GPU_mem   box_loss   cls_loss   dfl_loss  Instances       Size\n"
     ]
    },
    {
     "name": "stderr",
     "output_type": "stream",
     "text": [
      "    101/150      8.28G     0.6163     0.4352     0.8529         24        736: 100%|██████████| 7/7 [00:05<00:00,  1.22it/s]\n",
      "                 Class     Images  Instances      Box(P          R      mAP50  mAP50-95): 100%|██████████| 1/1 [00:00<00:00,  1.36it/s]"
     ]
    },
    {
     "name": "stdout",
     "output_type": "stream",
     "text": [
      "                   all         58         58      0.998      0.983      0.995      0.879\n"
     ]
    },
    {
     "name": "stderr",
     "output_type": "stream",
     "text": [
      "\n"
     ]
    },
    {
     "name": "stdout",
     "output_type": "stream",
     "text": [
      "\n",
      "      Epoch    GPU_mem   box_loss   cls_loss   dfl_loss  Instances       Size\n"
     ]
    },
    {
     "name": "stderr",
     "output_type": "stream",
     "text": [
      "    102/150      11.1G      0.602     0.4383     0.8501         20        384: 100%|██████████| 7/7 [00:17<00:00,  2.50s/it]\n",
      "                 Class     Images  Instances      Box(P          R      mAP50  mAP50-95): 100%|██████████| 1/1 [00:00<00:00,  1.03it/s]"
     ]
    },
    {
     "name": "stdout",
     "output_type": "stream",
     "text": [
      "                   all         58         58      0.992      0.983      0.995       0.88\n"
     ]
    },
    {
     "name": "stderr",
     "output_type": "stream",
     "text": [
      "\n"
     ]
    },
    {
     "name": "stdout",
     "output_type": "stream",
     "text": [
      "\n",
      "      Epoch    GPU_mem   box_loss   cls_loss   dfl_loss  Instances       Size\n"
     ]
    },
    {
     "name": "stderr",
     "output_type": "stream",
     "text": [
      "    103/150      10.2G     0.5834     0.4215     0.8652         24        352: 100%|██████████| 7/7 [00:15<00:00,  2.20s/it]\n",
      "                 Class     Images  Instances      Box(P          R      mAP50  mAP50-95): 100%|██████████| 1/1 [00:00<00:00,  1.12it/s]"
     ]
    },
    {
     "name": "stdout",
     "output_type": "stream",
     "text": [
      "                   all         58         58      0.983          1      0.995      0.866\n"
     ]
    },
    {
     "name": "stderr",
     "output_type": "stream",
     "text": [
      "\n"
     ]
    },
    {
     "name": "stdout",
     "output_type": "stream",
     "text": [
      "\n",
      "      Epoch    GPU_mem   box_loss   cls_loss   dfl_loss  Instances       Size\n"
     ]
    },
    {
     "name": "stderr",
     "output_type": "stream",
     "text": [
      "    104/150      8.19G     0.5612      0.416     0.8382         15        512: 100%|██████████| 7/7 [00:05<00:00,  1.38it/s]\n",
      "                 Class     Images  Instances      Box(P          R      mAP50  mAP50-95): 100%|██████████| 1/1 [00:00<00:00,  2.26it/s]"
     ]
    },
    {
     "name": "stdout",
     "output_type": "stream",
     "text": [
      "                   all         58         58          1      0.997      0.995       0.89\n"
     ]
    },
    {
     "name": "stderr",
     "output_type": "stream",
     "text": [
      "\n"
     ]
    },
    {
     "name": "stdout",
     "output_type": "stream",
     "text": [
      "\n",
      "      Epoch    GPU_mem   box_loss   cls_loss   dfl_loss  Instances       Size\n"
     ]
    },
    {
     "name": "stderr",
     "output_type": "stream",
     "text": [
      "    105/150      7.17G     0.6184      0.414     0.8391         16        576: 100%|██████████| 7/7 [00:03<00:00,  1.80it/s]\n",
      "                 Class     Images  Instances      Box(P          R      mAP50  mAP50-95): 100%|██████████| 1/1 [00:00<00:00,  2.10it/s]"
     ]
    },
    {
     "name": "stdout",
     "output_type": "stream",
     "text": [
      "                   all         58         58      0.998          1      0.995      0.865\n"
     ]
    },
    {
     "name": "stderr",
     "output_type": "stream",
     "text": [
      "\n"
     ]
    },
    {
     "name": "stdout",
     "output_type": "stream",
     "text": [
      "\n",
      "      Epoch    GPU_mem   box_loss   cls_loss   dfl_loss  Instances       Size\n"
     ]
    },
    {
     "name": "stderr",
     "output_type": "stream",
     "text": [
      "    106/150      10.3G     0.5856     0.4167     0.8624         22        480: 100%|██████████| 7/7 [00:14<00:00,  2.04s/it]\n",
      "                 Class     Images  Instances      Box(P          R      mAP50  mAP50-95): 100%|██████████| 1/1 [00:01<00:00,  1.24s/it]"
     ]
    },
    {
     "name": "stdout",
     "output_type": "stream",
     "text": [
      "                   all         58         58      0.995          1      0.995      0.878\n"
     ]
    },
    {
     "name": "stderr",
     "output_type": "stream",
     "text": [
      "\n"
     ]
    },
    {
     "name": "stdout",
     "output_type": "stream",
     "text": [
      "\n",
      "      Epoch    GPU_mem   box_loss   cls_loss   dfl_loss  Instances       Size\n"
     ]
    },
    {
     "name": "stderr",
     "output_type": "stream",
     "text": [
      "    107/150      7.63G     0.5599     0.3806     0.8445         25        832: 100%|██████████| 7/7 [00:04<00:00,  1.66it/s]\n",
      "                 Class     Images  Instances      Box(P          R      mAP50  mAP50-95): 100%|██████████| 1/1 [00:00<00:00,  2.67it/s]"
     ]
    },
    {
     "name": "stdout",
     "output_type": "stream",
     "text": [
      "                   all         58         58      0.997          1      0.995      0.857\n"
     ]
    },
    {
     "name": "stderr",
     "output_type": "stream",
     "text": [
      "\n"
     ]
    },
    {
     "name": "stdout",
     "output_type": "stream",
     "text": [
      "\n",
      "      Epoch    GPU_mem   box_loss   cls_loss   dfl_loss  Instances       Size\n"
     ]
    },
    {
     "name": "stderr",
     "output_type": "stream",
     "text": [
      "    108/150      10.3G     0.5802     0.3882     0.8633         19        800: 100%|██████████| 7/7 [00:13<00:00,  1.93s/it]\n",
      "                 Class     Images  Instances      Box(P          R      mAP50  mAP50-95): 100%|██████████| 1/1 [00:00<00:00,  1.44it/s]"
     ]
    },
    {
     "name": "stdout",
     "output_type": "stream",
     "text": [
      "                   all         58         58      0.997          1      0.995      0.885\n"
     ]
    },
    {
     "name": "stderr",
     "output_type": "stream",
     "text": [
      "\n"
     ]
    },
    {
     "name": "stdout",
     "output_type": "stream",
     "text": [
      "\n",
      "      Epoch    GPU_mem   box_loss   cls_loss   dfl_loss  Instances       Size\n"
     ]
    },
    {
     "name": "stderr",
     "output_type": "stream",
     "text": [
      "    109/150      9.15G     0.6233     0.4187     0.8508         19        320: 100%|██████████| 7/7 [00:08<00:00,  1.28s/it]\n",
      "                 Class     Images  Instances      Box(P          R      mAP50  mAP50-95): 100%|██████████| 1/1 [00:00<00:00,  1.43it/s]"
     ]
    },
    {
     "name": "stdout",
     "output_type": "stream",
     "text": [
      "                   all         58         58      0.996          1      0.995      0.863\n"
     ]
    },
    {
     "name": "stderr",
     "output_type": "stream",
     "text": [
      "\n"
     ]
    },
    {
     "name": "stdout",
     "output_type": "stream",
     "text": [
      "\n",
      "      Epoch    GPU_mem   box_loss   cls_loss   dfl_loss  Instances       Size\n"
     ]
    },
    {
     "name": "stderr",
     "output_type": "stream",
     "text": [
      "    110/150      9.78G     0.5607     0.3974     0.8474         21        928: 100%|██████████| 7/7 [00:13<00:00,  1.87s/it]\n",
      "                 Class     Images  Instances      Box(P          R      mAP50  mAP50-95): 100%|██████████| 1/1 [00:01<00:00,  1.35s/it]"
     ]
    },
    {
     "name": "stdout",
     "output_type": "stream",
     "text": [
      "                   all         58         58      0.996          1      0.995      0.863\n"
     ]
    },
    {
     "name": "stderr",
     "output_type": "stream",
     "text": [
      "\n"
     ]
    },
    {
     "name": "stdout",
     "output_type": "stream",
     "text": [
      "\n",
      "      Epoch    GPU_mem   box_loss   cls_loss   dfl_loss  Instances       Size\n"
     ]
    },
    {
     "name": "stderr",
     "output_type": "stream",
     "text": [
      "    111/150      7.59G     0.5743      0.397     0.8383         16        864: 100%|██████████| 7/7 [00:06<00:00,  1.10it/s]\n",
      "                 Class     Images  Instances      Box(P          R      mAP50  mAP50-95): 100%|██████████| 1/1 [00:00<00:00,  2.52it/s]"
     ]
    },
    {
     "name": "stdout",
     "output_type": "stream",
     "text": [
      "                   all         58         58      0.996          1      0.995      0.861\n"
     ]
    },
    {
     "name": "stderr",
     "output_type": "stream",
     "text": [
      "\n"
     ]
    },
    {
     "name": "stdout",
     "output_type": "stream",
     "text": [
      "\n",
      "      Epoch    GPU_mem   box_loss   cls_loss   dfl_loss  Instances       Size\n"
     ]
    },
    {
     "name": "stderr",
     "output_type": "stream",
     "text": [
      "    112/150       9.8G     0.6149     0.4056     0.8498         21        352: 100%|██████████| 7/7 [00:09<00:00,  1.38s/it]\n",
      "                 Class     Images  Instances      Box(P          R      mAP50  mAP50-95): 100%|██████████| 1/1 [00:01<00:00,  1.05s/it]"
     ]
    },
    {
     "name": "stdout",
     "output_type": "stream",
     "text": [
      "                   all         58         58      0.998          1      0.995      0.867\n"
     ]
    },
    {
     "name": "stderr",
     "output_type": "stream",
     "text": [
      "\n"
     ]
    },
    {
     "name": "stdout",
     "output_type": "stream",
     "text": [
      "\n",
      "      Epoch    GPU_mem   box_loss   cls_loss   dfl_loss  Instances       Size\n"
     ]
    },
    {
     "name": "stderr",
     "output_type": "stream",
     "text": [
      "    113/150      9.92G       0.55     0.3864     0.8385         16        768: 100%|██████████| 7/7 [00:08<00:00,  1.17s/it]\n",
      "                 Class     Images  Instances      Box(P          R      mAP50  mAP50-95): 100%|██████████| 1/1 [00:00<00:00,  2.12it/s]"
     ]
    },
    {
     "name": "stdout",
     "output_type": "stream",
     "text": [
      "                   all         58         58      0.998          1      0.995      0.874\n"
     ]
    },
    {
     "name": "stderr",
     "output_type": "stream",
     "text": [
      "\n"
     ]
    },
    {
     "name": "stdout",
     "output_type": "stream",
     "text": [
      "\n",
      "      Epoch    GPU_mem   box_loss   cls_loss   dfl_loss  Instances       Size\n"
     ]
    },
    {
     "name": "stderr",
     "output_type": "stream",
     "text": [
      "    114/150      9.33G     0.5486     0.3816     0.8386         22        384: 100%|██████████| 7/7 [00:07<00:00,  1.02s/it]\n",
      "                 Class     Images  Instances      Box(P          R      mAP50  mAP50-95): 100%|██████████| 1/1 [00:00<00:00,  1.10it/s]"
     ]
    },
    {
     "name": "stdout",
     "output_type": "stream",
     "text": [
      "                   all         58         58      0.998          1      0.995      0.886\n"
     ]
    },
    {
     "name": "stderr",
     "output_type": "stream",
     "text": [
      "\n"
     ]
    },
    {
     "name": "stdout",
     "output_type": "stream",
     "text": [
      "\n",
      "      Epoch    GPU_mem   box_loss   cls_loss   dfl_loss  Instances       Size\n"
     ]
    },
    {
     "name": "stderr",
     "output_type": "stream",
     "text": [
      "    115/150      8.02G     0.5639      0.393     0.8353         20        416: 100%|██████████| 7/7 [00:05<00:00,  1.18it/s]\n",
      "                 Class     Images  Instances      Box(P          R      mAP50  mAP50-95): 100%|██████████| 1/1 [00:00<00:00,  1.06it/s]"
     ]
    },
    {
     "name": "stdout",
     "output_type": "stream",
     "text": [
      "                   all         58         58      0.998          1      0.995      0.883\n"
     ]
    },
    {
     "name": "stderr",
     "output_type": "stream",
     "text": [
      "\n"
     ]
    },
    {
     "name": "stdout",
     "output_type": "stream",
     "text": [
      "\n",
      "      Epoch    GPU_mem   box_loss   cls_loss   dfl_loss  Instances       Size\n"
     ]
    },
    {
     "name": "stderr",
     "output_type": "stream",
     "text": [
      "    116/150      7.27G     0.5438     0.3759     0.8304         24        608: 100%|██████████| 7/7 [00:08<00:00,  1.23s/it]\n",
      "                 Class     Images  Instances      Box(P          R      mAP50  mAP50-95): 100%|██████████| 1/1 [00:00<00:00,  1.59it/s]"
     ]
    },
    {
     "name": "stdout",
     "output_type": "stream",
     "text": [
      "                   all         58         58      0.996          1      0.995       0.88\n"
     ]
    },
    {
     "name": "stderr",
     "output_type": "stream",
     "text": [
      "\n"
     ]
    },
    {
     "name": "stdout",
     "output_type": "stream",
     "text": [
      "\n",
      "      Epoch    GPU_mem   box_loss   cls_loss   dfl_loss  Instances       Size\n"
     ]
    },
    {
     "name": "stderr",
     "output_type": "stream",
     "text": [
      "    117/150      11.8G     0.5269     0.3991     0.8569         25        864: 100%|██████████| 7/7 [00:16<00:00,  2.38s/it]\n",
      "                 Class     Images  Instances      Box(P          R      mAP50  mAP50-95): 100%|██████████| 1/1 [00:00<00:00,  1.49it/s]"
     ]
    },
    {
     "name": "stdout",
     "output_type": "stream",
     "text": [
      "                   all         58         58      0.996          1      0.995      0.874\n"
     ]
    },
    {
     "name": "stderr",
     "output_type": "stream",
     "text": [
      "\n"
     ]
    },
    {
     "name": "stdout",
     "output_type": "stream",
     "text": [
      "\n",
      "      Epoch    GPU_mem   box_loss   cls_loss   dfl_loss  Instances       Size\n"
     ]
    },
    {
     "name": "stderr",
     "output_type": "stream",
     "text": [
      "    118/150      9.86G     0.5651     0.3837     0.8519         18        608: 100%|██████████| 7/7 [00:13<00:00,  1.87s/it]\n",
      "                 Class     Images  Instances      Box(P          R      mAP50  mAP50-95): 100%|██████████| 1/1 [00:00<00:00,  1.16it/s]"
     ]
    },
    {
     "name": "stdout",
     "output_type": "stream",
     "text": [
      "                   all         58         58      0.994      0.983      0.995      0.864\n"
     ]
    },
    {
     "name": "stderr",
     "output_type": "stream",
     "text": [
      "\n"
     ]
    },
    {
     "name": "stdout",
     "output_type": "stream",
     "text": [
      "\n",
      "      Epoch    GPU_mem   box_loss   cls_loss   dfl_loss  Instances       Size\n"
     ]
    },
    {
     "name": "stderr",
     "output_type": "stream",
     "text": [
      "    119/150      11.7G      0.542      0.386     0.8319         23        416: 100%|██████████| 7/7 [00:10<00:00,  1.50s/it]\n",
      "                 Class     Images  Instances      Box(P          R      mAP50  mAP50-95): 100%|██████████| 1/1 [00:00<00:00,  2.34it/s]"
     ]
    },
    {
     "name": "stdout",
     "output_type": "stream",
     "text": [
      "                   all         58         58      0.991      0.983      0.994      0.872\n"
     ]
    },
    {
     "name": "stderr",
     "output_type": "stream",
     "text": [
      "\n"
     ]
    },
    {
     "name": "stdout",
     "output_type": "stream",
     "text": [
      "\n",
      "      Epoch    GPU_mem   box_loss   cls_loss   dfl_loss  Instances       Size\n"
     ]
    },
    {
     "name": "stderr",
     "output_type": "stream",
     "text": [
      "    120/150      8.77G     0.5483     0.3793     0.8318         18        864: 100%|██████████| 7/7 [00:07<00:00,  1.01s/it]\n",
      "                 Class     Images  Instances      Box(P          R      mAP50  mAP50-95): 100%|██████████| 1/1 [00:00<00:00,  1.28it/s]"
     ]
    },
    {
     "name": "stdout",
     "output_type": "stream",
     "text": [
      "                   all         58         58      0.994      0.983      0.995      0.873\n"
     ]
    },
    {
     "name": "stderr",
     "output_type": "stream",
     "text": [
      "\n"
     ]
    },
    {
     "name": "stdout",
     "output_type": "stream",
     "text": [
      "\n",
      "      Epoch    GPU_mem   box_loss   cls_loss   dfl_loss  Instances       Size\n"
     ]
    },
    {
     "name": "stderr",
     "output_type": "stream",
     "text": [
      "    121/150      9.86G     0.4957     0.3583     0.8506         16        800: 100%|██████████| 7/7 [00:11<00:00,  1.68s/it]\n",
      "                 Class     Images  Instances      Box(P          R      mAP50  mAP50-95): 100%|██████████| 1/1 [00:01<00:00,  1.08s/it]"
     ]
    },
    {
     "name": "stdout",
     "output_type": "stream",
     "text": [
      "                   all         58         58      0.979          1      0.995      0.869\n"
     ]
    },
    {
     "name": "stderr",
     "output_type": "stream",
     "text": [
      "\n"
     ]
    },
    {
     "name": "stdout",
     "output_type": "stream",
     "text": [
      "\n",
      "      Epoch    GPU_mem   box_loss   cls_loss   dfl_loss  Instances       Size\n"
     ]
    },
    {
     "name": "stderr",
     "output_type": "stream",
     "text": [
      "    122/150      11.2G      0.497     0.3633     0.8385         23        768: 100%|██████████| 7/7 [00:13<00:00,  1.88s/it]\n",
      "                 Class     Images  Instances      Box(P          R      mAP50  mAP50-95): 100%|██████████| 1/1 [00:00<00:00,  1.77it/s]"
     ]
    },
    {
     "name": "stdout",
     "output_type": "stream",
     "text": [
      "                   all         58         58      0.981          1      0.995       0.87\n"
     ]
    },
    {
     "name": "stderr",
     "output_type": "stream",
     "text": [
      "\n"
     ]
    },
    {
     "name": "stdout",
     "output_type": "stream",
     "text": [
      "\n",
      "      Epoch    GPU_mem   box_loss   cls_loss   dfl_loss  Instances       Size\n"
     ]
    },
    {
     "name": "stderr",
     "output_type": "stream",
     "text": [
      "    123/150      9.53G     0.5347     0.3812     0.8292         18        320: 100%|██████████| 7/7 [00:09<00:00,  1.38s/it]\n",
      "                 Class     Images  Instances      Box(P          R      mAP50  mAP50-95): 100%|██████████| 1/1 [00:00<00:00,  1.04it/s]"
     ]
    },
    {
     "name": "stdout",
     "output_type": "stream",
     "text": [
      "                   all         58         58      0.994          1      0.995      0.872\n"
     ]
    },
    {
     "name": "stderr",
     "output_type": "stream",
     "text": [
      "\n"
     ]
    },
    {
     "name": "stdout",
     "output_type": "stream",
     "text": [
      "\n",
      "      Epoch    GPU_mem   box_loss   cls_loss   dfl_loss  Instances       Size\n"
     ]
    },
    {
     "name": "stderr",
     "output_type": "stream",
     "text": [
      "    124/150      9.15G     0.5617      0.379     0.8424         22        384: 100%|██████████| 7/7 [00:06<00:00,  1.05it/s]\n",
      "                 Class     Images  Instances      Box(P          R      mAP50  mAP50-95): 100%|██████████| 1/1 [00:00<00:00,  2.10it/s]"
     ]
    },
    {
     "name": "stdout",
     "output_type": "stream",
     "text": [
      "                   all         58         58      0.997          1      0.995      0.877\n"
     ]
    },
    {
     "name": "stderr",
     "output_type": "stream",
     "text": [
      "\n"
     ]
    },
    {
     "name": "stdout",
     "output_type": "stream",
     "text": [
      "\n",
      "      Epoch    GPU_mem   box_loss   cls_loss   dfl_loss  Instances       Size\n"
     ]
    },
    {
     "name": "stderr",
     "output_type": "stream",
     "text": [
      "    125/150      9.18G     0.5995     0.3909      0.842         24        320: 100%|██████████| 7/7 [00:06<00:00,  1.07it/s]\n",
      "                 Class     Images  Instances      Box(P          R      mAP50  mAP50-95): 100%|██████████| 1/1 [00:01<00:00,  1.17s/it]"
     ]
    },
    {
     "name": "stdout",
     "output_type": "stream",
     "text": [
      "                   all         58         58      0.997          1      0.995      0.878\n"
     ]
    },
    {
     "name": "stderr",
     "output_type": "stream",
     "text": [
      "\n"
     ]
    },
    {
     "name": "stdout",
     "output_type": "stream",
     "text": [
      "\n",
      "      Epoch    GPU_mem   box_loss   cls_loss   dfl_loss  Instances       Size\n"
     ]
    },
    {
     "name": "stderr",
     "output_type": "stream",
     "text": [
      "    126/150        10G     0.5261       0.36      0.843         23        608: 100%|██████████| 7/7 [00:14<00:00,  2.10s/it]\n",
      "                 Class     Images  Instances      Box(P          R      mAP50  mAP50-95): 100%|██████████| 1/1 [00:01<00:00,  1.28s/it]"
     ]
    },
    {
     "name": "stdout",
     "output_type": "stream",
     "text": [
      "                   all         58         58      0.998          1      0.995      0.873\n"
     ]
    },
    {
     "name": "stderr",
     "output_type": "stream",
     "text": [
      "\n"
     ]
    },
    {
     "name": "stdout",
     "output_type": "stream",
     "text": [
      "\n",
      "      Epoch    GPU_mem   box_loss   cls_loss   dfl_loss  Instances       Size\n"
     ]
    },
    {
     "name": "stderr",
     "output_type": "stream",
     "text": [
      "    127/150      7.43G     0.5005     0.3542     0.8385         21        480: 100%|██████████| 7/7 [00:03<00:00,  2.08it/s]\n",
      "                 Class     Images  Instances      Box(P          R      mAP50  mAP50-95): 100%|██████████| 1/1 [00:00<00:00,  2.56it/s]"
     ]
    },
    {
     "name": "stdout",
     "output_type": "stream",
     "text": [
      "                   all         58         58      0.998          1      0.995      0.869\n"
     ]
    },
    {
     "name": "stderr",
     "output_type": "stream",
     "text": [
      "\n"
     ]
    },
    {
     "name": "stdout",
     "output_type": "stream",
     "text": [
      "\n",
      "      Epoch    GPU_mem   box_loss   cls_loss   dfl_loss  Instances       Size\n"
     ]
    },
    {
     "name": "stderr",
     "output_type": "stream",
     "text": [
      "    128/150        10G     0.5104     0.3589     0.8321         16        448: 100%|██████████| 7/7 [00:10<00:00,  1.45s/it]\n",
      "                 Class     Images  Instances      Box(P          R      mAP50  mAP50-95): 100%|██████████| 1/1 [00:00<00:00,  1.21it/s]"
     ]
    },
    {
     "name": "stdout",
     "output_type": "stream",
     "text": [
      "                   all         58         58      0.999          1      0.995      0.884\n"
     ]
    },
    {
     "name": "stderr",
     "output_type": "stream",
     "text": [
      "\n"
     ]
    },
    {
     "name": "stdout",
     "output_type": "stream",
     "text": [
      "\n",
      "      Epoch    GPU_mem   box_loss   cls_loss   dfl_loss  Instances       Size\n"
     ]
    },
    {
     "name": "stderr",
     "output_type": "stream",
     "text": [
      "    129/150      7.26G     0.5184     0.3606      0.844         25        672: 100%|██████████| 7/7 [00:07<00:00,  1.04s/it]\n",
      "                 Class     Images  Instances      Box(P          R      mAP50  mAP50-95): 100%|██████████| 1/1 [00:00<00:00,  2.25it/s]"
     ]
    },
    {
     "name": "stdout",
     "output_type": "stream",
     "text": [
      "                   all         58         58      0.999          1      0.995      0.878\n",
      "\u001b[34m\u001b[1mEarlyStopping: \u001b[0mTraining stopped early as no improvement observed in last 25 epochs. Best results observed at epoch 104, best model saved as best.pt.\n",
      "To update EarlyStopping(patience=25) pass a new patience value, i.e. `patience=300` or use `patience=0` to disable EarlyStopping.\n"
     ]
    },
    {
     "name": "stderr",
     "output_type": "stream",
     "text": [
      "\n"
     ]
    },
    {
     "name": "stdout",
     "output_type": "stream",
     "text": [
      "\n",
      "129 epochs completed in 0.432 hours.\n",
      "Optimizer stripped from runs\\detect\\train32\\weights\\last.pt, 5.5MB\n",
      "Optimizer stripped from runs\\detect\\train32\\weights\\best.pt, 5.5MB\n",
      "\n",
      "Validating runs\\detect\\train32\\weights\\best.pt...\n",
      "Ultralytics 8.3.23  Python-3.10.15 torch-2.5.0 CUDA:0 (NVIDIA GeForce RTX 2060, 6144MiB)\n",
      "YOLO11n summary (fused): 238 layers, 2,582,347 parameters, 0 gradients, 6.3 GFLOPs\n"
     ]
    },
    {
     "name": "stderr",
     "output_type": "stream",
     "text": [
      "                 Class     Images  Instances      Box(P          R      mAP50  mAP50-95): 100%|██████████| 1/1 [00:00<00:00,  1.19it/s]\n"
     ]
    },
    {
     "name": "stdout",
     "output_type": "stream",
     "text": [
      "                   all         58         58      0.998          1      0.995      0.872\n",
      "Speed: 0.3ms preprocess, 9.2ms inference, 0.0ms loss, 0.9ms postprocess per image\n",
      "Results saved to \u001b[1mruns\\detect\\train32\u001b[0m\n"
     ]
    }
   ],
   "source": [
    "\n",
    "from ultralytics.models.yolo.detect import DetectionTrainer\n",
    "import torch\n",
    "from ultralytics import YOLO\n",
    "\n",
    "# Verifica si se puede usar una GPU\n",
    "print(\"GPU disponible: \", torch.cuda.is_available())\n",
    "\n",
    "# Parámetros de entrenamiento para el modelo\n",
    "args = dict(\n",
    "    model=\"yolo11n.pt\",  # Modelo YOLO preentrenado\n",
    "    data=\"matriculas.yaml\",  # Archivo de configuración de datos\n",
    "    epochs=150,  # Aumentar el número de épocas\n",
    "    batch=32,  # Tamaño del lote ajustado\n",
    "    multi_scale=True,  # Habilita escalado múltiple para variar el tamaño de imagen\n",
    "    workers=4,  # Número de trabajadores para el DataLoader\n",
    "    device=\"cuda\" if torch.cuda.is_available() else \"cpu\",  # Usar GPU si está disponible, de lo contrario CPU\n",
    "    verbose=True,  # Mostrar progreso de entrenamiento\n",
    "    lr0=0.0001,  # Tasa de aprendizaje inicial ajustada\n",
    "    weight_decay=0.0001,  # Regularización L2\n",
    "    single_cls=True,  # Entrenar solo una clase\n",
    "    patience=25,  # Early stopping después de 20épocas sin mejora\n",
    "    augment=True,  # Habilitar aumento de datos\n",
    "    plots=True,  # Mostrar gráficos de pérdida\n",
    ")\n",
    "\n",
    "# Inicializa el entrenador y entrena el modelo\n",
    "trainer = DetectionTrainer(overrides=args)  \n",
    "# Add other necessary configurations here\n",
    "trainer.train()"
   ]
  },
  {
   "cell_type": "code",
   "execution_count": 7,
   "metadata": {},
   "outputs": [
    {
     "name": "stdout",
     "output_type": "stream",
     "text": [
      "GPU disponible:  True\n",
      "Procesando fotograma 1\n",
      "Procesando fotograma 2\n",
      "Procesando fotograma 3\n",
      "Procesando fotograma 4\n",
      "Procesando fotograma 5\n",
      "Procesando fotograma 6\n",
      "Procesando fotograma 7\n",
      "Procesando fotograma 8\n",
      "Procesando fotograma 9\n",
      "Procesando fotograma 10\n",
      "Procesando fotograma 11\n",
      "Procesando fotograma 12\n",
      "Procesando fotograma 13\n",
      "Procesando fotograma 14\n",
      "Procesando fotograma 15\n",
      "Procesando fotograma 16\n",
      "Procesando fotograma 17\n",
      "Procesando fotograma 18\n",
      "Procesando fotograma 19\n",
      "Procesando fotograma 20\n",
      "Procesando fotograma 21\n",
      "Procesando fotograma 22\n",
      "Procesando fotograma 23\n",
      "Procesando fotograma 24\n",
      "Procesando fotograma 25\n",
      "Procesando fotograma 26\n",
      "Procesando fotograma 27\n",
      "Procesando fotograma 28\n",
      "Procesando fotograma 29\n",
      "Procesando fotograma 30\n",
      "Procesando fotograma 31\n",
      "Procesando fotograma 32\n",
      "Procesando fotograma 33\n",
      "Procesando fotograma 34\n",
      "Procesando fotograma 35\n",
      "Procesando fotograma 36\n",
      "Procesando fotograma 37\n",
      "Procesando fotograma 38\n",
      "Procesando fotograma 39\n",
      "Procesando fotograma 40\n",
      "Procesando fotograma 41\n",
      "Procesando fotograma 42\n",
      "Procesando fotograma 43\n",
      "Procesando fotograma 44\n",
      "Procesando fotograma 45\n",
      "Procesando fotograma 46\n",
      "Procesando fotograma 47\n",
      "Procesando fotograma 48\n",
      "Procesando fotograma 49\n",
      "Procesando fotograma 50\n",
      "Procesando fotograma 51\n",
      "Procesando fotograma 52\n",
      "Procesando fotograma 53\n",
      "Procesando fotograma 54\n",
      "Procesando fotograma 55\n",
      "Procesando fotograma 56\n",
      "Procesando fotograma 57\n",
      "Procesando fotograma 58\n",
      "Procesando fotograma 59\n",
      "Procesando fotograma 60\n",
      "Procesando fotograma 61\n",
      "Procesando fotograma 62\n",
      "Procesando fotograma 63\n",
      "Procesando fotograma 64\n",
      "Procesando fotograma 65\n",
      "Procesando fotograma 66\n",
      "Procesando fotograma 67\n",
      "Procesando fotograma 68\n",
      "Procesando fotograma 69\n",
      "Procesando fotograma 70\n",
      "Procesando fotograma 71\n",
      "Procesando fotograma 72\n",
      "Procesando fotograma 73\n",
      "Procesando fotograma 74\n",
      "Procesando fotograma 75\n",
      "Procesando fotograma 76\n",
      "Procesando fotograma 77\n",
      "Procesando fotograma 78\n",
      "Procesando fotograma 79\n",
      "Procesando fotograma 80\n",
      "Procesando fotograma 81\n",
      "Procesando fotograma 82\n",
      "Procesando fotograma 83\n",
      "Procesando fotograma 84\n",
      "Procesando fotograma 85\n",
      "Procesando fotograma 86\n",
      "Procesando fotograma 87\n",
      "Procesando fotograma 88\n",
      "Procesando fotograma 89\n",
      "Procesando fotograma 90\n",
      "Procesando fotograma 91\n",
      "Procesando fotograma 92\n",
      "Procesando fotograma 93\n",
      "Procesando fotograma 94\n",
      "Procesando fotograma 95\n",
      "Procesando fotograma 96\n",
      "Procesando fotograma 97\n",
      "Procesando fotograma 98\n",
      "Procesando fotograma 99\n",
      "Procesando fotograma 100\n",
      "Procesando fotograma 101\n",
      "Procesando fotograma 102\n",
      "Procesando fotograma 103\n",
      "Procesando fotograma 104\n",
      "Procesando fotograma 105\n",
      "Procesando fotograma 106\n",
      "Procesando fotograma 107\n",
      "Procesando fotograma 108\n",
      "Procesando fotograma 109\n",
      "Procesando fotograma 110\n",
      "Procesando fotograma 111\n",
      "Procesando fotograma 112\n",
      "Procesando fotograma 113\n",
      "Procesando fotograma 114\n",
      "Procesando fotograma 115\n",
      "Procesando fotograma 116\n",
      "Procesando fotograma 117\n",
      "Procesando fotograma 118\n",
      "Procesando fotograma 119\n",
      "Procesando fotograma 120\n",
      "Procesando fotograma 121\n",
      "Procesando fotograma 122\n",
      "Procesando fotograma 123\n",
      "Procesando fotograma 124\n",
      "Procesando fotograma 125\n",
      "Procesando fotograma 126\n",
      "Procesando fotograma 127\n",
      "Procesando fotograma 128\n",
      "Procesando fotograma 129\n",
      "Procesando fotograma 130\n",
      "Procesando fotograma 131\n",
      "Procesando fotograma 132\n",
      "Procesando fotograma 133\n",
      "Procesando fotograma 134\n",
      "Procesando fotograma 135\n",
      "Procesando fotograma 136\n",
      "Procesando fotograma 137\n",
      "Procesando fotograma 138\n",
      "Procesando fotograma 139\n",
      "Procesando fotograma 140\n",
      "Procesando fotograma 141\n",
      "Procesando fotograma 142\n",
      "Procesando fotograma 143\n",
      "Procesando fotograma 144\n",
      "Procesando fotograma 145\n",
      "Procesando fotograma 146\n",
      "Procesando fotograma 147\n",
      "Procesando fotograma 148\n",
      "Procesando fotograma 149\n",
      "Procesando fotograma 150\n",
      "Procesando fotograma 151\n",
      "Procesando fotograma 152\n",
      "Procesando fotograma 153\n",
      "Procesando fotograma 154\n",
      "Procesando fotograma 155\n",
      "Procesando fotograma 156\n",
      "Procesando fotograma 157\n",
      "Procesando fotograma 158\n",
      "Procesando fotograma 159\n",
      "Procesando fotograma 160\n",
      "Procesando fotograma 161\n",
      "Procesando fotograma 162\n",
      "Procesando fotograma 163\n",
      "Procesando fotograma 164\n",
      "Procesando fotograma 165\n",
      "Procesando fotograma 166\n",
      "Procesando fotograma 167\n",
      "Procesando fotograma 168\n",
      "Procesando fotograma 169\n",
      "Procesando fotograma 170\n",
      "Procesando fotograma 171\n",
      "Procesando fotograma 172\n",
      "Procesando fotograma 173\n",
      "Procesando fotograma 174\n",
      "Procesando fotograma 175\n",
      "Procesando fotograma 176\n",
      "Procesando fotograma 177\n",
      "Procesando fotograma 178\n",
      "Procesando fotograma 179\n",
      "Procesando fotograma 180\n",
      "Procesando fotograma 181\n",
      "Procesando fotograma 182\n",
      "Procesando fotograma 183\n",
      "Procesando fotograma 184\n",
      "Procesando fotograma 185\n",
      "Procesando fotograma 186\n",
      "Procesando fotograma 187\n",
      "Procesando fotograma 188\n",
      "Procesando fotograma 189\n",
      "Procesando fotograma 190\n",
      "Procesando fotograma 191\n",
      "Procesando fotograma 192\n",
      "Procesando fotograma 193\n",
      "Procesando fotograma 194\n",
      "Procesando fotograma 195\n",
      "Procesando fotograma 196\n",
      "Procesando fotograma 197\n",
      "Procesando fotograma 198\n",
      "Procesando fotograma 199\n",
      "Procesando fotograma 200\n",
      "Procesando fotograma 201\n",
      "Procesando fotograma 202\n",
      "Procesando fotograma 203\n",
      "Procesando fotograma 204\n",
      "Procesando fotograma 205\n",
      "Procesando fotograma 206\n",
      "Procesando fotograma 207\n",
      "Procesando fotograma 208\n",
      "Procesando fotograma 209\n",
      "Procesando fotograma 210\n",
      "Procesando fotograma 211\n",
      "Procesando fotograma 212\n",
      "Procesando fotograma 213\n",
      "Procesando fotograma 214\n",
      "Procesando fotograma 215\n",
      "Procesando fotograma 216\n",
      "Procesando fotograma 217\n",
      "Procesando fotograma 218\n",
      "Procesando fotograma 219\n",
      "Procesando fotograma 220\n",
      "Procesando fotograma 221\n",
      "Procesando fotograma 222\n",
      "Procesando fotograma 223\n",
      "Procesando fotograma 224\n",
      "Procesando fotograma 225\n",
      "Procesando fotograma 226\n",
      "Procesando fotograma 227\n",
      "Procesando fotograma 228\n",
      "Procesando fotograma 229\n",
      "Procesando fotograma 230\n",
      "Procesando fotograma 231\n",
      "Procesando fotograma 232\n",
      "Procesando fotograma 233\n",
      "Procesando fotograma 234\n",
      "Procesando fotograma 235\n",
      "Procesando fotograma 236\n",
      "Procesando fotograma 237\n",
      "Procesando fotograma 238\n",
      "Procesando fotograma 239\n",
      "Procesando fotograma 240\n",
      "Procesando fotograma 241\n",
      "Procesando fotograma 242\n",
      "Procesando fotograma 243\n",
      "Procesando fotograma 244\n",
      "Procesando fotograma 245\n",
      "Procesando fotograma 246\n",
      "Procesando fotograma 247\n",
      "Procesando fotograma 248\n",
      "Procesando fotograma 249\n",
      "Procesando fotograma 250\n",
      "Procesando fotograma 251\n",
      "Procesando fotograma 252\n",
      "Procesando fotograma 253\n",
      "Procesando fotograma 254\n",
      "Procesando fotograma 255\n",
      "Procesando fotograma 256\n",
      "Procesando fotograma 257\n",
      "Procesando fotograma 258\n",
      "Procesando fotograma 259\n",
      "Procesando fotograma 260\n",
      "Procesando fotograma 261\n",
      "Procesando fotograma 262\n",
      "Procesando fotograma 263\n",
      "Procesando fotograma 264\n",
      "Procesando fotograma 265\n",
      "Procesando fotograma 266\n",
      "Procesando fotograma 267\n",
      "Procesando fotograma 268\n",
      "Procesando fotograma 269\n",
      "Procesando fotograma 270\n",
      "Procesando fotograma 271\n",
      "Procesando fotograma 272\n",
      "Procesando fotograma 273\n",
      "Procesando fotograma 274\n",
      "Procesando fotograma 275\n",
      "Procesando fotograma 276\n",
      "Procesando fotograma 277\n",
      "Procesando fotograma 278\n",
      "Procesando fotograma 279\n",
      "Procesando fotograma 280\n",
      "Procesando fotograma 281\n",
      "Procesando fotograma 282\n",
      "Procesando fotograma 283\n",
      "Procesando fotograma 284\n",
      "Procesando fotograma 285\n",
      "Procesando fotograma 286\n",
      "Procesando fotograma 287\n",
      "Procesando fotograma 288\n",
      "Procesando fotograma 289\n",
      "Procesando fotograma 290\n",
      "Procesando fotograma 291\n",
      "Procesando fotograma 292\n",
      "Procesando fotograma 293\n",
      "Procesando fotograma 294\n",
      "Procesando fotograma 295\n",
      "Procesando fotograma 296\n",
      "Procesando fotograma 297\n",
      "Procesando fotograma 298\n",
      "Procesando fotograma 299\n",
      "Procesando fotograma 300\n",
      "Procesando fotograma 301\n",
      "Procesando fotograma 302\n",
      "Procesando fotograma 303\n",
      "Procesando fotograma 304\n",
      "Procesando fotograma 305\n",
      "Procesando fotograma 306\n",
      "Procesando fotograma 307\n",
      "Procesando fotograma 308\n",
      "Procesando fotograma 309\n",
      "Procesando fotograma 310\n",
      "Procesando fotograma 311\n",
      "Procesando fotograma 312\n",
      "Procesando fotograma 313\n",
      "Procesando fotograma 314\n",
      "Procesando fotograma 315\n",
      "Procesando fotograma 316\n",
      "Procesando fotograma 317\n",
      "Procesando fotograma 318\n",
      "Procesando fotograma 319\n",
      "Procesando fotograma 320\n",
      "Procesando fotograma 321\n",
      "Procesando fotograma 322\n",
      "Procesando fotograma 323\n",
      "Procesando fotograma 324\n",
      "Procesando fotograma 325\n",
      "Procesando fotograma 326\n",
      "Procesando fotograma 327\n",
      "Procesando fotograma 328\n",
      "Procesando fotograma 329\n",
      "Procesando fotograma 330\n",
      "Procesando fotograma 331\n",
      "Procesando fotograma 332\n",
      "Procesando fotograma 333\n",
      "Procesando fotograma 334\n",
      "Procesando fotograma 335\n",
      "Procesando fotograma 336\n",
      "Procesando fotograma 337\n",
      "Procesando fotograma 338\n",
      "Procesando fotograma 339\n",
      "Procesando fotograma 340\n",
      "Procesando fotograma 341\n",
      "Procesando fotograma 342\n",
      "Procesando fotograma 343\n",
      "Procesando fotograma 344\n",
      "Procesando fotograma 345\n",
      "Procesando fotograma 346\n",
      "Procesando fotograma 347\n",
      "Procesando fotograma 348\n",
      "Procesando fotograma 349\n",
      "Procesando fotograma 350\n",
      "Procesando fotograma 351\n",
      "Procesando fotograma 352\n",
      "Procesando fotograma 353\n",
      "Procesando fotograma 354\n",
      "Procesando fotograma 355\n",
      "Procesando fotograma 356\n",
      "Procesando fotograma 357\n",
      "Procesando fotograma 358\n",
      "Procesando fotograma 359\n",
      "Procesando fotograma 360\n",
      "Procesando fotograma 361\n",
      "Procesando fotograma 362\n",
      "Procesando fotograma 363\n",
      "Procesando fotograma 364\n",
      "Procesando fotograma 365\n",
      "Procesando fotograma 366\n",
      "Procesando fotograma 367\n",
      "Procesando fotograma 368\n",
      "Procesando fotograma 369\n",
      "Procesando fotograma 370\n",
      "Procesando fotograma 371\n",
      "Procesando fotograma 372\n",
      "Procesando fotograma 373\n",
      "Procesando fotograma 374\n",
      "Procesando fotograma 375\n",
      "Procesando fotograma 376\n",
      "Procesando fotograma 377\n",
      "Procesando fotograma 378\n",
      "Procesando fotograma 379\n",
      "Procesando fotograma 380\n",
      "Procesando fotograma 381\n",
      "Procesando fotograma 382\n",
      "Procesando fotograma 383\n",
      "Procesando fotograma 384\n",
      "Procesando fotograma 385\n",
      "Procesando fotograma 386\n",
      "Procesando fotograma 387\n",
      "Procesando fotograma 388\n",
      "Procesando fotograma 389\n",
      "Procesando fotograma 390\n",
      "Procesando fotograma 391\n",
      "Procesando fotograma 392\n",
      "Procesando fotograma 393\n",
      "Procesando fotograma 394\n",
      "Procesando fotograma 395\n",
      "Procesando fotograma 396\n",
      "Procesando fotograma 397\n",
      "Procesando fotograma 398\n",
      "Procesando fotograma 399\n",
      "Procesando fotograma 400\n",
      "Procesando fotograma 401\n",
      "Procesando fotograma 402\n",
      "Procesando fotograma 403\n",
      "Procesando fotograma 404\n",
      "Procesando fotograma 405\n",
      "Procesando fotograma 406\n",
      "Procesando fotograma 407\n",
      "Procesando fotograma 408\n",
      "Procesando fotograma 409\n",
      "Procesando fotograma 410\n",
      "Procesando fotograma 411\n",
      "Procesando fotograma 412\n",
      "Procesando fotograma 413\n",
      "Procesando fotograma 414\n",
      "Procesando fotograma 415\n",
      "Procesando fotograma 416\n",
      "Procesando fotograma 417\n",
      "Procesando fotograma 418\n",
      "Procesando fotograma 419\n",
      "Procesando fotograma 420\n",
      "Procesando fotograma 421\n",
      "Procesando fotograma 422\n",
      "Procesando fotograma 423\n",
      "Procesando fotograma 424\n",
      "Procesando fotograma 425\n",
      "Procesando fotograma 426\n",
      "Procesando fotograma 427\n",
      "Procesando fotograma 428\n",
      "Procesando fotograma 429\n",
      "Procesando fotograma 430\n",
      "Procesando fotograma 431\n",
      "Procesando fotograma 432\n",
      "Procesando fotograma 433\n",
      "Procesando fotograma 434\n",
      "Procesando fotograma 435\n",
      "Procesando fotograma 436\n",
      "Procesando fotograma 437\n",
      "Procesando fotograma 438\n",
      "Procesando fotograma 439\n",
      "Procesando fotograma 440\n",
      "Procesando fotograma 441\n",
      "Procesando fotograma 442\n",
      "Procesando fotograma 443\n",
      "Procesando fotograma 444\n",
      "Procesando fotograma 445\n",
      "Procesando fotograma 446\n",
      "Procesando fotograma 447\n",
      "Procesando fotograma 448\n",
      "Procesando fotograma 449\n",
      "Procesando fotograma 450\n",
      "Procesando fotograma 451\n",
      "Procesando fotograma 452\n",
      "Procesando fotograma 453\n",
      "Procesando fotograma 454\n",
      "Procesando fotograma 455\n",
      "Procesando fotograma 456\n",
      "Procesando fotograma 457\n",
      "Procesando fotograma 458\n",
      "Procesando fotograma 459\n",
      "Procesando fotograma 460\n",
      "Procesando fotograma 461\n",
      "Procesando fotograma 462\n",
      "Procesando fotograma 463\n",
      "Procesando fotograma 464\n",
      "Procesando fotograma 465\n",
      "Procesando fotograma 466\n",
      "Procesando fotograma 467\n",
      "Procesando fotograma 468\n",
      "Procesando fotograma 469\n",
      "Procesando fotograma 470\n",
      "Procesando fotograma 471\n",
      "Procesando fotograma 472\n",
      "Procesando fotograma 473\n",
      "Procesando fotograma 474\n",
      "Procesando fotograma 475\n",
      "Procesando fotograma 476\n",
      "Procesando fotograma 477\n",
      "Procesando fotograma 478\n",
      "Procesando fotograma 479\n",
      "Procesando fotograma 480\n",
      "Procesando fotograma 481\n",
      "Procesando fotograma 482\n",
      "Procesando fotograma 483\n",
      "Procesando fotograma 484\n",
      "Procesando fotograma 485\n",
      "Procesando fotograma 486\n",
      "Procesando fotograma 487\n",
      "Procesando fotograma 488\n",
      "Procesando fotograma 489\n",
      "Procesando fotograma 490\n",
      "Procesando fotograma 491\n",
      "Procesando fotograma 492\n",
      "Procesando fotograma 493\n",
      "Procesando fotograma 494\n",
      "Procesando fotograma 495\n",
      "Procesando fotograma 496\n",
      "Procesando fotograma 497\n",
      "Procesando fotograma 498\n",
      "Procesando fotograma 499\n",
      "Procesando fotograma 500\n",
      "Procesando fotograma 501\n",
      "Procesando fotograma 502\n",
      "Procesando fotograma 503\n",
      "Procesando fotograma 504\n",
      "Procesando fotograma 505\n",
      "Procesando fotograma 506\n",
      "Procesando fotograma 507\n",
      "Procesando fotograma 508\n",
      "Procesando fotograma 509\n",
      "Procesando fotograma 510\n",
      "Procesando fotograma 511\n",
      "Procesando fotograma 512\n",
      "Procesando fotograma 513\n",
      "Procesando fotograma 514\n",
      "Procesando fotograma 515\n",
      "Procesando fotograma 516\n",
      "Procesando fotograma 517\n",
      "Procesando fotograma 518\n",
      "Procesando fotograma 519\n",
      "Procesando fotograma 520\n",
      "Procesando fotograma 521\n",
      "Procesando fotograma 522\n",
      "Procesando fotograma 523\n",
      "Procesando fotograma 524\n",
      "Procesando fotograma 525\n",
      "Procesando fotograma 526\n",
      "Procesando fotograma 527\n",
      "Procesando fotograma 528\n",
      "Procesando fotograma 529\n",
      "Procesando fotograma 530\n",
      "Procesando fotograma 531\n",
      "Procesando fotograma 532\n",
      "Procesando fotograma 533\n",
      "Procesando fotograma 534\n",
      "Procesando fotograma 535\n",
      "Procesando fotograma 536\n",
      "Procesando fotograma 537\n",
      "Procesando fotograma 538\n",
      "Procesando fotograma 539\n",
      "Procesando fotograma 540\n",
      "Procesando fotograma 541\n",
      "Procesando fotograma 542\n",
      "Procesando fotograma 543\n",
      "Procesando fotograma 544\n",
      "Procesando fotograma 545\n",
      "Procesando fotograma 546\n",
      "Procesando fotograma 547\n",
      "Procesando fotograma 548\n",
      "Procesando fotograma 549\n",
      "Procesando fotograma 550\n",
      "Procesando fotograma 551\n",
      "Procesando fotograma 552\n",
      "Procesando fotograma 553\n",
      "Procesando fotograma 554\n",
      "Procesando fotograma 555\n",
      "Procesando fotograma 556\n",
      "Procesando fotograma 557\n",
      "Procesando fotograma 558\n",
      "Procesando fotograma 559\n",
      "Procesando fotograma 560\n",
      "Procesando fotograma 561\n",
      "Procesando fotograma 562\n",
      "Procesando fotograma 563\n",
      "Procesando fotograma 564\n",
      "Procesando fotograma 565\n",
      "Procesando fotograma 566\n",
      "Procesando fotograma 567\n",
      "Procesando fotograma 568\n",
      "Procesando fotograma 569\n",
      "Procesando fotograma 570\n",
      "Procesando fotograma 571\n",
      "Procesando fotograma 572\n",
      "Procesando fotograma 573\n",
      "Procesando fotograma 574\n",
      "Procesando fotograma 575\n",
      "Procesando fotograma 576\n",
      "Procesando fotograma 577\n",
      "Procesando fotograma 578\n",
      "Procesando fotograma 579\n",
      "Procesando fotograma 580\n",
      "Procesando fotograma 581\n",
      "Procesando fotograma 582\n",
      "Procesando fotograma 583\n",
      "Procesando fotograma 584\n",
      "Procesando fotograma 585\n",
      "Procesando fotograma 586\n",
      "Procesando fotograma 587\n",
      "Procesando fotograma 588\n",
      "Procesando fotograma 589\n",
      "Procesando fotograma 590\n",
      "Procesando fotograma 591\n",
      "Procesando fotograma 592\n",
      "Procesando fotograma 593\n",
      "Procesando fotograma 594\n",
      "Procesando fotograma 595\n",
      "Procesando fotograma 596\n",
      "Procesando fotograma 597\n",
      "Procesando fotograma 598\n",
      "Procesando fotograma 599\n",
      "Procesando fotograma 600\n",
      "Procesando fotograma 601\n",
      "Procesando fotograma 602\n",
      "Procesando fotograma 603\n",
      "Procesando fotograma 604\n",
      "Procesando fotograma 605\n",
      "Procesando fotograma 606\n",
      "Procesando fotograma 607\n",
      "Procesando fotograma 608\n",
      "Procesando fotograma 609\n",
      "Procesando fotograma 610\n",
      "Procesando fotograma 611\n",
      "Procesando fotograma 612\n",
      "Procesando fotograma 613\n",
      "Procesando fotograma 614\n",
      "Procesando fotograma 615\n",
      "Procesando fotograma 616\n",
      "Procesando fotograma 617\n",
      "Procesando fotograma 618\n",
      "Procesando fotograma 619\n",
      "Procesando fotograma 620\n",
      "Procesando fotograma 621\n",
      "Procesando fotograma 622\n",
      "Procesando fotograma 623\n",
      "Procesando fotograma 624\n",
      "Procesando fotograma 625\n",
      "Procesando fotograma 626\n",
      "Procesando fotograma 627\n",
      "Procesando fotograma 628\n",
      "Procesando fotograma 629\n",
      "Procesando fotograma 630\n",
      "Procesando fotograma 631\n",
      "Procesando fotograma 632\n",
      "Procesando fotograma 633\n",
      "Procesando fotograma 634\n",
      "Procesando fotograma 635\n",
      "Procesando fotograma 636\n",
      "Procesando fotograma 637\n",
      "Procesando fotograma 638\n",
      "Procesando fotograma 639\n",
      "Procesando fotograma 640\n",
      "Procesando fotograma 641\n",
      "Procesando fotograma 642\n",
      "Matrícula detectada en fotograma 642: La con confianza 0.6278127784400129\n",
      "Procesando fotograma 643\n",
      "Procesando fotograma 644\n",
      "Procesando fotograma 645\n",
      "Procesando fotograma 646\n",
      "Procesando fotograma 647\n",
      "Procesando fotograma 648\n",
      "Procesando fotograma 649\n",
      "Procesando fotograma 650\n",
      "Procesando fotograma 651\n",
      "Procesando fotograma 652\n",
      "Procesando fotograma 653\n",
      "Procesando fotograma 654\n",
      "Procesando fotograma 655\n",
      "Procesando fotograma 656\n",
      "Procesando fotograma 657\n",
      "Procesando fotograma 658\n",
      "Procesando fotograma 659\n",
      "Procesando fotograma 660\n",
      "Procesando fotograma 661\n",
      "Procesando fotograma 662\n",
      "Procesando fotograma 663\n",
      "Procesando fotograma 664\n",
      "Procesando fotograma 665\n",
      "Procesando fotograma 666\n",
      "Procesando fotograma 667\n",
      "Procesando fotograma 668\n",
      "Procesando fotograma 669\n",
      "Procesando fotograma 670\n",
      "Procesando fotograma 671\n",
      "Procesando fotograma 672\n",
      "Procesando fotograma 673\n",
      "Procesando fotograma 674\n",
      "Procesando fotograma 675\n",
      "Procesando fotograma 676\n",
      "Procesando fotograma 677\n",
      "Procesando fotograma 678\n",
      "Procesando fotograma 679\n",
      "Procesando fotograma 680\n",
      "Procesando fotograma 681\n",
      "Procesando fotograma 682\n",
      "Procesando fotograma 683\n",
      "Procesando fotograma 684\n",
      "Procesando fotograma 685\n",
      "Procesando fotograma 686\n",
      "Procesando fotograma 687\n",
      "Procesando fotograma 688\n",
      "Procesando fotograma 689\n",
      "Procesando fotograma 690\n",
      "Procesando fotograma 691\n",
      "Procesando fotograma 692\n",
      "Procesando fotograma 693\n",
      "Procesando fotograma 694\n",
      "Procesando fotograma 695\n",
      "Procesando fotograma 696\n",
      "Procesando fotograma 697\n",
      "Procesando fotograma 698\n",
      "Procesando fotograma 699\n",
      "Procesando fotograma 700\n",
      "Procesando fotograma 701\n",
      "Procesando fotograma 702\n",
      "Procesando fotograma 703\n",
      "Procesando fotograma 704\n",
      "Procesando fotograma 705\n",
      "Procesando fotograma 706\n",
      "Procesando fotograma 707\n",
      "Procesando fotograma 708\n",
      "Procesando fotograma 709\n",
      "Procesando fotograma 710\n",
      "Procesando fotograma 711\n",
      "Procesando fotograma 712\n",
      "Procesando fotograma 713\n",
      "Procesando fotograma 714\n",
      "Procesando fotograma 715\n",
      "Procesando fotograma 716\n",
      "Procesando fotograma 717\n",
      "Procesando fotograma 718\n",
      "Procesando fotograma 719\n",
      "Procesando fotograma 720\n",
      "Procesando fotograma 721\n",
      "Procesando fotograma 722\n",
      "Procesando fotograma 723\n",
      "Procesando fotograma 724\n",
      "Procesando fotograma 725\n",
      "Procesando fotograma 726\n",
      "Procesando fotograma 727\n",
      "Procesando fotograma 728\n",
      "Procesando fotograma 729\n",
      "Procesando fotograma 730\n",
      "Procesando fotograma 731\n",
      "Procesando fotograma 732\n",
      "Procesando fotograma 733\n",
      "Procesando fotograma 734\n",
      "Procesando fotograma 735\n",
      "Procesando fotograma 736\n",
      "Procesando fotograma 737\n",
      "Procesando fotograma 738\n",
      "Procesando fotograma 739\n",
      "Procesando fotograma 740\n",
      "Procesando fotograma 741\n",
      "Procesando fotograma 742\n",
      "Procesando fotograma 743\n",
      "Procesando fotograma 744\n",
      "Procesando fotograma 745\n",
      "Procesando fotograma 746\n",
      "Procesando fotograma 747\n",
      "Procesando fotograma 748\n",
      "Procesando fotograma 749\n",
      "Procesando fotograma 750\n",
      "Procesando fotograma 751\n",
      "Matrícula detectada en fotograma 751: Wiu con confianza 0.318336379553293\n",
      "Procesando fotograma 752\n",
      "Procesando fotograma 753\n",
      "Procesando fotograma 754\n",
      "Procesando fotograma 755\n",
      "Procesando fotograma 756\n",
      "Procesando fotograma 757\n",
      "Procesando fotograma 758\n",
      "Procesando fotograma 759\n",
      "Procesando fotograma 760\n",
      "Procesando fotograma 761\n",
      "Procesando fotograma 762\n",
      "Procesando fotograma 763\n",
      "Procesando fotograma 764\n",
      "Matrícula detectada en fotograma 764: IuC con confianza 0.45317711781959136\n",
      "Procesando fotograma 765\n",
      "Procesando fotograma 766\n",
      "Matrícula detectada en fotograma 766: Innu con confianza 0.5583298206329346\n",
      "Procesando fotograma 767\n",
      "Procesando fotograma 768\n",
      "Procesando fotograma 769\n",
      "Procesando fotograma 770\n",
      "Procesando fotograma 771\n",
      "Procesando fotograma 772\n",
      "Procesando fotograma 773\n",
      "Procesando fotograma 774\n",
      "Procesando fotograma 775\n",
      "Procesando fotograma 776\n",
      "Procesando fotograma 777\n",
      "Procesando fotograma 778\n",
      "Procesando fotograma 779\n",
      "Procesando fotograma 780\n",
      "Procesando fotograma 781\n",
      "Procesando fotograma 782\n",
      "Procesando fotograma 783\n",
      "Procesando fotograma 784\n",
      "Procesando fotograma 785\n",
      "Procesando fotograma 786\n",
      "Procesando fotograma 787\n",
      "Procesando fotograma 788\n",
      "Procesando fotograma 789\n",
      "Procesando fotograma 790\n",
      "Procesando fotograma 791\n",
      "Procesando fotograma 792\n",
      "Procesando fotograma 793\n",
      "Procesando fotograma 794\n",
      "Procesando fotograma 795\n",
      "Procesando fotograma 796\n",
      "Procesando fotograma 797\n",
      "Procesando fotograma 798\n",
      "Procesando fotograma 799\n",
      "Procesando fotograma 800\n",
      "Procesando fotograma 801\n",
      "Procesando fotograma 802\n",
      "Procesando fotograma 803\n",
      "Procesando fotograma 804\n",
      "Procesando fotograma 805\n",
      "Procesando fotograma 806\n",
      "Procesando fotograma 807\n",
      "Procesando fotograma 808\n",
      "Procesando fotograma 809\n",
      "Procesando fotograma 810\n",
      "Procesando fotograma 811\n",
      "Procesando fotograma 812\n",
      "Procesando fotograma 813\n",
      "Procesando fotograma 814\n",
      "Procesando fotograma 815\n",
      "Procesando fotograma 816\n",
      "Procesando fotograma 817\n",
      "Procesando fotograma 818\n",
      "Procesando fotograma 819\n",
      "Procesando fotograma 820\n",
      "Procesando fotograma 821\n",
      "Procesando fotograma 822\n",
      "Procesando fotograma 823\n",
      "Procesando fotograma 824\n",
      "Procesando fotograma 825\n",
      "Procesando fotograma 826\n",
      "Procesando fotograma 827\n",
      "Procesando fotograma 828\n",
      "Procesando fotograma 829\n",
      "Procesando fotograma 830\n",
      "Procesando fotograma 831\n",
      "Procesando fotograma 832\n",
      "Procesando fotograma 833\n",
      "Procesando fotograma 834\n",
      "Procesando fotograma 835\n",
      "Procesando fotograma 836\n",
      "Procesando fotograma 837\n",
      "Procesando fotograma 838\n",
      "Procesando fotograma 839\n",
      "Procesando fotograma 840\n",
      "Procesando fotograma 841\n",
      "Procesando fotograma 842\n",
      "Procesando fotograma 843\n",
      "Procesando fotograma 844\n",
      "Procesando fotograma 845\n",
      "Procesando fotograma 846\n",
      "Procesando fotograma 847\n",
      "Procesando fotograma 848\n",
      "Procesando fotograma 849\n",
      "Procesando fotograma 850\n",
      "Procesando fotograma 851\n",
      "Procesando fotograma 852\n",
      "Procesando fotograma 853\n",
      "Procesando fotograma 854\n",
      "Procesando fotograma 855\n",
      "Procesando fotograma 856\n",
      "Procesando fotograma 857\n",
      "Procesando fotograma 858\n",
      "Procesando fotograma 859\n",
      "Procesando fotograma 860\n",
      "Procesando fotograma 861\n",
      "Procesando fotograma 862\n",
      "Procesando fotograma 863\n",
      "Procesando fotograma 864\n",
      "Procesando fotograma 865\n",
      "Procesando fotograma 866\n",
      "Procesando fotograma 867\n",
      "Procesando fotograma 868\n",
      "Procesando fotograma 869\n",
      "Procesando fotograma 870\n",
      "Procesando fotograma 871\n",
      "Procesando fotograma 872\n",
      "Procesando fotograma 873\n",
      "Procesando fotograma 874\n",
      "Procesando fotograma 875\n",
      "Procesando fotograma 876\n",
      "Procesando fotograma 877\n",
      "Procesando fotograma 878\n",
      "Procesando fotograma 879\n",
      "Procesando fotograma 880\n",
      "Procesando fotograma 881\n",
      "Procesando fotograma 882\n",
      "Procesando fotograma 883\n",
      "Procesando fotograma 884\n",
      "Procesando fotograma 885\n",
      "Procesando fotograma 886\n",
      "Procesando fotograma 887\n",
      "Procesando fotograma 888\n",
      "Procesando fotograma 889\n",
      "Procesando fotograma 890\n",
      "Procesando fotograma 891\n",
      "Procesando fotograma 892\n",
      "Procesando fotograma 893\n",
      "Procesando fotograma 894\n",
      "Procesando fotograma 895\n",
      "Procesando fotograma 896\n",
      "Procesando fotograma 897\n",
      "Procesando fotograma 898\n",
      "Procesando fotograma 899\n",
      "Procesando fotograma 900\n",
      "Procesando fotograma 901\n",
      "Procesando fotograma 902\n",
      "Procesando fotograma 903\n",
      "Procesando fotograma 904\n",
      "Procesando fotograma 905\n",
      "Procesando fotograma 906\n",
      "Procesando fotograma 907\n",
      "Procesando fotograma 908\n",
      "Procesando fotograma 909\n",
      "Procesando fotograma 910\n",
      "Procesando fotograma 911\n",
      "Procesando fotograma 912\n",
      "Procesando fotograma 913\n",
      "Procesando fotograma 914\n",
      "Procesando fotograma 915\n",
      "Procesando fotograma 916\n",
      "Matrícula detectada en fotograma 916: S35 con confianza 0.18482938527921952\n",
      "Procesando fotograma 917\n",
      "Procesando fotograma 918\n",
      "Procesando fotograma 919\n",
      "Procesando fotograma 920\n",
      "Procesando fotograma 921\n",
      "Procesando fotograma 922\n",
      "Procesando fotograma 923\n",
      "Procesando fotograma 924\n",
      "Procesando fotograma 925\n",
      "Procesando fotograma 926\n",
      "Procesando fotograma 927\n",
      "Procesando fotograma 928\n",
      "Procesando fotograma 929\n",
      "Procesando fotograma 930\n",
      "Procesando fotograma 931\n",
      "Procesando fotograma 932\n",
      "Procesando fotograma 933\n",
      "Procesando fotograma 934\n",
      "Procesando fotograma 935\n",
      "Procesando fotograma 936\n",
      "Procesando fotograma 937\n",
      "Procesando fotograma 938\n",
      "Procesando fotograma 939\n",
      "Procesando fotograma 940\n",
      "Procesando fotograma 941\n",
      "Procesando fotograma 942\n",
      "Procesando fotograma 943\n",
      "Procesando fotograma 944\n",
      "Procesando fotograma 945\n",
      "Procesando fotograma 946\n",
      "Procesando fotograma 947\n",
      "Procesando fotograma 948\n",
      "Procesando fotograma 949\n",
      "Procesando fotograma 950\n",
      "Procesando fotograma 951\n",
      "Procesando fotograma 952\n",
      "Procesando fotograma 953\n",
      "Procesando fotograma 954\n",
      "Procesando fotograma 955\n",
      "Procesando fotograma 956\n",
      "Procesando fotograma 957\n",
      "Procesando fotograma 958\n",
      "Procesando fotograma 959\n",
      "Procesando fotograma 960\n",
      "Procesando fotograma 961\n",
      "Procesando fotograma 962\n",
      "Procesando fotograma 963\n",
      "Procesando fotograma 964\n",
      "Procesando fotograma 965\n",
      "Procesando fotograma 966\n",
      "Procesando fotograma 967\n",
      "Procesando fotograma 968\n",
      "Procesando fotograma 969\n",
      "Procesando fotograma 970\n",
      "Procesando fotograma 971\n",
      "Procesando fotograma 972\n",
      "Procesando fotograma 973\n",
      "Procesando fotograma 974\n",
      "Procesando fotograma 975\n",
      "Procesando fotograma 976\n",
      "Procesando fotograma 977\n",
      "Procesando fotograma 978\n",
      "Procesando fotograma 979\n",
      "Procesando fotograma 980\n",
      "Procesando fotograma 981\n",
      "Procesando fotograma 982\n",
      "Procesando fotograma 983\n",
      "Procesando fotograma 984\n",
      "Procesando fotograma 985\n",
      "Procesando fotograma 986\n",
      "Procesando fotograma 987\n",
      "Procesando fotograma 988\n",
      "Procesando fotograma 989\n",
      "Procesando fotograma 990\n",
      "Procesando fotograma 991\n",
      "Procesando fotograma 992\n",
      "Procesando fotograma 993\n",
      "Procesando fotograma 994\n",
      "Procesando fotograma 995\n",
      "Procesando fotograma 996\n",
      "Procesando fotograma 997\n",
      "Procesando fotograma 998\n",
      "Procesando fotograma 999\n",
      "Procesando fotograma 1000\n",
      "Procesando fotograma 1001\n",
      "Procesando fotograma 1002\n",
      "Procesando fotograma 1003\n",
      "Procesando fotograma 1004\n",
      "Procesando fotograma 1005\n",
      "Procesando fotograma 1006\n",
      "Procesando fotograma 1007\n",
      "Procesando fotograma 1008\n",
      "Procesando fotograma 1009\n",
      "Procesando fotograma 1010\n",
      "Procesando fotograma 1011\n",
      "Procesando fotograma 1012\n",
      "Procesando fotograma 1013\n",
      "Procesando fotograma 1014\n",
      "Procesando fotograma 1015\n",
      "Procesando fotograma 1016\n",
      "Procesando fotograma 1017\n",
      "Procesando fotograma 1018\n",
      "Procesando fotograma 1019\n",
      "Procesando fotograma 1020\n",
      "Procesando fotograma 1021\n",
      "Procesando fotograma 1022\n",
      "Procesando fotograma 1023\n",
      "Procesando fotograma 1024\n",
      "Procesando fotograma 1025\n",
      "Procesando fotograma 1026\n",
      "Procesando fotograma 1027\n",
      "Procesando fotograma 1028\n",
      "Procesando fotograma 1029\n",
      "Procesando fotograma 1030\n",
      "Procesando fotograma 1031\n",
      "Procesando fotograma 1032\n",
      "Procesando fotograma 1033\n",
      "Procesando fotograma 1034\n",
      "Matrícula detectada en fotograma 1034: 10aligs con confianza 0.02319069495044912\n",
      "Procesando fotograma 1035\n",
      "Procesando fotograma 1036\n",
      "Procesando fotograma 1037\n",
      "Procesando fotograma 1038\n",
      "Matrícula detectada en fotograma 1038: IDeuyCs con confianza 0.10289425456616244\n",
      "Procesando fotograma 1039\n",
      "Procesando fotograma 1040\n",
      "Matrícula detectada en fotograma 1040: IoazsKcG con confianza 0.12698508127683975\n",
      "Procesando fotograma 1041\n",
      "Procesando fotograma 1042\n",
      "Procesando fotograma 1043\n",
      "Procesando fotograma 1044\n",
      "Procesando fotograma 1045\n",
      "Procesando fotograma 1046\n",
      "Procesando fotograma 1047\n",
      "Procesando fotograma 1048\n",
      "Procesando fotograma 1049\n",
      "Procesando fotograma 1050\n",
      "Procesando fotograma 1051\n",
      "Procesando fotograma 1052\n",
      "Procesando fotograma 1053\n",
      "Procesando fotograma 1054\n",
      "Procesando fotograma 1055\n",
      "Procesando fotograma 1056\n",
      "Procesando fotograma 1057\n",
      "Procesando fotograma 1058\n",
      "Procesando fotograma 1059\n",
      "Procesando fotograma 1060\n",
      "Procesando fotograma 1061\n",
      "Procesando fotograma 1062\n",
      "Procesando fotograma 1063\n",
      "Procesando fotograma 1064\n",
      "Procesando fotograma 1065\n",
      "Procesando fotograma 1066\n",
      "Procesando fotograma 1067\n",
      "Procesando fotograma 1068\n",
      "Procesando fotograma 1069\n",
      "Procesando fotograma 1070\n",
      "Procesando fotograma 1071\n",
      "Procesando fotograma 1072\n",
      "Procesando fotograma 1073\n",
      "Procesando fotograma 1074\n",
      "Procesando fotograma 1075\n",
      "Procesando fotograma 1076\n",
      "Procesando fotograma 1077\n",
      "Procesando fotograma 1078\n",
      "Procesando fotograma 1079\n",
      "Procesando fotograma 1080\n",
      "Procesando fotograma 1081\n",
      "Procesando fotograma 1082\n",
      "Procesando fotograma 1083\n",
      "Procesando fotograma 1084\n",
      "Procesando fotograma 1085\n",
      "Procesando fotograma 1086\n",
      "Procesando fotograma 1087\n",
      "Procesando fotograma 1088\n",
      "Procesando fotograma 1089\n",
      "Procesando fotograma 1090\n",
      "Procesando fotograma 1091\n",
      "Procesando fotograma 1092\n",
      "Procesando fotograma 1093\n",
      "Procesando fotograma 1094\n",
      "Procesando fotograma 1095\n",
      "Procesando fotograma 1096\n",
      "Procesando fotograma 1097\n",
      "Procesando fotograma 1098\n",
      "Procesando fotograma 1099\n",
      "Procesando fotograma 1100\n",
      "Procesando fotograma 1101\n",
      "Procesando fotograma 1102\n",
      "Procesando fotograma 1103\n",
      "Procesando fotograma 1104\n",
      "Procesando fotograma 1105\n",
      "Procesando fotograma 1106\n",
      "Procesando fotograma 1107\n",
      "Procesando fotograma 1108\n",
      "Procesando fotograma 1109\n",
      "Procesando fotograma 1110\n",
      "Procesando fotograma 1111\n",
      "Procesando fotograma 1112\n",
      "Procesando fotograma 1113\n",
      "Procesando fotograma 1114\n",
      "Procesando fotograma 1115\n",
      "Procesando fotograma 1116\n",
      "Procesando fotograma 1117\n",
      "Procesando fotograma 1118\n",
      "Procesando fotograma 1119\n",
      "Procesando fotograma 1120\n",
      "Procesando fotograma 1121\n",
      "Procesando fotograma 1122\n",
      "Procesando fotograma 1123\n",
      "Procesando fotograma 1124\n",
      "Procesando fotograma 1125\n",
      "Procesando fotograma 1126\n",
      "Procesando fotograma 1127\n",
      "Procesando fotograma 1128\n",
      "Procesando fotograma 1129\n",
      "Procesando fotograma 1130\n",
      "Procesando fotograma 1131\n",
      "Procesando fotograma 1132\n",
      "Procesando fotograma 1133\n",
      "Procesando fotograma 1134\n",
      "Procesando fotograma 1135\n",
      "Procesando fotograma 1136\n",
      "Procesando fotograma 1137\n",
      "Procesando fotograma 1138\n",
      "Procesando fotograma 1139\n",
      "Procesando fotograma 1140\n",
      "Procesando fotograma 1141\n",
      "Procesando fotograma 1142\n",
      "Procesando fotograma 1143\n",
      "Procesando fotograma 1144\n",
      "Procesando fotograma 1145\n",
      "Procesando fotograma 1146\n",
      "Procesando fotograma 1147\n",
      "Procesando fotograma 1148\n",
      "Procesando fotograma 1149\n",
      "Procesando fotograma 1150\n",
      "Procesando fotograma 1151\n",
      "Procesando fotograma 1152\n",
      "Procesando fotograma 1153\n",
      "Procesando fotograma 1154\n",
      "Procesando fotograma 1155\n",
      "Procesando fotograma 1156\n",
      "Procesando fotograma 1157\n",
      "Procesando fotograma 1158\n",
      "Procesando fotograma 1159\n",
      "Procesando fotograma 1160\n",
      "Procesando fotograma 1161\n",
      "Procesando fotograma 1162\n",
      "Procesando fotograma 1163\n",
      "Procesando fotograma 1164\n",
      "Procesando fotograma 1165\n",
      "Procesando fotograma 1166\n",
      "Procesando fotograma 1167\n",
      "Procesando fotograma 1168\n",
      "Procesando fotograma 1169\n",
      "Procesando fotograma 1170\n",
      "Procesando fotograma 1171\n",
      "Procesando fotograma 1172\n",
      "Procesando fotograma 1173\n",
      "Procesando fotograma 1174\n",
      "Procesando fotograma 1175\n",
      "Procesando fotograma 1176\n",
      "Procesando fotograma 1177\n",
      "Procesando fotograma 1178\n",
      "Procesando fotograma 1179\n",
      "Procesando fotograma 1180\n",
      "Procesando fotograma 1181\n",
      "Procesando fotograma 1182\n",
      "Procesando fotograma 1183\n",
      "Procesando fotograma 1184\n",
      "Procesando fotograma 1185\n",
      "Procesando fotograma 1186\n",
      "Procesando fotograma 1187\n",
      "Procesando fotograma 1188\n",
      "Procesando fotograma 1189\n",
      "Procesando fotograma 1190\n",
      "Procesando fotograma 1191\n",
      "Procesando fotograma 1192\n",
      "Procesando fotograma 1193\n",
      "Procesando fotograma 1194\n",
      "Procesando fotograma 1195\n",
      "Procesando fotograma 1196\n",
      "Procesando fotograma 1197\n",
      "Procesando fotograma 1198\n",
      "Procesando fotograma 1199\n",
      "Procesando fotograma 1200\n",
      "Procesando fotograma 1201\n",
      "Procesando fotograma 1202\n",
      "Procesando fotograma 1203\n",
      "Procesando fotograma 1204\n",
      "Procesando fotograma 1205\n",
      "Procesando fotograma 1206\n",
      "Procesando fotograma 1207\n",
      "Procesando fotograma 1208\n",
      "Procesando fotograma 1209\n",
      "Procesando fotograma 1210\n",
      "Procesando fotograma 1211\n",
      "Procesando fotograma 1212\n",
      "Procesando fotograma 1213\n",
      "Procesando fotograma 1214\n",
      "Procesando fotograma 1215\n",
      "Procesando fotograma 1216\n",
      "Procesando fotograma 1217\n",
      "Procesando fotograma 1218\n",
      "Procesando fotograma 1219\n",
      "Procesando fotograma 1220\n",
      "Procesando fotograma 1221\n",
      "Procesando fotograma 1222\n",
      "Procesando fotograma 1223\n",
      "Procesando fotograma 1224\n",
      "Procesando fotograma 1225\n",
      "Procesando fotograma 1226\n",
      "Procesando fotograma 1227\n",
      "Procesando fotograma 1228\n",
      "Procesando fotograma 1229\n",
      "Procesando fotograma 1230\n",
      "Procesando fotograma 1231\n",
      "Procesando fotograma 1232\n",
      "Procesando fotograma 1233\n",
      "Procesando fotograma 1234\n",
      "Procesando fotograma 1235\n",
      "Procesando fotograma 1236\n",
      "Procesando fotograma 1237\n",
      "Procesando fotograma 1238\n",
      "Procesando fotograma 1239\n",
      "Procesando fotograma 1240\n",
      "Procesando fotograma 1241\n",
      "Procesando fotograma 1242\n",
      "Procesando fotograma 1243\n",
      "Matrícula detectada en fotograma 1243: Iar con confianza 0.06488928792262234\n",
      "Procesando fotograma 1244\n",
      "Matrícula detectada en fotograma 1244: [ con confianza 0.08683779498943611\n",
      "Procesando fotograma 1245\n",
      "Procesando fotograma 1246\n",
      "Procesando fotograma 1247\n",
      "Procesando fotograma 1248\n",
      "Procesando fotograma 1249\n",
      "Procesando fotograma 1250\n",
      "Procesando fotograma 1251\n",
      "Procesando fotograma 1252\n",
      "Procesando fotograma 1253\n",
      "Procesando fotograma 1254\n",
      "Procesando fotograma 1255\n",
      "Procesando fotograma 1256\n",
      "Procesando fotograma 1257\n",
      "Procesando fotograma 1258\n",
      "Procesando fotograma 1259\n",
      "Procesando fotograma 1260\n",
      "Procesando fotograma 1261\n",
      "Procesando fotograma 1262\n",
      "Procesando fotograma 1263\n",
      "Procesando fotograma 1264\n",
      "Procesando fotograma 1265\n",
      "Procesando fotograma 1266\n",
      "Procesando fotograma 1267\n",
      "Procesando fotograma 1268\n",
      "Procesando fotograma 1269\n",
      "Procesando fotograma 1270\n",
      "Procesando fotograma 1271\n",
      "Procesando fotograma 1272\n",
      "Procesando fotograma 1273\n",
      "Procesando fotograma 1274\n",
      "Procesando fotograma 1275\n",
      "Procesando fotograma 1276\n",
      "Procesando fotograma 1277\n",
      "Procesando fotograma 1278\n",
      "Matrícula detectada en fotograma 1278: ouo con confianza 0.20737195699924693\n",
      "Procesando fotograma 1279\n",
      "Procesando fotograma 1280\n",
      "Procesando fotograma 1281\n",
      "Procesando fotograma 1282\n",
      "Procesando fotograma 1283\n",
      "Procesando fotograma 1284\n",
      "Procesando fotograma 1285\n",
      "Procesando fotograma 1286\n",
      "Procesando fotograma 1287\n",
      "Procesando fotograma 1288\n",
      "Procesando fotograma 1289\n",
      "Procesando fotograma 1290\n",
      "Procesando fotograma 1291\n",
      "Procesando fotograma 1292\n",
      "Procesando fotograma 1293\n",
      "Procesando fotograma 1294\n",
      "Procesando fotograma 1295\n",
      "Matrícula detectada en fotograma 1295: 6713 con confianza 0.38844627141952515\n",
      "Procesando fotograma 1296\n",
      "Procesando fotograma 1297\n",
      "Procesando fotograma 1298\n",
      "Procesando fotograma 1299\n",
      "Procesando fotograma 1300\n",
      "Procesando fotograma 1301\n",
      "Procesando fotograma 1302\n",
      "Procesando fotograma 1303\n",
      "Procesando fotograma 1304\n",
      "Procesando fotograma 1305\n",
      "Procesando fotograma 1306\n",
      "Procesando fotograma 1307\n",
      "Procesando fotograma 1308\n",
      "Procesando fotograma 1309\n",
      "Procesando fotograma 1310\n",
      "Procesando fotograma 1311\n",
      "Procesando fotograma 1312\n",
      "Procesando fotograma 1313\n",
      "Procesando fotograma 1314\n",
      "Procesando fotograma 1315\n",
      "Procesando fotograma 1316\n",
      "Procesando fotograma 1317\n",
      "Procesando fotograma 1318\n",
      "Procesando fotograma 1319\n",
      "Procesando fotograma 1320\n",
      "Procesando fotograma 1321\n",
      "Procesando fotograma 1322\n",
      "Procesando fotograma 1323\n",
      "Procesando fotograma 1324\n",
      "Procesando fotograma 1325\n",
      "Procesando fotograma 1326\n",
      "Procesando fotograma 1327\n",
      "Procesando fotograma 1328\n",
      "Procesando fotograma 1329\n",
      "Procesando fotograma 1330\n",
      "Procesando fotograma 1331\n",
      "Procesando fotograma 1332\n",
      "Procesando fotograma 1333\n",
      "Procesando fotograma 1334\n",
      "Matrícula detectada en fotograma 1334: Mai con confianza 0.028674070748641176\n",
      "Procesando fotograma 1335\n",
      "Procesando fotograma 1336\n",
      "Matrícula detectada en fotograma 1336: Iang con confianza 0.10727737843990326\n",
      "Procesando fotograma 1337\n",
      "Matrícula detectada en fotograma 1337: Ipg con confianza 0.4123263581427638\n",
      "Procesando fotograma 1338\n",
      "Procesando fotograma 1339\n",
      "Procesando fotograma 1340\n",
      "Procesando fotograma 1341\n",
      "Procesando fotograma 1342\n",
      "Procesando fotograma 1343\n",
      "Procesando fotograma 1344\n",
      "Procesando fotograma 1345\n",
      "Procesando fotograma 1346\n",
      "Procesando fotograma 1347\n",
      "Procesando fotograma 1348\n",
      "Procesando fotograma 1349\n",
      "Procesando fotograma 1350\n",
      "Procesando fotograma 1351\n",
      "Procesando fotograma 1352\n",
      "Procesando fotograma 1353\n",
      "Procesando fotograma 1354\n",
      "Procesando fotograma 1355\n",
      "Procesando fotograma 1356\n",
      "Procesando fotograma 1357\n",
      "Procesando fotograma 1358\n",
      "Procesando fotograma 1359\n",
      "Procesando fotograma 1360\n",
      "Procesando fotograma 1361\n",
      "Procesando fotograma 1362\n",
      "Procesando fotograma 1363\n",
      "Procesando fotograma 1364\n",
      "Procesando fotograma 1365\n",
      "Procesando fotograma 1366\n",
      "Procesando fotograma 1367\n",
      "Procesando fotograma 1368\n",
      "Procesando fotograma 1369\n",
      "Procesando fotograma 1370\n",
      "Procesando fotograma 1371\n",
      "Procesando fotograma 1372\n",
      "Procesando fotograma 1373\n",
      "Procesando fotograma 1374\n",
      "Procesando fotograma 1375\n",
      "Procesando fotograma 1376\n",
      "Procesando fotograma 1377\n",
      "Procesando fotograma 1378\n",
      "Procesando fotograma 1379\n",
      "Procesando fotograma 1380\n",
      "Procesando fotograma 1381\n",
      "Procesando fotograma 1382\n",
      "Procesando fotograma 1383\n",
      "Procesando fotograma 1384\n",
      "Procesando fotograma 1385\n",
      "Procesando fotograma 1386\n",
      "Procesando fotograma 1387\n",
      "Procesando fotograma 1388\n",
      "Procesando fotograma 1389\n",
      "Procesando fotograma 1390\n",
      "Procesando fotograma 1391\n",
      "Procesando fotograma 1392\n",
      "Procesando fotograma 1393\n",
      "Procesando fotograma 1394\n",
      "Procesando fotograma 1395\n",
      "Procesando fotograma 1396\n",
      "Procesando fotograma 1397\n",
      "Procesando fotograma 1398\n",
      "Procesando fotograma 1399\n",
      "Procesando fotograma 1400\n",
      "Procesando fotograma 1401\n",
      "Procesando fotograma 1402\n",
      "Procesando fotograma 1403\n",
      "Procesando fotograma 1404\n",
      "Procesando fotograma 1405\n",
      "Procesando fotograma 1406\n",
      "Procesando fotograma 1407\n",
      "Procesando fotograma 1408\n",
      "Matrícula detectada en fotograma 1408: 48s con confianza 0.06694980762376297\n",
      "Procesando fotograma 1409\n",
      "Matrícula detectada en fotograma 1409: [ES(C con confianza 0.11676520165346378\n",
      "Procesando fotograma 1410\n",
      "Procesando fotograma 1411\n",
      "Procesando fotograma 1412\n",
      "Procesando fotograma 1413\n",
      "Procesando fotograma 1414\n",
      "Procesando fotograma 1415\n",
      "Matrícula detectada en fotograma 1415: [9T8312 con confianza 0.17159991107793313\n",
      "Procesando fotograma 1416\n",
      "Procesando fotograma 1417\n",
      "Matrícula detectada en fotograma 1417: FIR con confianza 0.21428027749061584\n",
      "Procesando fotograma 1418\n",
      "Matrícula detectada en fotograma 1418: [SJESLCJ con confianza 0.2566179633763495\n",
      "Procesando fotograma 1419\n",
      "Procesando fotograma 1420\n",
      "Procesando fotograma 1421\n",
      "Matrícula detectada en fotograma 1421: ma con confianza 0.7192826633731892\n",
      "Procesando fotograma 1422\n",
      "Procesando fotograma 1423\n",
      "Procesando fotograma 1424\n",
      "Procesando fotograma 1425\n",
      "Procesando fotograma 1426\n",
      "Procesando fotograma 1427\n",
      "Matrícula detectada en fotograma 1427: E=zE con confianza 0.3270356059074402\n",
      "Procesando fotograma 1428\n",
      "Procesando fotograma 1429\n",
      "Procesando fotograma 1430\n",
      "Procesando fotograma 1431\n",
      "Procesando fotograma 1432\n",
      "Procesando fotograma 1433\n",
      "Procesando fotograma 1434\n",
      "Procesando fotograma 1435\n",
      "Procesando fotograma 1436\n",
      "Procesando fotograma 1437\n",
      "Procesando fotograma 1438\n",
      "Procesando fotograma 1439\n",
      "Procesando fotograma 1440\n",
      "Procesando fotograma 1441\n",
      "Procesando fotograma 1442\n",
      "Procesando fotograma 1443\n",
      "Procesando fotograma 1444\n",
      "Procesando fotograma 1445\n",
      "Procesando fotograma 1446\n",
      "Procesando fotograma 1447\n",
      "Procesando fotograma 1448\n",
      "Procesando fotograma 1449\n",
      "Procesando fotograma 1450\n",
      "Procesando fotograma 1451\n",
      "Matrícula detectada en fotograma 1451: [J3 con confianza 0.07335873889498462\n",
      "Procesando fotograma 1452\n",
      "Matrícula detectada en fotograma 1452: LocsI con confianza 0.2001506876118216\n",
      "Procesando fotograma 1453\n",
      "Procesando fotograma 1454\n",
      "Procesando fotograma 1455\n",
      "Matrícula detectada en fotograma 1455: [os con confianza 0.3902080572165191\n",
      "Procesando fotograma 1456\n",
      "Procesando fotograma 1457\n",
      "Procesando fotograma 1458\n",
      "Procesando fotograma 1459\n",
      "Procesando fotograma 1460\n",
      "Procesando fotograma 1461\n",
      "Procesando fotograma 1462\n",
      "Procesando fotograma 1463\n",
      "Matrícula detectada en fotograma 1463: {0053 557 con confianza 0.39622619538856263\n",
      "Procesando fotograma 1464\n",
      "Procesando fotograma 1465\n",
      "Procesando fotograma 1466\n",
      "Procesando fotograma 1467\n",
      "Matrícula detectada en fotograma 1467: [005353 con confianza 0.4614300244659579\n",
      "Procesando fotograma 1468\n",
      "Procesando fotograma 1469\n",
      "Procesando fotograma 1470\n",
      "Procesando fotograma 1471\n",
      "Procesando fotograma 1472\n",
      "Procesando fotograma 1473\n",
      "Procesando fotograma 1474\n",
      "Procesando fotograma 1475\n",
      "Procesando fotograma 1476\n",
      "Procesando fotograma 1477\n",
      "Procesando fotograma 1478\n",
      "Procesando fotograma 1479\n",
      "Procesando fotograma 1480\n",
      "Procesando fotograma 1481\n",
      "Procesando fotograma 1482\n",
      "Procesando fotograma 1483\n",
      "Procesando fotograma 1484\n",
      "Procesando fotograma 1485\n",
      "Procesando fotograma 1486\n",
      "Procesando fotograma 1487\n",
      "Procesando fotograma 1488\n",
      "Procesando fotograma 1489\n",
      "Procesando fotograma 1490\n",
      "Procesando fotograma 1491\n",
      "Procesando fotograma 1492\n",
      "Procesando fotograma 1493\n",
      "Procesando fotograma 1494\n",
      "Procesando fotograma 1495\n",
      "Procesando fotograma 1496\n",
      "Procesando fotograma 1497\n",
      "Procesando fotograma 1498\n",
      "Procesando fotograma 1499\n",
      "Procesando fotograma 1500\n",
      "Procesando fotograma 1501\n",
      "Procesando fotograma 1502\n",
      "Procesando fotograma 1503\n",
      "Procesando fotograma 1504\n",
      "Procesando fotograma 1505\n",
      "Procesando fotograma 1506\n",
      "Procesando fotograma 1507\n",
      "Procesando fotograma 1508\n",
      "Procesando fotograma 1509\n",
      "Procesando fotograma 1510\n",
      "Procesando fotograma 1511\n",
      "Procesando fotograma 1512\n",
      "Procesando fotograma 1513\n",
      "Procesando fotograma 1514\n",
      "Procesando fotograma 1515\n",
      "Procesando fotograma 1516\n",
      "Procesando fotograma 1517\n",
      "Procesando fotograma 1518\n",
      "Procesando fotograma 1519\n",
      "Procesando fotograma 1520\n",
      "Procesando fotograma 1521\n",
      "Procesando fotograma 1522\n",
      "Procesando fotograma 1523\n",
      "Procesando fotograma 1524\n",
      "Procesando fotograma 1525\n",
      "Procesando fotograma 1526\n",
      "Procesando fotograma 1527\n",
      "Procesando fotograma 1528\n",
      "Procesando fotograma 1529\n",
      "Procesando fotograma 1530\n",
      "Procesando fotograma 1531\n",
      "Procesando fotograma 1532\n",
      "Procesando fotograma 1533\n",
      "Procesando fotograma 1534\n",
      "Procesando fotograma 1535\n",
      "Procesando fotograma 1536\n",
      "Procesando fotograma 1537\n",
      "Procesando fotograma 1538\n",
      "Procesando fotograma 1539\n",
      "Procesando fotograma 1540\n",
      "Procesando fotograma 1541\n",
      "Matrícula detectada en fotograma 1541: (n con confianza 0.07938626712454384\n",
      "Procesando fotograma 1542\n",
      "Procesando fotograma 1543\n",
      "Procesando fotograma 1544\n",
      "Procesando fotograma 1545\n",
      "Procesando fotograma 1546\n",
      "Matrícula detectada en fotograma 1546: Wnn con confianza 0.16418535299171153\n",
      "Procesando fotograma 1547\n",
      "Procesando fotograma 1548\n",
      "Procesando fotograma 1549\n",
      "Procesando fotograma 1550\n",
      "Procesando fotograma 1551\n",
      "Procesando fotograma 1552\n",
      "Procesando fotograma 1553\n",
      "Procesando fotograma 1554\n",
      "Procesando fotograma 1555\n",
      "Matrícula detectada en fotograma 1555: [o2sF con confianza 0.17002828607507517\n",
      "Procesando fotograma 1556\n",
      "Procesando fotograma 1557\n",
      "Matrícula detectada en fotograma 1557: [o2ss6 con confianza 0.3792055520963738\n",
      "Procesando fotograma 1558\n",
      "Procesando fotograma 1559\n",
      "Procesando fotograma 1560\n",
      "Procesando fotograma 1561\n",
      "Procesando fotograma 1562\n",
      "Procesando fotograma 1563\n",
      "Procesando fotograma 1564\n",
      "Procesando fotograma 1565\n",
      "Procesando fotograma 1566\n",
      "Matrícula detectada en fotograma 1566: {02656Z con confianza 0.3964086586538933\n",
      "Procesando fotograma 1567\n",
      "Procesando fotograma 1568\n",
      "Procesando fotograma 1569\n",
      "Procesando fotograma 1570\n",
      "Procesando fotograma 1571\n",
      "Procesando fotograma 1572\n",
      "Procesando fotograma 1573\n",
      "Procesando fotograma 1574\n",
      "Procesando fotograma 1575\n",
      "Procesando fotograma 1576\n",
      "Procesando fotograma 1577\n",
      "Procesando fotograma 1578\n",
      "Procesando fotograma 1579\n",
      "Procesando fotograma 1580\n",
      "Procesando fotograma 1581\n",
      "Procesando fotograma 1582\n",
      "Procesando fotograma 1583\n",
      "Procesando fotograma 1584\n",
      "Procesando fotograma 1585\n",
      "Procesando fotograma 1586\n",
      "Procesando fotograma 1587\n",
      "Procesando fotograma 1588\n",
      "Procesando fotograma 1589\n",
      "Procesando fotograma 1590\n",
      "Procesando fotograma 1591\n",
      "Procesando fotograma 1592\n",
      "Procesando fotograma 1593\n",
      "Procesando fotograma 1594\n",
      "Procesando fotograma 1595\n",
      "Procesando fotograma 1596\n",
      "Procesando fotograma 1597\n",
      "Procesando fotograma 1598\n",
      "Procesando fotograma 1599\n",
      "Procesando fotograma 1600\n",
      "Procesando fotograma 1601\n",
      "Procesando fotograma 1602\n",
      "Procesando fotograma 1603\n",
      "Procesando fotograma 1604\n",
      "Procesando fotograma 1605\n",
      "Procesando fotograma 1606\n",
      "Procesando fotograma 1607\n",
      "Procesando fotograma 1608\n",
      "Procesando fotograma 1609\n",
      "Procesando fotograma 1610\n",
      "Procesando fotograma 1611\n",
      "Procesando fotograma 1612\n",
      "Procesando fotograma 1613\n",
      "Procesando fotograma 1614\n",
      "Procesando fotograma 1615\n",
      "Procesando fotograma 1616\n",
      "Procesando fotograma 1617\n",
      "Procesando fotograma 1618\n",
      "Procesando fotograma 1619\n",
      "Procesando fotograma 1620\n",
      "Procesando fotograma 1621\n",
      "Matrícula detectada en fotograma 1621: laro con confianza 0.11452345550060272\n",
      "Procesando fotograma 1622\n",
      "Matrícula detectada en fotograma 1622: Inan con confianza 0.4635632634162903\n",
      "Procesando fotograma 1623\n",
      "Procesando fotograma 1624\n",
      "Procesando fotograma 1625\n",
      "Procesando fotograma 1626\n",
      "Procesando fotograma 1627\n",
      "Procesando fotograma 1628\n",
      "Procesando fotograma 1629\n",
      "Procesando fotograma 1630\n",
      "Procesando fotograma 1631\n",
      "Procesando fotograma 1632\n",
      "Procesando fotograma 1633\n",
      "Procesando fotograma 1634\n",
      "Procesando fotograma 1635\n",
      "Procesando fotograma 1636\n",
      "Procesando fotograma 1637\n",
      "Procesando fotograma 1638\n",
      "Procesando fotograma 1639\n",
      "Procesando fotograma 1640\n",
      "Procesando fotograma 1641\n",
      "Procesando fotograma 1642\n",
      "Procesando fotograma 1643\n",
      "Procesando fotograma 1644\n",
      "Procesando fotograma 1645\n",
      "Procesando fotograma 1646\n",
      "Procesando fotograma 1647\n",
      "Procesando fotograma 1648\n",
      "Procesando fotograma 1649\n",
      "Procesando fotograma 1650\n",
      "Procesando fotograma 1651\n",
      "Procesando fotograma 1652\n",
      "Procesando fotograma 1653\n",
      "Procesando fotograma 1654\n",
      "Procesando fotograma 1655\n",
      "Procesando fotograma 1656\n",
      "Procesando fotograma 1657\n",
      "Procesando fotograma 1658\n",
      "Procesando fotograma 1659\n",
      "Procesando fotograma 1660\n",
      "Procesando fotograma 1661\n",
      "Procesando fotograma 1662\n",
      "Procesando fotograma 1663\n",
      "Matrícula detectada en fotograma 1663: DUsSTT con confianza 0.1784959276628635\n",
      "Procesando fotograma 1664\n",
      "Procesando fotograma 1665\n",
      "Procesando fotograma 1666\n",
      "Procesando fotograma 1667\n",
      "Procesando fotograma 1668\n",
      "Procesando fotograma 1669\n",
      "Matrícula detectada en fotograma 1669: [68S7TT con confianza 0.2855674703205464\n",
      "Procesando fotograma 1670\n",
      "Procesando fotograma 1671\n",
      "Procesando fotograma 1672\n",
      "Procesando fotograma 1673\n",
      "Procesando fotograma 1674\n",
      "Procesando fotograma 1675\n",
      "Procesando fotograma 1676\n",
      "Procesando fotograma 1677\n",
      "Procesando fotograma 1678\n",
      "Procesando fotograma 1679\n",
      "Procesando fotograma 1680\n",
      "Matrícula detectada en fotograma 1680: SSSSKT con confianza 0.5065798878333017\n",
      "Procesando fotograma 1681\n",
      "Procesando fotograma 1682\n",
      "Procesando fotograma 1683\n",
      "Procesando fotograma 1684\n",
      "Procesando fotograma 1685\n",
      "Procesando fotograma 1686\n",
      "Procesando fotograma 1687\n",
      "Procesando fotograma 1688\n",
      "Procesando fotograma 1689\n",
      "Procesando fotograma 1690\n",
      "Matrícula detectada en fotograma 1690: Ponin con confianza 0.06368608960825538\n",
      "Procesando fotograma 1691\n",
      "Procesando fotograma 1692\n",
      "Procesando fotograma 1693\n",
      "Procesando fotograma 1694\n",
      "Matrícula detectada en fotograma 1694: Ii con confianza 0.17172556439361056\n",
      "Procesando fotograma 1695\n",
      "Procesando fotograma 1696\n",
      "Procesando fotograma 1697\n",
      "Procesando fotograma 1698\n",
      "Procesando fotograma 1699\n",
      "Procesando fotograma 1700\n",
      "Procesando fotograma 1701\n",
      "Procesando fotograma 1702\n",
      "Procesando fotograma 1703\n",
      "Procesando fotograma 1704\n",
      "Procesando fotograma 1705\n",
      "Procesando fotograma 1706\n",
      "Procesando fotograma 1707\n",
      "Procesando fotograma 1708\n",
      "Procesando fotograma 1709\n",
      "Procesando fotograma 1710\n",
      "Procesando fotograma 1711\n",
      "Matrícula detectada en fotograma 1711: [2SSLII con confianza 0.1780078360578978\n",
      "Procesando fotograma 1712\n",
      "Procesando fotograma 1713\n",
      "Procesando fotograma 1714\n",
      "Procesando fotograma 1715\n",
      "Procesando fotograma 1716\n",
      "Procesando fotograma 1717\n",
      "Procesando fotograma 1718\n",
      "Procesando fotograma 1719\n",
      "Procesando fotograma 1720\n",
      "Procesando fotograma 1721\n",
      "Procesando fotograma 1722\n",
      "Procesando fotograma 1723\n",
      "Procesando fotograma 1724\n",
      "Procesando fotograma 1725\n",
      "Procesando fotograma 1726\n",
      "Procesando fotograma 1727\n",
      "Procesando fotograma 1728\n",
      "Procesando fotograma 1729\n",
      "Procesando fotograma 1730\n",
      "Procesando fotograma 1731\n",
      "Procesando fotograma 1732\n",
      "Procesando fotograma 1733\n",
      "Procesando fotograma 1734\n",
      "Procesando fotograma 1735\n",
      "Procesando fotograma 1736\n",
      "Procesando fotograma 1737\n",
      "Procesando fotograma 1738\n",
      "Procesando fotograma 1739\n",
      "Procesando fotograma 1740\n",
      "Procesando fotograma 1741\n",
      "Procesando fotograma 1742\n",
      "Procesando fotograma 1743\n",
      "Procesando fotograma 1744\n",
      "Procesando fotograma 1745\n",
      "Procesando fotograma 1746\n",
      "Procesando fotograma 1747\n",
      "Procesando fotograma 1748\n",
      "Procesando fotograma 1749\n",
      "Procesando fotograma 1750\n",
      "Procesando fotograma 1751\n",
      "Procesando fotograma 1752\n",
      "Procesando fotograma 1753\n",
      "Procesando fotograma 1754\n",
      "Procesando fotograma 1755\n",
      "Procesando fotograma 1756\n",
      "Procesando fotograma 1757\n",
      "Procesando fotograma 1758\n",
      "Procesando fotograma 1759\n",
      "Procesando fotograma 1760\n",
      "Procesando fotograma 1761\n",
      "Procesando fotograma 1762\n",
      "Procesando fotograma 1763\n",
      "Procesando fotograma 1764\n",
      "Procesando fotograma 1765\n",
      "Procesando fotograma 1766\n",
      "Procesando fotograma 1767\n",
      "Procesando fotograma 1768\n",
      "Procesando fotograma 1769\n",
      "Procesando fotograma 1770\n",
      "Procesando fotograma 1771\n",
      "Procesando fotograma 1772\n",
      "Procesando fotograma 1773\n",
      "Procesando fotograma 1774\n",
      "Procesando fotograma 1775\n",
      "Matrícula detectada en fotograma 1775: Lu; con confianza 0.13671115237676273\n",
      "Procesando fotograma 1776\n",
      "Procesando fotograma 1777\n",
      "Procesando fotograma 1778\n",
      "Procesando fotograma 1779\n",
      "Procesando fotograma 1780\n",
      "Matrícula detectada en fotograma 1780: [STJ con confianza 0.20416736602783203\n",
      "Procesando fotograma 1781\n",
      "Matrícula detectada en fotograma 1781: LSJUJ con confianza 0.30530349381453226\n",
      "Procesando fotograma 1782\n",
      "Procesando fotograma 1783\n",
      "Procesando fotograma 1784\n",
      "Procesando fotograma 1785\n",
      "Matrícula detectada en fotograma 1785: [BSJ6UJ con confianza 0.4430714469852289\n",
      "Procesando fotograma 1786\n",
      "Procesando fotograma 1787\n",
      "Procesando fotograma 1788\n",
      "Matrícula detectada en fotograma 1788: BBSJSGJ con confianza 0.5332312753721026\n",
      "Procesando fotograma 1789\n",
      "Procesando fotograma 1790\n",
      "Procesando fotograma 1791\n",
      "Procesando fotograma 1792\n",
      "Procesando fotograma 1793\n",
      "Procesando fotograma 1794\n",
      "Procesando fotograma 1795\n",
      "Procesando fotograma 1796\n",
      "Procesando fotograma 1797\n",
      "Procesando fotograma 1798\n",
      "Procesando fotograma 1799\n",
      "Procesando fotograma 1800\n",
      "Procesando fotograma 1801\n",
      "Procesando fotograma 1802\n",
      "Procesando fotograma 1803\n",
      "Procesando fotograma 1804\n",
      "Procesando fotograma 1805\n",
      "Procesando fotograma 1806\n",
      "Procesando fotograma 1807\n",
      "Procesando fotograma 1808\n",
      "Procesando fotograma 1809\n",
      "Procesando fotograma 1810\n",
      "Procesando fotograma 1811\n",
      "Procesando fotograma 1812\n",
      "Procesando fotograma 1813\n",
      "Procesando fotograma 1814\n",
      "Procesando fotograma 1815\n",
      "Procesando fotograma 1816\n",
      "Procesando fotograma 1817\n",
      "Procesando fotograma 1818\n",
      "Procesando fotograma 1819\n",
      "Procesando fotograma 1820\n",
      "Procesando fotograma 1821\n",
      "Procesando fotograma 1822\n",
      "Procesando fotograma 1823\n",
      "Procesando fotograma 1824\n",
      "Procesando fotograma 1825\n",
      "Procesando fotograma 1826\n",
      "Procesando fotograma 1827\n",
      "Procesando fotograma 1828\n",
      "Procesando fotograma 1829\n",
      "Procesando fotograma 1830\n",
      "Procesando fotograma 1831\n",
      "Procesando fotograma 1832\n",
      "Procesando fotograma 1833\n",
      "Procesando fotograma 1834\n",
      "Procesando fotograma 1835\n",
      "Procesando fotograma 1836\n",
      "Procesando fotograma 1837\n",
      "Procesando fotograma 1838\n",
      "Procesando fotograma 1839\n",
      "Procesando fotograma 1840\n",
      "Procesando fotograma 1841\n",
      "Procesando fotograma 1842\n",
      "Procesando fotograma 1843\n",
      "Procesando fotograma 1844\n",
      "Procesando fotograma 1845\n",
      "Procesando fotograma 1846\n",
      "Procesando fotograma 1847\n",
      "Procesando fotograma 1848\n",
      "Procesando fotograma 1849\n",
      "Procesando fotograma 1850\n",
      "Procesando fotograma 1851\n",
      "Procesando fotograma 1852\n",
      "Procesando fotograma 1853\n",
      "Procesando fotograma 1854\n",
      "Procesando fotograma 1855\n",
      "Procesando fotograma 1856\n",
      "Procesando fotograma 1857\n",
      "Procesando fotograma 1858\n",
      "Procesando fotograma 1859\n",
      "Procesando fotograma 1860\n",
      "Procesando fotograma 1861\n",
      "Procesando fotograma 1862\n",
      "Procesando fotograma 1863\n",
      "Procesando fotograma 1864\n",
      "Procesando fotograma 1865\n",
      "Procesando fotograma 1866\n",
      "Procesando fotograma 1867\n",
      "Procesando fotograma 1868\n",
      "Procesando fotograma 1869\n",
      "Procesando fotograma 1870\n",
      "Procesando fotograma 1871\n",
      "Procesando fotograma 1872\n",
      "Procesando fotograma 1873\n",
      "Procesando fotograma 1874\n",
      "Procesando fotograma 1875\n",
      "Procesando fotograma 1876\n",
      "Procesando fotograma 1877\n",
      "Procesando fotograma 1878\n",
      "Procesando fotograma 1879\n",
      "Procesando fotograma 1880\n",
      "Procesando fotograma 1881\n",
      "Procesando fotograma 1882\n",
      "Procesando fotograma 1883\n",
      "Procesando fotograma 1884\n",
      "Procesando fotograma 1885\n",
      "Procesando fotograma 1886\n",
      "Procesando fotograma 1887\n",
      "Procesando fotograma 1888\n",
      "Procesando fotograma 1889\n",
      "Procesando fotograma 1890\n",
      "Procesando fotograma 1891\n",
      "Procesando fotograma 1892\n",
      "Procesando fotograma 1893\n",
      "Procesando fotograma 1894\n",
      "Procesando fotograma 1895\n",
      "Procesando fotograma 1896\n",
      "Procesando fotograma 1897\n",
      "Procesando fotograma 1898\n",
      "Procesando fotograma 1899\n",
      "Procesando fotograma 1900\n",
      "Procesando fotograma 1901\n",
      "Procesando fotograma 1902\n",
      "Procesando fotograma 1903\n",
      "Procesando fotograma 1904\n",
      "Procesando fotograma 1905\n",
      "Procesando fotograma 1906\n",
      "Procesando fotograma 1907\n",
      "Procesando fotograma 1908\n",
      "Procesando fotograma 1909\n",
      "Procesando fotograma 1910\n",
      "Procesando fotograma 1911\n",
      "Procesando fotograma 1912\n",
      "Procesando fotograma 1913\n",
      "Procesando fotograma 1914\n",
      "Procesando fotograma 1915\n",
      "Procesando fotograma 1916\n",
      "Procesando fotograma 1917\n",
      "Procesando fotograma 1918\n",
      "Procesando fotograma 1919\n",
      "Procesando fotograma 1920\n",
      "Matrícula detectada en fotograma 1920: 569s con confianza 0.1738673597574234\n",
      "Procesando fotograma 1921\n",
      "Procesando fotograma 1922\n",
      "Matrícula detectada en fotograma 1922: ESSSLTR con confianza 0.7732435362882973\n",
      "Procesando fotograma 1923\n",
      "Procesando fotograma 1924\n",
      "Procesando fotograma 1925\n",
      "Procesando fotograma 1926\n",
      "Procesando fotograma 1927\n",
      "Procesando fotograma 1928\n",
      "Procesando fotograma 1929\n",
      "Procesando fotograma 1930\n",
      "Procesando fotograma 1931\n",
      "Procesando fotograma 1932\n",
      "Procesando fotograma 1933\n",
      "Procesando fotograma 1934\n",
      "Procesando fotograma 1935\n",
      "Procesando fotograma 1936\n",
      "Procesando fotograma 1937\n",
      "Procesando fotograma 1938\n",
      "Procesando fotograma 1939\n",
      "Procesando fotograma 1940\n",
      "Procesando fotograma 1941\n",
      "Procesando fotograma 1942\n",
      "Procesando fotograma 1943\n",
      "Procesando fotograma 1944\n",
      "Procesando fotograma 1945\n",
      "Procesando fotograma 1946\n",
      "Procesando fotograma 1947\n",
      "Procesando fotograma 1948\n",
      "Procesando fotograma 1949\n",
      "Procesando fotograma 1950\n",
      "Procesando fotograma 1951\n",
      "Procesando fotograma 1952\n",
      "Procesando fotograma 1953\n",
      "Procesando fotograma 1954\n",
      "Procesando fotograma 1955\n",
      "Procesando fotograma 1956\n",
      "Procesando fotograma 1957\n",
      "Procesando fotograma 1958\n",
      "Procesando fotograma 1959\n",
      "Procesando fotograma 1960\n",
      "Procesando fotograma 1961\n",
      "Procesando fotograma 1962\n",
      "Procesando fotograma 1963\n",
      "Procesando fotograma 1964\n",
      "Procesando fotograma 1965\n",
      "Procesando fotograma 1966\n",
      "Procesando fotograma 1967\n",
      "Procesando fotograma 1968\n",
      "Procesando fotograma 1969\n",
      "Procesando fotograma 1970\n",
      "Procesando fotograma 1971\n",
      "Procesando fotograma 1972\n",
      "Procesando fotograma 1973\n",
      "Procesando fotograma 1974\n",
      "Procesando fotograma 1975\n",
      "Procesando fotograma 1976\n",
      "Procesando fotograma 1977\n",
      "Procesando fotograma 1978\n",
      "Procesando fotograma 1979\n",
      "Procesando fotograma 1980\n",
      "Procesando fotograma 1981\n",
      "Procesando fotograma 1982\n",
      "Procesando fotograma 1983\n",
      "Procesando fotograma 1984\n",
      "Procesando fotograma 1985\n",
      "Procesando fotograma 1986\n",
      "Procesando fotograma 1987\n",
      "Procesando fotograma 1988\n",
      "Procesando fotograma 1989\n",
      "Procesando fotograma 1990\n",
      "Procesando fotograma 1991\n",
      "Procesando fotograma 1992\n",
      "Procesando fotograma 1993\n",
      "Procesando fotograma 1994\n",
      "Procesando fotograma 1995\n",
      "Procesando fotograma 1996\n",
      "Procesando fotograma 1997\n",
      "Procesando fotograma 1998\n",
      "Procesando fotograma 1999\n",
      "Procesando fotograma 2000\n",
      "Procesando fotograma 2001\n",
      "Procesando fotograma 2002\n",
      "Procesando fotograma 2003\n",
      "Procesando fotograma 2004\n",
      "Procesando fotograma 2005\n",
      "Procesando fotograma 2006\n",
      "Procesando fotograma 2007\n",
      "Procesando fotograma 2008\n",
      "Procesando fotograma 2009\n",
      "Procesando fotograma 2010\n",
      "Procesando fotograma 2011\n",
      "Procesando fotograma 2012\n",
      "Procesando fotograma 2013\n",
      "Procesando fotograma 2014\n",
      "Procesando fotograma 2015\n",
      "Procesando fotograma 2016\n",
      "Procesando fotograma 2017\n",
      "Procesando fotograma 2018\n",
      "Procesando fotograma 2019\n",
      "Procesando fotograma 2020\n",
      "Procesando fotograma 2021\n",
      "Procesando fotograma 2022\n",
      "Procesando fotograma 2023\n",
      "Procesando fotograma 2024\n",
      "Procesando fotograma 2025\n",
      "Procesando fotograma 2026\n",
      "Procesando fotograma 2027\n",
      "Procesando fotograma 2028\n",
      "Procesando fotograma 2029\n",
      "Procesando fotograma 2030\n",
      "Procesando fotograma 2031\n",
      "Procesando fotograma 2032\n",
      "Procesando fotograma 2033\n",
      "Procesando fotograma 2034\n",
      "Procesando fotograma 2035\n",
      "Procesando fotograma 2036\n",
      "Procesando fotograma 2037\n",
      "Procesando fotograma 2038\n",
      "Procesando fotograma 2039\n",
      "Procesando fotograma 2040\n",
      "Procesando fotograma 2041\n",
      "Procesando fotograma 2042\n",
      "Procesando fotograma 2043\n",
      "Procesando fotograma 2044\n",
      "Procesando fotograma 2045\n",
      "Procesando fotograma 2046\n",
      "Procesando fotograma 2047\n",
      "Procesando fotograma 2048\n",
      "Procesando fotograma 2049\n",
      "Procesando fotograma 2050\n",
      "Procesando fotograma 2051\n",
      "Procesando fotograma 2052\n",
      "Procesando fotograma 2053\n",
      "Procesando fotograma 2054\n",
      "Procesando fotograma 2055\n",
      "Procesando fotograma 2056\n",
      "Procesando fotograma 2057\n",
      "Procesando fotograma 2058\n",
      "Procesando fotograma 2059\n",
      "Procesando fotograma 2060\n",
      "Procesando fotograma 2061\n",
      "Procesando fotograma 2062\n",
      "Procesando fotograma 2063\n",
      "Procesando fotograma 2064\n",
      "Procesando fotograma 2065\n",
      "Procesando fotograma 2066\n",
      "Procesando fotograma 2067\n",
      "Procesando fotograma 2068\n",
      "Procesando fotograma 2069\n",
      "Procesando fotograma 2070\n",
      "Procesando fotograma 2071\n",
      "Procesando fotograma 2072\n",
      "Procesando fotograma 2073\n",
      "Procesando fotograma 2074\n",
      "Procesando fotograma 2075\n",
      "Procesando fotograma 2076\n",
      "Procesando fotograma 2077\n",
      "Procesando fotograma 2078\n",
      "Procesando fotograma 2079\n",
      "Procesando fotograma 2080\n",
      "Procesando fotograma 2081\n",
      "Procesando fotograma 2082\n",
      "Procesando fotograma 2083\n",
      "Procesando fotograma 2084\n",
      "Procesando fotograma 2085\n",
      "Procesando fotograma 2086\n",
      "Procesando fotograma 2087\n",
      "Procesando fotograma 2088\n",
      "Procesando fotograma 2089\n",
      "Procesando fotograma 2090\n",
      "Procesando fotograma 2091\n",
      "Matrícula detectada en fotograma 2091: Iuna con confianza 0.08588342368602753\n",
      "Procesando fotograma 2092\n",
      "Procesando fotograma 2093\n",
      "Procesando fotograma 2094\n",
      "Procesando fotograma 2095\n",
      "Procesando fotograma 2096\n",
      "Procesando fotograma 2097\n",
      "Procesando fotograma 2098\n",
      "Procesando fotograma 2099\n",
      "Procesando fotograma 2100\n",
      "Matrícula detectada en fotograma 2100: IIr con confianza 0.1095846032307604\n",
      "Procesando fotograma 2101\n",
      "Procesando fotograma 2102\n",
      "Matrícula detectada en fotograma 2102: I7oJ con confianza 0.17570066452026367\n",
      "Procesando fotograma 2103\n",
      "Procesando fotograma 2104\n",
      "Matrícula detectada en fotograma 2104: ion con confianza 0.21148620441199664\n",
      "Procesando fotograma 2105\n",
      "Procesando fotograma 2106\n",
      "Procesando fotograma 2107\n",
      "Matrícula detectada en fotograma 2107: LzoJe con confianza 0.31592670283321456\n",
      "Procesando fotograma 2108\n",
      "Procesando fotograma 2109\n",
      "Procesando fotograma 2110\n",
      "Procesando fotograma 2111\n",
      "Procesando fotograma 2112\n",
      "Procesando fotograma 2113\n",
      "Procesando fotograma 2114\n",
      "Procesando fotograma 2115\n",
      "Procesando fotograma 2116\n",
      "Procesando fotograma 2117\n",
      "Procesando fotograma 2118\n",
      "Procesando fotograma 2119\n",
      "Procesando fotograma 2120\n",
      "Procesando fotograma 2121\n",
      "Procesando fotograma 2122\n",
      "Procesando fotograma 2123\n",
      "Procesando fotograma 2124\n",
      "Matrícula detectada en fotograma 2124: H7oJG con confianza 0.38086372895647386\n",
      "Procesando fotograma 2125\n",
      "Procesando fotograma 2126\n",
      "Procesando fotograma 2127\n",
      "Procesando fotograma 2128\n",
      "Procesando fotograma 2129\n",
      "Procesando fotograma 2130\n",
      "Procesando fotograma 2131\n",
      "Procesando fotograma 2132\n",
      "Procesando fotograma 2133\n",
      "Procesando fotograma 2134\n",
      "Procesando fotograma 2135\n",
      "Procesando fotograma 2136\n",
      "Procesando fotograma 2137\n",
      "Procesando fotograma 2138\n",
      "Procesando fotograma 2139\n",
      "Procesando fotograma 2140\n",
      "Procesando fotograma 2141\n",
      "Procesando fotograma 2142\n",
      "Matrícula detectada en fotograma 2142: 177@ con confianza 0.6566499471664429\n",
      "Procesando fotograma 2143\n",
      "Procesando fotograma 2144\n",
      "Procesando fotograma 2145\n",
      "Procesando fotograma 2146\n",
      "Matrícula detectada en fotograma 2146: 0 con confianza 0.9696179384014023\n",
      "Procesando fotograma 2147\n",
      "Matrícula detectada en fotograma 2147: 135 con confianza 0.025817354022599256\n",
      "Procesando fotograma 2148\n",
      "Matrícula detectada en fotograma 2148: [8S] con confianza 0.1496349275112152\n",
      "Procesando fotograma 2149\n",
      "Procesando fotograma 2150\n",
      "Procesando fotograma 2151\n",
      "Procesando fotograma 2152\n",
      "Procesando fotograma 2153\n",
      "Procesando fotograma 2154\n",
      "Procesando fotograma 2155\n",
      "Matrícula detectada en fotograma 2155: [T con confianza 0.15062827485007899\n",
      "Procesando fotograma 2156\n",
      "Procesando fotograma 2157\n",
      "Procesando fotograma 2158\n",
      "Procesando fotograma 2159\n",
      "Procesando fotograma 2160\n",
      "Matrícula detectada en fotograma 2160: D con confianza 0.2277274642887841\n",
      "Procesando fotograma 2161\n",
      "Procesando fotograma 2162\n",
      "Procesando fotograma 2163\n",
      "Procesando fotograma 2164\n",
      "Matrícula detectada en fotograma 2164: [n con confianza 0.24834045611077815\n",
      "Procesando fotograma 2165\n",
      "Procesando fotograma 2166\n",
      "Procesando fotograma 2167\n",
      "Matrícula detectada en fotograma 2167: Enn con confianza 0.2845757300253281\n",
      "Procesando fotograma 2168\n",
      "Procesando fotograma 2169\n",
      "Procesando fotograma 2170\n",
      "Procesando fotograma 2171\n",
      "Procesando fotograma 2172\n",
      "Procesando fotograma 2173\n",
      "Procesando fotograma 2174\n",
      "Procesando fotograma 2175\n",
      "Procesando fotograma 2176\n",
      "Procesando fotograma 2177\n",
      "Procesando fotograma 2178\n",
      "Procesando fotograma 2179\n",
      "Procesando fotograma 2180\n",
      "Procesando fotograma 2181\n",
      "Procesando fotograma 2182\n",
      "Procesando fotograma 2183\n",
      "Procesando fotograma 2184\n",
      "Procesando fotograma 2185\n",
      "Procesando fotograma 2186\n",
      "Procesando fotograma 2187\n",
      "Procesando fotograma 2188\n",
      "Procesando fotograma 2189\n",
      "Procesando fotograma 2190\n",
      "Procesando fotograma 2191\n",
      "Procesando fotograma 2192\n",
      "Procesando fotograma 2193\n",
      "Procesando fotograma 2194\n",
      "Procesando fotograma 2195\n",
      "Procesando fotograma 2196\n",
      "Procesando fotograma 2197\n",
      "Procesando fotograma 2198\n",
      "Procesando fotograma 2199\n",
      "Procesando fotograma 2200\n",
      "Procesando fotograma 2201\n",
      "Procesando fotograma 2202\n",
      "Procesando fotograma 2203\n",
      "Procesando fotograma 2204\n",
      "Procesando fotograma 2205\n",
      "Procesando fotograma 2206\n",
      "Procesando fotograma 2207\n",
      "Procesando fotograma 2208\n",
      "Procesando fotograma 2209\n",
      "Procesando fotograma 2210\n",
      "Procesando fotograma 2211\n",
      "Procesando fotograma 2212\n",
      "Procesando fotograma 2213\n",
      "Procesando fotograma 2214\n",
      "Procesando fotograma 2215\n",
      "Procesando fotograma 2216\n",
      "Procesando fotograma 2217\n",
      "Procesando fotograma 2218\n",
      "Procesando fotograma 2219\n",
      "Procesando fotograma 2220\n",
      "Procesando fotograma 2221\n",
      "Procesando fotograma 2222\n",
      "Procesando fotograma 2223\n",
      "Procesando fotograma 2224\n",
      "Procesando fotograma 2225\n",
      "Procesando fotograma 2226\n",
      "Procesando fotograma 2227\n",
      "Procesando fotograma 2228\n",
      "Procesando fotograma 2229\n",
      "Procesando fotograma 2230\n",
      "Procesando fotograma 2231\n",
      "Procesando fotograma 2232\n",
      "Procesando fotograma 2233\n",
      "Procesando fotograma 2234\n",
      "Procesando fotograma 2235\n",
      "Procesando fotograma 2236\n",
      "Procesando fotograma 2237\n",
      "Procesando fotograma 2238\n",
      "Procesando fotograma 2239\n",
      "Procesando fotograma 2240\n",
      "Procesando fotograma 2241\n",
      "Procesando fotograma 2242\n",
      "Procesando fotograma 2243\n",
      "Procesando fotograma 2244\n",
      "Procesando fotograma 2245\n",
      "Procesando fotograma 2246\n",
      "Procesando fotograma 2247\n",
      "Procesando fotograma 2248\n",
      "Procesando fotograma 2249\n",
      "Procesando fotograma 2250\n",
      "Procesando fotograma 2251\n",
      "Procesando fotograma 2252\n",
      "Procesando fotograma 2253\n",
      "Procesando fotograma 2254\n",
      "Procesando fotograma 2255\n",
      "Procesando fotograma 2256\n",
      "Procesando fotograma 2257\n",
      "Procesando fotograma 2258\n",
      "Procesando fotograma 2259\n",
      "Procesando fotograma 2260\n",
      "Procesando fotograma 2261\n",
      "Procesando fotograma 2262\n",
      "Procesando fotograma 2263\n",
      "Procesando fotograma 2264\n",
      "Procesando fotograma 2265\n",
      "Procesando fotograma 2266\n",
      "Procesando fotograma 2267\n",
      "Procesando fotograma 2268\n",
      "Procesando fotograma 2269\n",
      "Procesando fotograma 2270\n",
      "Procesando fotograma 2271\n",
      "Procesando fotograma 2272\n",
      "Procesando fotograma 2273\n",
      "Procesando fotograma 2274\n",
      "Procesando fotograma 2275\n",
      "Procesando fotograma 2276\n",
      "Procesando fotograma 2277\n",
      "Procesando fotograma 2278\n",
      "Procesando fotograma 2279\n",
      "Procesando fotograma 2280\n",
      "Procesando fotograma 2281\n",
      "Procesando fotograma 2282\n",
      "Procesando fotograma 2283\n",
      "Procesando fotograma 2284\n",
      "Procesando fotograma 2285\n",
      "Procesando fotograma 2286\n",
      "Procesando fotograma 2287\n",
      "Procesando fotograma 2288\n",
      "Procesando fotograma 2289\n",
      "Procesando fotograma 2290\n",
      "Procesando fotograma 2291\n",
      "Procesando fotograma 2292\n",
      "Procesando fotograma 2293\n",
      "Procesando fotograma 2294\n",
      "Procesando fotograma 2295\n",
      "Procesando fotograma 2296\n",
      "Procesando fotograma 2297\n",
      "Procesando fotograma 2298\n",
      "Procesando fotograma 2299\n",
      "Procesando fotograma 2300\n",
      "Procesando fotograma 2301\n",
      "Procesando fotograma 2302\n",
      "Procesando fotograma 2303\n",
      "Procesando fotograma 2304\n",
      "Procesando fotograma 2305\n",
      "Procesando fotograma 2306\n",
      "Procesando fotograma 2307\n",
      "Procesando fotograma 2308\n",
      "Procesando fotograma 2309\n",
      "Procesando fotograma 2310\n",
      "Procesando fotograma 2311\n",
      "Procesando fotograma 2312\n",
      "Procesando fotograma 2313\n",
      "Procesando fotograma 2314\n",
      "Procesando fotograma 2315\n",
      "Procesando fotograma 2316\n",
      "Procesando fotograma 2317\n",
      "Procesando fotograma 2318\n",
      "Procesando fotograma 2319\n",
      "Procesando fotograma 2320\n",
      "Procesando fotograma 2321\n",
      "Matrícula detectada en fotograma 2321: Neun con confianza 0.0198908019810915\n",
      "Procesando fotograma 2322\n",
      "Matrícula detectada en fotograma 2322: eo con confianza 0.03429983377570127\n",
      "Procesando fotograma 2323\n",
      "Matrícula detectada en fotograma 2323: ISto con confianza 0.04935240000486374\n",
      "Procesando fotograma 2324\n",
      "Procesando fotograma 2325\n",
      "Procesando fotograma 2326\n",
      "Procesando fotograma 2327\n",
      "Procesando fotograma 2328\n",
      "Procesando fotograma 2329\n",
      "Procesando fotograma 2330\n",
      "Procesando fotograma 2331\n",
      "Procesando fotograma 2332\n",
      "Procesando fotograma 2333\n",
      "Procesando fotograma 2334\n",
      "Procesando fotograma 2335\n",
      "Matrícula detectada en fotograma 2335: ICoa con confianza 0.3586144745349884\n",
      "Procesando fotograma 2336\n",
      "Procesando fotograma 2337\n",
      "Procesando fotograma 2338\n",
      "Procesando fotograma 2339\n",
      "Matrícula detectada en fotograma 2339: 18090 con confianza 0.42707781573533\n",
      "Procesando fotograma 2340\n",
      "Procesando fotograma 2341\n",
      "Procesando fotograma 2342\n",
      "Procesando fotograma 2343\n",
      "Procesando fotograma 2344\n",
      "Procesando fotograma 2345\n",
      "Matrícula detectada en fotograma 2345: BD98JD con confianza 0.4815581791719946\n",
      "Procesando fotograma 2346\n",
      "Procesando fotograma 2347\n",
      "Procesando fotograma 2348\n",
      "Procesando fotograma 2349\n",
      "Procesando fotograma 2350\n",
      "Procesando fotograma 2351\n",
      "Procesando fotograma 2352\n",
      "Procesando fotograma 2353\n",
      "Procesando fotograma 2354\n",
      "Procesando fotograma 2355\n",
      "Procesando fotograma 2356\n",
      "Procesando fotograma 2357\n",
      "Procesando fotograma 2358\n",
      "Procesando fotograma 2359\n",
      "Matrícula detectada en fotograma 2359: \"JH con confianza 0.580221614110544\n",
      "Procesando fotograma 2360\n",
      "Procesando fotograma 2361\n",
      "Procesando fotograma 2362\n",
      "Procesando fotograma 2363\n",
      "Procesando fotograma 2364\n",
      "Procesando fotograma 2365\n",
      "Procesando fotograma 2366\n",
      "Procesando fotograma 2367\n",
      "Procesando fotograma 2368\n",
      "Procesando fotograma 2369\n",
      "Procesando fotograma 2370\n",
      "Procesando fotograma 2371\n",
      "Procesando fotograma 2372\n",
      "Procesando fotograma 2373\n",
      "Procesando fotograma 2374\n",
      "Procesando fotograma 2375\n",
      "Procesando fotograma 2376\n",
      "Procesando fotograma 2377\n",
      "Procesando fotograma 2378\n",
      "Procesando fotograma 2379\n",
      "Procesando fotograma 2380\n",
      "Procesando fotograma 2381\n",
      "Procesando fotograma 2382\n",
      "Procesando fotograma 2383\n",
      "Procesando fotograma 2384\n",
      "Procesando fotograma 2385\n",
      "Procesando fotograma 2386\n",
      "Procesando fotograma 2387\n",
      "Procesando fotograma 2388\n",
      "Procesando fotograma 2389\n",
      "Procesando fotograma 2390\n",
      "Procesando fotograma 2391\n",
      "Procesando fotograma 2392\n",
      "Procesando fotograma 2393\n",
      "Procesando fotograma 2394\n",
      "Procesando fotograma 2395\n",
      "Procesando fotograma 2396\n",
      "Procesando fotograma 2397\n",
      "Procesando fotograma 2398\n",
      "Procesando fotograma 2399\n",
      "Procesando fotograma 2400\n",
      "Procesando fotograma 2401\n",
      "Procesando fotograma 2402\n",
      "Procesando fotograma 2403\n",
      "Procesando fotograma 2404\n",
      "Procesando fotograma 2405\n",
      "Procesando fotograma 2406\n",
      "Procesando fotograma 2407\n",
      "Procesando fotograma 2408\n",
      "Procesando fotograma 2409\n",
      "Procesando fotograma 2410\n",
      "Procesando fotograma 2411\n",
      "Procesando fotograma 2412\n",
      "Procesando fotograma 2413\n",
      "Procesando fotograma 2414\n",
      "Procesando fotograma 2415\n",
      "Procesando fotograma 2416\n",
      "Procesando fotograma 2417\n",
      "Procesando fotograma 2418\n",
      "Procesando fotograma 2419\n",
      "Procesando fotograma 2420\n",
      "Procesando fotograma 2421\n",
      "Procesando fotograma 2422\n",
      "Procesando fotograma 2423\n",
      "Procesando fotograma 2424\n",
      "Procesando fotograma 2425\n",
      "Procesando fotograma 2426\n",
      "Procesando fotograma 2427\n",
      "Procesando fotograma 2428\n",
      "Procesando fotograma 2429\n",
      "Procesando fotograma 2430\n",
      "Procesando fotograma 2431\n",
      "Procesando fotograma 2432\n",
      "Procesando fotograma 2433\n",
      "Procesando fotograma 2434\n",
      "Procesando fotograma 2435\n",
      "Procesando fotograma 2436\n",
      "Procesando fotograma 2437\n",
      "Procesando fotograma 2438\n",
      "Procesando fotograma 2439\n",
      "Procesando fotograma 2440\n",
      "Procesando fotograma 2441\n",
      "Procesando fotograma 2442\n",
      "Procesando fotograma 2443\n",
      "Procesando fotograma 2444\n",
      "Procesando fotograma 2445\n",
      "Procesando fotograma 2446\n",
      "Procesando fotograma 2447\n",
      "Procesando fotograma 2448\n",
      "Procesando fotograma 2449\n",
      "Procesando fotograma 2450\n",
      "Procesando fotograma 2451\n",
      "Procesando fotograma 2452\n",
      "Procesando fotograma 2453\n",
      "Procesando fotograma 2454\n",
      "Procesando fotograma 2455\n",
      "Procesando fotograma 2456\n",
      "Procesando fotograma 2457\n",
      "Procesando fotograma 2458\n",
      "Matrícula detectada en fotograma 2458: 6C57G con confianza 0.09918552806993179\n",
      "Procesando fotograma 2459\n",
      "Matrícula detectada en fotograma 2459: GCSZR con confianza 0.31308407564696544\n",
      "Procesando fotograma 2460\n",
      "Procesando fotograma 2461\n",
      "Procesando fotograma 2462\n",
      "Procesando fotograma 2463\n",
      "Procesando fotograma 2464\n",
      "Procesando fotograma 2465\n",
      "Procesando fotograma 2466\n",
      "Procesando fotograma 2467\n",
      "Procesando fotograma 2468\n",
      "Procesando fotograma 2469\n",
      "Procesando fotograma 2470\n",
      "Procesando fotograma 2471\n",
      "Procesando fotograma 2472\n",
      "Procesando fotograma 2473\n",
      "Procesando fotograma 2474\n",
      "Procesando fotograma 2475\n",
      "Procesando fotograma 2476\n",
      "Procesando fotograma 2477\n",
      "Procesando fotograma 2478\n",
      "Procesando fotograma 2479\n",
      "Procesando fotograma 2480\n",
      "Procesando fotograma 2481\n",
      "Procesando fotograma 2482\n",
      "Procesando fotograma 2483\n",
      "Procesando fotograma 2484\n",
      "Procesando fotograma 2485\n",
      "Procesando fotograma 2486\n",
      "Procesando fotograma 2487\n",
      "Procesando fotograma 2488\n",
      "Procesando fotograma 2489\n",
      "Procesando fotograma 2490\n",
      "Procesando fotograma 2491\n",
      "Procesando fotograma 2492\n",
      "Procesando fotograma 2493\n",
      "Procesando fotograma 2494\n",
      "Procesando fotograma 2495\n",
      "Procesando fotograma 2496\n",
      "Procesando fotograma 2497\n",
      "Procesando fotograma 2498\n",
      "Procesando fotograma 2499\n",
      "Procesando fotograma 2500\n",
      "Procesando fotograma 2501\n",
      "Procesando fotograma 2502\n",
      "Matrícula detectada en fotograma 2502: [II con confianza 0.25748738522894427\n",
      "Procesando fotograma 2503\n",
      "Matrícula detectada en fotograma 2503: (I con confianza 0.3960304177297382\n",
      "Procesando fotograma 2504\n",
      "Procesando fotograma 2505\n",
      "Matrícula detectada en fotograma 2505: (II con confianza 0.5824057105753184\n",
      "Procesando fotograma 2506\n",
      "Procesando fotograma 2507\n",
      "Procesando fotograma 2508\n",
      "Procesando fotograma 2509\n",
      "Procesando fotograma 2510\n",
      "Procesando fotograma 2511\n",
      "Procesando fotograma 2512\n",
      "Procesando fotograma 2513\n",
      "Procesando fotograma 2514\n",
      "Procesando fotograma 2515\n",
      "Procesando fotograma 2516\n",
      "Procesando fotograma 2517\n",
      "Procesando fotograma 2518\n",
      "Procesando fotograma 2519\n",
      "Procesando fotograma 2520\n",
      "Procesando fotograma 2521\n",
      "Procesando fotograma 2522\n",
      "Procesando fotograma 2523\n",
      "Procesando fotograma 2524\n",
      "Procesando fotograma 2525\n",
      "Procesando fotograma 2526\n",
      "Procesando fotograma 2527\n",
      "Matrícula detectada en fotograma 2527: n con confianza 0.798679241438677\n",
      "Procesando fotograma 2528\n",
      "Procesando fotograma 2529\n",
      "Procesando fotograma 2530\n",
      "Procesando fotograma 2531\n",
      "Procesando fotograma 2532\n",
      "Procesando fotograma 2533\n",
      "Procesando fotograma 2534\n",
      "Procesando fotograma 2535\n",
      "Procesando fotograma 2536\n",
      "Procesando fotograma 2537\n",
      "Procesando fotograma 2538\n",
      "Procesando fotograma 2539\n",
      "Procesando fotograma 2540\n",
      "Procesando fotograma 2541\n",
      "Procesando fotograma 2542\n",
      "Procesando fotograma 2543\n",
      "Procesando fotograma 2544\n",
      "Procesando fotograma 2545\n",
      "Procesando fotograma 2546\n",
      "Procesando fotograma 2547\n",
      "Procesando fotograma 2548\n",
      "Procesando fotograma 2549\n",
      "Procesando fotograma 2550\n",
      "Procesando fotograma 2551\n",
      "Procesando fotograma 2552\n",
      "Procesando fotograma 2553\n",
      "Procesando fotograma 2554\n",
      "Procesando fotograma 2555\n",
      "Procesando fotograma 2556\n",
      "Procesando fotograma 2557\n",
      "Procesando fotograma 2558\n",
      "Procesando fotograma 2559\n",
      "Procesando fotograma 2560\n",
      "Procesando fotograma 2561\n",
      "Procesando fotograma 2562\n",
      "Procesando fotograma 2563\n",
      "Procesando fotograma 2564\n",
      "Procesando fotograma 2565\n",
      "Procesando fotograma 2566\n",
      "Procesando fotograma 2567\n",
      "Procesando fotograma 2568\n",
      "Procesando fotograma 2569\n",
      "Procesando fotograma 2570\n",
      "Procesando fotograma 2571\n",
      "Procesando fotograma 2572\n",
      "Procesando fotograma 2573\n",
      "Procesando fotograma 2574\n",
      "Procesando fotograma 2575\n",
      "Procesando fotograma 2576\n",
      "Procesando fotograma 2577\n",
      "Procesando fotograma 2578\n",
      "Procesando fotograma 2579\n",
      "Procesando fotograma 2580\n",
      "Procesando fotograma 2581\n",
      "Procesando fotograma 2582\n",
      "Procesando fotograma 2583\n",
      "Procesando fotograma 2584\n",
      "Procesando fotograma 2585\n",
      "Procesando fotograma 2586\n",
      "Procesando fotograma 2587\n",
      "Procesando fotograma 2588\n",
      "Procesando fotograma 2589\n",
      "Procesando fotograma 2590\n",
      "Procesando fotograma 2591\n",
      "Procesando fotograma 2592\n",
      "Procesando fotograma 2593\n",
      "Procesando fotograma 2594\n",
      "Procesando fotograma 2595\n",
      "Procesando fotograma 2596\n",
      "Procesando fotograma 2597\n",
      "Procesando fotograma 2598\n",
      "Procesando fotograma 2599\n",
      "Procesando fotograma 2600\n",
      "Procesando fotograma 2601\n",
      "Procesando fotograma 2602\n",
      "Procesando fotograma 2603\n",
      "Procesando fotograma 2604\n",
      "Procesando fotograma 2605\n",
      "Matrícula detectada en fotograma 2605: [ass con confianza 0.25973477959632874\n",
      "Procesando fotograma 2606\n",
      "Matrícula detectada en fotograma 2606: LSESIEP con confianza 0.2844730586811851\n",
      "Procesando fotograma 2607\n",
      "Procesando fotograma 2608\n",
      "Procesando fotograma 2609\n",
      "Procesando fotograma 2610\n",
      "Procesando fotograma 2611\n",
      "Procesando fotograma 2612\n",
      "Procesando fotograma 2613\n",
      "Procesando fotograma 2614\n",
      "Procesando fotograma 2615\n",
      "Procesando fotograma 2616\n",
      "Procesando fotograma 2617\n",
      "Procesando fotograma 2618\n",
      "Procesando fotograma 2619\n",
      "Procesando fotograma 2620\n",
      "Matrícula detectada en fotograma 2620: Fn con confianza 0.04422746771819166\n",
      "Procesando fotograma 2621\n",
      "Procesando fotograma 2622\n",
      "Procesando fotograma 2623\n",
      "Matrícula detectada en fotograma 2623: YIS con confianza 0.19391039052300393\n",
      "Procesando fotograma 2624\n",
      "Matrícula detectada en fotograma 2624: [1S6SKBE con confianza 0.3613217024106663\n",
      "Procesando fotograma 2625\n",
      "Procesando fotograma 2626\n",
      "Procesando fotograma 2627\n",
      "Matrícula detectada en fotograma 2627: E con confianza 0.2965001053567562\n",
      "Procesando fotograma 2628\n",
      "Procesando fotograma 2629\n",
      "Procesando fotograma 2630\n",
      "Matrícula detectada en fotograma 2630: 1965KBE con confianza 0.6090603477283824\n",
      "Procesando fotograma 2631\n",
      "Procesando fotograma 2632\n",
      "Matrícula detectada en fotograma 2632: 1965KBP con confianza 0.7069993411060486\n",
      "Procesando fotograma 2633\n",
      "Matrícula detectada en fotograma 2633: 1965KBP] con confianza 0.8593217109994222\n",
      "Procesando fotograma 2634\n",
      "Procesando fotograma 2635\n",
      "Procesando fotograma 2636\n",
      "Procesando fotograma 2637\n",
      "Procesando fotograma 2638\n",
      "Procesando fotograma 2639\n",
      "Procesando fotograma 2640\n",
      "Procesando fotograma 2641\n",
      "Procesando fotograma 2642\n",
      "Procesando fotograma 2643\n",
      "Procesando fotograma 2644\n",
      "Procesando fotograma 2645\n",
      "Procesando fotograma 2646\n",
      "Procesando fotograma 2647\n",
      "Procesando fotograma 2648\n",
      "Procesando fotograma 2649\n",
      "Procesando fotograma 2650\n",
      "Procesando fotograma 2651\n",
      "Procesando fotograma 2652\n",
      "Procesando fotograma 2653\n",
      "Procesando fotograma 2654\n",
      "Procesando fotograma 2655\n",
      "Procesando fotograma 2656\n",
      "Procesando fotograma 2657\n",
      "Procesando fotograma 2658\n",
      "Procesando fotograma 2659\n",
      "Procesando fotograma 2660\n",
      "Procesando fotograma 2661\n",
      "Procesando fotograma 2662\n",
      "Procesando fotograma 2663\n",
      "Procesando fotograma 2664\n",
      "Procesando fotograma 2665\n",
      "Procesando fotograma 2666\n",
      "Procesando fotograma 2667\n",
      "Procesando fotograma 2668\n",
      "Procesando fotograma 2669\n",
      "Procesando fotograma 2670\n",
      "Procesando fotograma 2671\n",
      "Procesando fotograma 2672\n",
      "Procesando fotograma 2673\n",
      "Procesando fotograma 2674\n",
      "Procesando fotograma 2675\n",
      "Procesando fotograma 2676\n",
      "Procesando fotograma 2677\n",
      "Procesando fotograma 2678\n",
      "Procesando fotograma 2679\n",
      "Procesando fotograma 2680\n",
      "Procesando fotograma 2681\n",
      "Procesando fotograma 2682\n",
      "Procesando fotograma 2683\n",
      "Matrícula detectada en fotograma 2683: (07B con confianza 0.07977879047393799\n",
      "Procesando fotograma 2684\n",
      "Procesando fotograma 2685\n",
      "Procesando fotograma 2686\n",
      "Procesando fotograma 2687\n",
      "Procesando fotograma 2688\n",
      "Procesando fotograma 2689\n",
      "Matrícula detectada en fotograma 2689: surs con confianza 0.10784077644348145\n",
      "Procesando fotograma 2690\n",
      "Matrícula detectada en fotograma 2690: ISII con confianza 0.5432462692260742\n",
      "Procesando fotograma 2691\n",
      "Procesando fotograma 2692\n",
      "Procesando fotograma 2693\n",
      "Procesando fotograma 2694\n",
      "Procesando fotograma 2695\n",
      "Procesando fotograma 2696\n",
      "Procesando fotograma 2697\n",
      "Procesando fotograma 2698\n",
      "Procesando fotograma 2699\n",
      "Procesando fotograma 2700\n",
      "Procesando fotograma 2701\n",
      "Procesando fotograma 2702\n",
      "Procesando fotograma 2703\n",
      "Procesando fotograma 2704\n",
      "Procesando fotograma 2705\n",
      "Procesando fotograma 2706\n",
      "Procesando fotograma 2707\n",
      "Procesando fotograma 2708\n",
      "Procesando fotograma 2709\n",
      "Procesando fotograma 2710\n",
      "Procesando fotograma 2711\n",
      "Procesando fotograma 2712\n",
      "Procesando fotograma 2713\n",
      "Procesando fotograma 2714\n",
      "Procesando fotograma 2715\n",
      "Procesando fotograma 2716\n",
      "Procesando fotograma 2717\n",
      "Procesando fotograma 2718\n",
      "Procesando fotograma 2719\n",
      "Procesando fotograma 2720\n",
      "Procesando fotograma 2721\n",
      "Procesando fotograma 2722\n",
      "Procesando fotograma 2723\n",
      "Procesando fotograma 2724\n",
      "Procesando fotograma 2725\n",
      "Procesando fotograma 2726\n",
      "Procesando fotograma 2727\n",
      "Procesando fotograma 2728\n",
      "Procesando fotograma 2729\n",
      "Procesando fotograma 2730\n",
      "Procesando fotograma 2731\n",
      "Procesando fotograma 2732\n",
      "Procesando fotograma 2733\n",
      "Procesando fotograma 2734\n",
      "Procesando fotograma 2735\n",
      "Procesando fotograma 2736\n",
      "Procesando fotograma 2737\n",
      "Procesando fotograma 2738\n",
      "Procesando fotograma 2739\n",
      "Procesando fotograma 2740\n",
      "Procesando fotograma 2741\n",
      "Procesando fotograma 2742\n",
      "Procesando fotograma 2743\n",
      "Procesando fotograma 2744\n",
      "Procesando fotograma 2745\n",
      "Procesando fotograma 2746\n",
      "Procesando fotograma 2747\n",
      "Procesando fotograma 2748\n",
      "Procesando fotograma 2749\n",
      "Procesando fotograma 2750\n",
      "Procesando fotograma 2751\n",
      "Procesando fotograma 2752\n",
      "Procesando fotograma 2753\n",
      "Procesando fotograma 2754\n",
      "Procesando fotograma 2755\n",
      "Procesando fotograma 2756\n",
      "Procesando fotograma 2757\n",
      "Procesando fotograma 2758\n",
      "Procesando fotograma 2759\n",
      "Procesando fotograma 2760\n",
      "Procesando fotograma 2761\n",
      "Procesando fotograma 2762\n",
      "Procesando fotograma 2763\n",
      "Procesando fotograma 2764\n",
      "Procesando fotograma 2765\n",
      "Procesando fotograma 2766\n",
      "Procesando fotograma 2767\n",
      "Procesando fotograma 2768\n",
      "Procesando fotograma 2769\n",
      "Procesando fotograma 2770\n",
      "Procesando fotograma 2771\n",
      "Procesando fotograma 2772\n",
      "Procesando fotograma 2773\n",
      "Procesando fotograma 2774\n",
      "Procesando fotograma 2775\n",
      "Procesando fotograma 2776\n",
      "Procesando fotograma 2777\n",
      "Procesando fotograma 2778\n",
      "Procesando fotograma 2779\n",
      "Procesando fotograma 2780\n",
      "Procesando fotograma 2781\n",
      "Procesando fotograma 2782\n",
      "Procesando fotograma 2783\n",
      "Procesando fotograma 2784\n",
      "Procesando fotograma 2785\n",
      "Procesando fotograma 2786\n",
      "Procesando fotograma 2787\n",
      "Procesando fotograma 2788\n",
      "Procesando fotograma 2789\n",
      "Procesando fotograma 2790\n",
      "Procesando fotograma 2791\n",
      "Procesando fotograma 2792\n",
      "Procesando fotograma 2793\n",
      "Procesando fotograma 2794\n",
      "Procesando fotograma 2795\n",
      "Procesando fotograma 2796\n",
      "Procesando fotograma 2797\n",
      "Procesando fotograma 2798\n",
      "Procesando fotograma 2799\n",
      "Procesando fotograma 2800\n",
      "Procesando fotograma 2801\n",
      "Procesando fotograma 2802\n",
      "Procesando fotograma 2803\n",
      "Procesando fotograma 2804\n",
      "Procesando fotograma 2805\n",
      "Procesando fotograma 2806\n",
      "Procesando fotograma 2807\n",
      "Procesando fotograma 2808\n",
      "Procesando fotograma 2809\n",
      "Procesando fotograma 2810\n",
      "Procesando fotograma 2811\n",
      "Procesando fotograma 2812\n",
      "Procesando fotograma 2813\n",
      "Procesando fotograma 2814\n",
      "Procesando fotograma 2815\n",
      "Procesando fotograma 2816\n",
      "Procesando fotograma 2817\n",
      "Procesando fotograma 2818\n",
      "Procesando fotograma 2819\n",
      "Procesando fotograma 2820\n",
      "Procesando fotograma 2821\n",
      "Procesando fotograma 2822\n",
      "Procesando fotograma 2823\n",
      "Procesando fotograma 2824\n",
      "Procesando fotograma 2825\n",
      "Procesando fotograma 2826\n",
      "Procesando fotograma 2827\n",
      "Procesando fotograma 2828\n",
      "Procesando fotograma 2829\n",
      "Procesando fotograma 2830\n",
      "Procesando fotograma 2831\n",
      "Procesando fotograma 2832\n",
      "Conteo total de objetos:\n",
      "person: 18\n",
      "bicycle: 1\n",
      "car: 67\n",
      "motorbike: 3\n",
      "bus: 0\n"
     ]
    }
   ],
   "source": [
    "import os\n",
    "import torch\n",
    "import cv2\n",
    "import easyocr\n",
    "import csv\n",
    "import logging\n",
    "from ultralytics import YOLO\n",
    "\n",
    "# Configura el logger para suprimir mensajes\n",
    "logging.getLogger('ultralytics').setLevel(logging.WARNING)\n",
    "\n",
    "# Verifica si se puede usar una GPU\n",
    "device = torch.device('cuda' if torch.cuda.is_available() else 'cpu')\n",
    "print(\"GPU disponible: \", torch.cuda.is_available())\n",
    "\n",
    "# Configuración de OCR\n",
    "reader = easyocr.Reader(['es'])\n",
    "\n",
    "classNames = [\"person\", \"bicycle\", \"car\", \"motorbike\", \"bus\"]\n",
    "\n",
    "# Cargar los modelos YOLO\n",
    "model_general = YOLO('yolo11n.pt')  # Modelo para detectar personas y vehículos\n",
    "model_plate = YOLO('runs/detect/train32/weights/best.pt')  # Modelo para detectar matrículas\n",
    "\n",
    "# Configuración del archivo de video y CSV\n",
    "filename = \"C0142.MP4\"\n",
    "output_video_filename = \"resultado_deteccion.mp4\"\n",
    "csv_filename = \"resultados.csv\"\n",
    "\n",
    "# Inicializar el video y el escritor\n",
    "cap = cv2.VideoCapture(filename)\n",
    "fps = int(cap.get(cv2.CAP_PROP_FPS))\n",
    "width, height = int(cap.get(cv2.CAP_PROP_FRAME_WIDTH)), int(cap.get(cv2.CAP_PROP_FRAME_HEIGHT))\n",
    "out_video = cv2.VideoWriter(output_video_filename, cv2.VideoWriter_fourcc(*'mp4v'), fps, (width, height))\n",
    "\n",
    "# Preparación del archivo CSV\n",
    "with open(csv_filename, mode='w', newline='') as csv_file:\n",
    "    csv_writer = csv.writer(csv_file)\n",
    "    csv_writer.writerow(['fotograma', 'tipo_objeto', 'confianza', 'identificador_tracking', 'x1', 'y1', 'x2', 'y2',\n",
    "                         'matrícula_en_su_caso', 'texto_matricula'])\n",
    "\n",
    "    # Variables de conteo y seguimiento de objetos únicos\n",
    "    conteo_clases = {name: 0 for name in classNames}\n",
    "    track_ids_contados = set()  # Set para almacenar track_ids únicos\n",
    "\n",
    "    # Procesar el video con detección general\n",
    "    results = model_general.track(source=filename, show=True, stream=True, verbose=False)\n",
    "    frame_count = 0\n",
    "\n",
    "    # Almacenar matrículas y sus IDs para el seguimiento con su confianza\n",
    "    matrículas_seguimiento = {}\n",
    "\n",
    "    # Iterar sobre cada resultado por frame\n",
    "    for frame_result in results:\n",
    "        frame_count += 1\n",
    "        frame = frame_result.orig_img\n",
    "\n",
    "        # Imprimir fotograma actual y total de fotogramas\n",
    "        print(f'Procesando fotograma {frame_count}')\n",
    "\n",
    "        # Obtener detecciones y agregar track_id de cada objeto\n",
    "        for box in frame_result.boxes:\n",
    "            x1, y1, x2, y2 = map(int, box.xyxy[0])\n",
    "            score = box.conf[0].item()\n",
    "            label = int(box.cls[0])\n",
    "            track_id = int(box.id[0]) if box.id is not None else -1\n",
    "\n",
    "            if score >= 0.4:  # Umbral de confianza\n",
    "                if 0 <= label < len(classNames):\n",
    "                    label_name = classNames[label]\n",
    "\n",
    "                    # Verificar si el objeto ya fue contado\n",
    "                    if track_id not in track_ids_contados:\n",
    "                        track_ids_contados.add(track_id)  # Añadir track_id al set para evitar conteo duplicado\n",
    "                        conteo_clases[label_name] += 1  # Contar solo si es la primera vez que se ve el track_id\n",
    "\n",
    "                    # Dibujar el rectángulo y mostrar el ID de seguimiento en el objeto\n",
    "                    cv2.rectangle(frame, (x1, y1), (x2, y2), (255, 0, 0), 2)\n",
    "                    cv2.putText(frame, f'ID: {track_id}', (x1, y1 - 10), cv2.FONT_HERSHEY_SIMPLEX, 0.6, (255, 255, 0), 2)\n",
    "                    cv2.putText(frame, label_name, (x1, y1 - 25), cv2.FONT_HERSHEY_SIMPLEX, 0.6, (0, 255, 255), 2)\n",
    "\n",
    "                    # Procesar solo si es un vehículo para buscar matrículas\n",
    "                    if label_name in [\"car\", \"bus\", \"motorbike\"]: \n",
    "                        roi = frame[y1:y2, x1:x2]  # Región de interés (ROI) del vehículo\n",
    "\n",
    "                        # Usar el modelo de matrículas para detectar matrículas en la ROI\n",
    "                        plate_results = model_plate.predict(source=roi, show=False)  \n",
    "\n",
    "                        # Procesar los resultados de detección de matrículas\n",
    "                        for plate_result in plate_results:\n",
    "                            for plate_box in plate_result.boxes:\n",
    "                                plate_x1, plate_y1, plate_x2, plate_y2 = map(int, plate_box.xyxy[0])\n",
    "                                plate_score = plate_box.conf[0].item()\n",
    "\n",
    "                                if plate_score >= 0.3:  # Umbral de confianza para matrículas\n",
    "                                    # Dibuja el rectángulo de la matrícula en el frame\n",
    "                                    cv2.rectangle(frame, (plate_x1 + x1, plate_y1 + y1), (plate_x2 + x1, plate_y2 + y1), (0, 255, 0), 2)\n",
    "\n",
    "                                    # Leer el texto de la matrícula con preprocesamiento\n",
    "                                    roi_plate = roi[plate_y1:plate_y2, plate_x1:plate_x2]\n",
    "                                    roi_plate = cv2.cvtColor(roi_plate, cv2.COLOR_BGR2GRAY)\n",
    "                                    roi_plate = cv2.equalizeHist(roi_plate)\n",
    "                                    roi_plate = cv2.adaptiveThreshold(roi_plate, 255, cv2.ADAPTIVE_THRESH_GAUSSIAN_C, cv2.THRESH_BINARY, 11, 2)\n",
    "                                    roi_plate = cv2.GaussianBlur(roi_plate, (3, 3), 0)\n",
    "\n",
    "                                    # Aplicar OCR a la ROI de la matrícula\n",
    "                                    ocr_results_plate = reader.readtext(roi_plate)\n",
    "                                    if ocr_results_plate:\n",
    "                                        matricula_texto = ocr_results_plate[0][-2]  # Texto detectado\n",
    "                                        ocr_confianza = ocr_results_plate[0][-1]  # Confianza de la lectura\n",
    "\n",
    "                                        # Almacenar solo la matrícula con mayor confianza\n",
    "                                        if (track_id not in matrículas_seguimiento) or (ocr_confianza > matrículas_seguimiento[track_id][1]):\n",
    "                                            matrículas_seguimiento[track_id] = (matricula_texto, ocr_confianza)\n",
    "                                            print(f'Matrícula detectada en fotograma {frame_count}: {matricula_texto} con confianza {ocr_confianza}')\n",
    "\n",
    "                                    # Obtener la matrícula de mayor confianza para el CSV\n",
    "                                    texto_matricula = matrículas_seguimiento[track_id][0] if track_id in matrículas_seguimiento else \"N/A\"\n",
    "\n",
    "                                    # Escribir en el archivo CSV\n",
    "                                    csv_writer.writerow([frame_count, label_name, score, track_id, x1, y1, x2, y2,\n",
    "                                                         \"matrícula\", texto_matricula])\n",
    "\n",
    "                                    # Mostrar el texto de la matrícula en el video\n",
    "                                    cv2.putText(frame, texto_matricula, (plate_x1 + x1, plate_y1 + y1 - 10), \n",
    "                                                cv2.FONT_HERSHEY_SIMPLEX, 0.6, (0, 255, 0), 2)\n",
    "                                    break\n",
    "                        else:\n",
    "                            csv_writer.writerow([frame_count, label_name, score, track_id, x1, y1, x2, y2, \"N/A\", \"N/A\"])\n",
    "                    else:\n",
    "                        csv_writer.writerow([frame_count, label_name, score, track_id, x1, y1, x2, y2, \"N/A\", \"N/A\"])\n",
    "\n",
    "                    # Mostrar la matrícula correspondiente si ya fue detectada con el texto de mayor confianza\n",
    "                    if track_id in matrículas_seguimiento:\n",
    "                        cv2.putText(frame, matrículas_seguimiento[track_id][0], (x1, y1 - 40), \n",
    "                                    cv2.FONT_HERSHEY_SIMPLEX, 0.6, (0, 255, 0), 2)\n",
    "\n",
    "        # Guardar el frame procesado en el archivo de video\n",
    "        out_video.write(frame)\n",
    "\n",
    "# Liberar recursos\n",
    "cap.release()\n",
    "out_video.release()\n",
    "cv2.destroyAllWindows()\n",
    "\n",
    "# Mostrar conteo de clases\n",
    "print(\"Conteo total de objetos:\")\n",
    "for clase, conteo in conteo_clases.items():\n",
    "    print(f\"{clase}: {conteo}\")\n"
   ]
  },
  {
   "cell_type": "code",
   "execution_count": 3,
   "metadata": {},
   "outputs": [
    {
     "name": "stdout",
     "output_type": "stream",
     "text": [
      "   epoch     time  train/box_loss  train/cls_loss  train/dfl_loss  \\\n",
      "0      1  16.3273         1.73477         4.59069         1.53452   \n",
      "1      2  30.6906         1.12390         3.70477         1.06421   \n",
      "2      3  44.3978         1.22406         2.82667         1.07593   \n",
      "3      4  49.7975         1.15502         2.02121         1.03477   \n",
      "4      5  63.2291         1.12518         2.02532         1.03671   \n",
      "\n",
      "   metrics/precision(B)  metrics/recall(B)  metrics/mAP50(B)  \\\n",
      "0               0.00011            0.03448           0.00006   \n",
      "1               0.00333            1.00000           0.85933   \n",
      "2               0.00333            1.00000           0.75590   \n",
      "3               0.00333            1.00000           0.07031   \n",
      "4               0.00333            1.00000           0.00722   \n",
      "\n",
      "   metrics/mAP50-95(B)  val/box_loss  val/cls_loss  val/dfl_loss    lr/pg0  \\\n",
      "0              0.00002       1.25803       4.38688       1.55557  0.000120   \n",
      "1              0.51223       0.88464       3.55089       0.85380  0.000258   \n",
      "2              0.36237       1.05274       3.57200       0.93720  0.000395   \n",
      "3              0.02965       0.98726       3.66071       0.94826  0.000529   \n",
      "4              0.00408       0.85009       3.54203       0.90871  0.000662   \n",
      "\n",
      "     lr/pg1    lr/pg2  \n",
      "0  0.000120  0.000120  \n",
      "1  0.000258  0.000258  \n",
      "2  0.000395  0.000395  \n",
      "3  0.000529  0.000529  \n",
      "4  0.000662  0.000662  \n",
      "Columnas disponibles: Index(['epoch', 'time', 'train/box_loss', 'train/cls_loss', 'train/dfl_loss',\n",
      "       'metrics/precision(B)', 'metrics/recall(B)', 'metrics/mAP50(B)',\n",
      "       'metrics/mAP50-95(B)', 'val/box_loss', 'val/cls_loss', 'val/dfl_loss',\n",
      "       'lr/pg0', 'lr/pg1', 'lr/pg2'],\n",
      "      dtype='object')\n"
     ]
    },
    {
     "data": {
      "image/png": "[encoded data removed]",
      "text/plain": [
       "<Figure size 1000x500 with 1 Axes>"
      ]
     },
     "metadata": {},
     "output_type": "display_data"
    },
    {
     "data": {
      "image/png": "[encoded data removed]",
      "text/plain": [
       "<Figure size 1000x500 with 1 Axes>"
      ]
     },
     "metadata": {},
     "output_type": "display_data"
    }
   ],
   "source": [
    "import pandas as pd\n",
    "import matplotlib.pyplot as plt\n",
    "import json\n",
    "import os\n",
    "\n",
    "# Asegurarse de que las gráficas se muestren en el notebook\n",
    "%matplotlib inline\n",
    "\n",
    "# Leer el archivo CSV de resultados\n",
    "results_csv_path = './runs/detect/train32/results.csv'\n",
    "results_df = pd.read_csv(results_csv_path)\n",
    "\n",
    "# Mostrar las primeras filas del DataFrame y las columnas disponibles\n",
    "print(results_df.head())\n",
    "print(\"Columnas disponibles:\", results_df.columns)\n",
    "\n",
    "# Verificar si las columnas necesarias existen\n",
    "required_columns = ['epoch', 'val/box_loss', 'train/box_loss', 'metrics/precision(B)', 'metrics/recall(B)', 'metrics/mAP50(B)', 'metrics/mAP50-95(B)']\n",
    "for col in required_columns:\n",
    "    if col not in results_df.columns:\n",
    "        print(f\"Error: La columna {col} no existe en el DataFrame.\")\n",
    "        exit()\n",
    "\n",
    "# Graficar las métricas de entrenamiento y validación\n",
    "plt.figure(figsize=(10, 5))\n",
    "plt.plot(results_df['epoch'], results_df['val/box_loss'], label='Validation Box Loss')\n",
    "plt.plot(results_df['epoch'], results_df['train/box_loss'], label='Training Box Loss')\n",
    "plt.xlabel('Epoch')\n",
    "plt.ylabel('Loss')\n",
    "plt.legend()\n",
    "plt.title('Training and Validation Box Loss')\n",
    "plt.grid(True)\n",
    "plt.show()\n",
    "\n",
    "plt.figure(figsize=(10, 5))\n",
    "plt.plot(results_df['epoch'], results_df['metrics/precision(B)'], label='Precision')\n",
    "plt.plot(results_df['epoch'], results_df['metrics/recall(B)'], label='Recall')\n",
    "plt.plot(results_df['epoch'], results_df['metrics/mAP50(B)'], label='mAP50')\n",
    "plt.plot(results_df['epoch'], results_df['metrics/mAP50-95(B)'], label='mAP50-95')\n",
    "plt.xlabel('Epoch')\n",
    "plt.ylabel('Metrics')\n",
    "plt.legend()\n",
    "plt.title('Precision, Recall, and mAP Metrics')\n",
    "plt.grid(True)\n",
    "plt.show()"
   ]
  }
 ],
 "metadata": {
  "kernelspec": {
   "display_name": "VC_P4",
   "language": "python",
   "name": "python3"
  },
  "language_info": {
   "codemirror_mode": {
    "name": "ipython",
    "version": 3
   },
   "file_extension": ".py",
   "mimetype": "text/x-python",
   "name": "python",
   "nbconvert_exporter": "python",
   "pygments_lexer": "ipython3",
   "version": "3.10.15"
  }
 },
 "nbformat": 4,
 "nbformat_minor": 2
}
